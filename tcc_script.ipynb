{
 "cells": [
  {
   "cell_type": "markdown",
   "id": "f66258e5",
   "metadata": {},
   "source": [
    "\n",
    "# Imports"
   ]
  },
  {
   "cell_type": "code",
   "execution_count": 12,
   "id": "712263d8",
   "metadata": {
    "ExecuteTime": {
     "end_time": "2021-07-09T23:59:09.016555Z",
     "start_time": "2021-07-09T23:59:08.979585Z"
    }
   },
   "outputs": [],
   "source": [
    "import pandas as pd\n",
    "import numpy as np\n",
    "import seaborn as sns\n",
    "import matplotlib.pyplot as plt\n",
    "import plotly.express as px\n",
    "from sklearn.preprocessing import StandardScaler\n",
    "from sklearn.preprocessing import OneHotEncoder\n",
    "from sklearn.compose import ColumnTransformer\n",
    "from sklearn.model_selection import train_test_split\n",
    "from sklearn.naive_bayes import GaussianNB\n",
    "from sklearn.metrics import accuracy_score, confusion_matrix, classification_report\n",
    "from sklearn.tree import DecisionTreeClassifier"
   ]
  },
  {
   "cell_type": "markdown",
   "id": "6bde186e",
   "metadata": {},
   "source": [
    "# Carregamento dos dados"
   ]
  },
  {
   "cell_type": "code",
   "execution_count": 3,
   "id": "3519c5d7",
   "metadata": {
    "ExecuteTime": {
     "end_time": "2021-07-09T23:37:39.329982Z",
     "start_time": "2021-07-09T23:35:01.391240Z"
    },
    "scrolled": true
   },
   "outputs": [],
   "source": [
    "data_2017 = pd.read_csv('dataset/ETLSINASC.DNRES_2017.csv', sep='\\t')\n",
    "\n",
    "rp_2017 = data_2017.loc[data_2017['nasc_MUNNOMEX'] == 'RIBEIRAO PRETO']\n",
    "\n",
    "sinha_2017 = rp_2017.loc[rp_2017['CODESTAB'] == 2078791]\n",
    "\n",
    "hc_2017 = rp_2017.loc[rp_2017['CODESTAB'] == 2082187]\n",
    "\n",
    "hosp_sao_paulo_2017 = rp_2017.loc[rp_2017['CODESTAB'] == 2079038]\n",
    "\n",
    "mater_2017 = rp_2017.loc[rp_2017['CODESTAB'] == 2079119]\n",
    "\n",
    "santa_casa_2017 = rp_2017.loc[rp_2017['CODESTAB'] == 2084414]\n",
    "\n",
    "sao_lucas_2017 = rp_2017.loc[rp_2017['CODESTAB'].isin([5171946, 2077973, 3604624])]\n",
    "\n",
    "santa_lydia_2017 = rp_2017.loc[rp_2017['CODESTAB'] == 2081164]\n",
    "\n",
    "electro_bonini_2017 = rp_2017.loc[rp_2017['CODESTAB'] == 3314766]\n",
    "\n",
    "publico = [mater_2017, santa_casa_2017, hc_2017, santa_lydia_2017, electro_bonini_2017]\n",
    "\n",
    "publico_2017 = pd.concat(publico)\n",
    "\n",
    "privado = [sinha_2017, hosp_sao_paulo_2017, sao_lucas_2017]\n",
    "\n",
    "privado_2017 = pd.concat(privado)"
   ]
  },
  {
   "cell_type": "code",
   "execution_count": 4,
   "id": "e07818fd",
   "metadata": {
    "ExecuteTime": {
     "end_time": "2021-07-09T23:39:26.385895Z",
     "start_time": "2021-07-09T23:37:39.356621Z"
    },
    "hide_input": false
   },
   "outputs": [],
   "source": [
    "data_2016 = pd.read_csv('dataset/ETLSINASC.DNRES_2016.csv', sep='\\t')\n",
    "\n",
    "rp_2016 = data_2016.loc[data_2016['nasc_MUNNOMEX'] == 'RIBEIRAO PRETO']\n",
    "\n",
    "sinha_2016 = rp_2016.loc[rp_2016['CODESTAB'] == 2078791]\n",
    "\n",
    "hc_2016 = rp_2016.loc[rp_2016['CODESTAB'] == 2082187]\n",
    "\n",
    "hosp_sao_paulo_2016 = rp_2016.loc[rp_2016['CODESTAB'] == 2079038]\n",
    "\n",
    "mater_2016 = rp_2016.loc[rp_2016['CODESTAB'] == 2079119]\n",
    "\n",
    "santa_casa_2016 = rp_2016.loc[rp_2016['CODESTAB'] == 2084414]\n",
    "\n",
    "sao_lucas_2016 = rp_2016.loc[rp_2016['CODESTAB'].isin([5171946, 2077973, 3604624])]\n",
    "\n",
    "santa_lydia_2016 = rp_2016.loc[rp_2016['CODESTAB'] == 2081164]\n",
    "\n",
    "electro_bonini_2016 = rp_2016.loc[rp_2016['CODESTAB'] == 3314766]\n",
    "\n",
    "publico = [mater_2016, santa_casa_2016, hc_2016, santa_lydia_2016, electro_bonini_2016]\n",
    "\n",
    "publico_2016 = pd.concat(publico)\n",
    "\n",
    "privado = [sinha_2016, hosp_sao_paulo_2016, sao_lucas_2016]\n",
    "\n",
    "privado_2016 = pd.concat(privado)"
   ]
  },
  {
   "cell_type": "code",
   "execution_count": 5,
   "id": "a6b9630c",
   "metadata": {
    "ExecuteTime": {
     "end_time": "2021-07-09T23:41:23.614499Z",
     "start_time": "2021-07-09T23:39:26.451303Z"
    }
   },
   "outputs": [
    {
     "name": "stderr",
     "output_type": "stream",
     "text": [
      "C:\\Users\\leotm\\anaconda3\\lib\\site-packages\\IPython\\core\\interactiveshell.py:3165: DtypeWarning: Columns (30) have mixed types.Specify dtype option on import or set low_memory=False.\n",
      "  has_raised = await self.run_ast_nodes(code_ast.body, cell_name,\n"
     ]
    }
   ],
   "source": [
    "data_2014 = pd.read_csv('dataset/ETLSINASC.DNRES_2014.csv', sep='\\t')\n",
    "\n",
    "rp_2014 = data_2014.loc[data_2014['nasc_MUNNOMEX'] == 'RIBEIRAO PRETO']\n",
    "\n",
    "sinha_2014 = rp_2014.loc[rp_2014['CODESTAB'] == 2078791]\n",
    "\n",
    "hc_2014 = rp_2014.loc[rp_2014['CODESTAB'] == 2082187]\n",
    "\n",
    "hosp_sao_paulo_2014 = rp_2014.loc[rp_2014['CODESTAB'] == 2079038]\n",
    "\n",
    "mater_2014 = rp_2014.loc[rp_2014['CODESTAB'] == 2079119]\n",
    "\n",
    "santa_casa_2014 = rp_2014.loc[rp_2014['CODESTAB'] == 2084414]\n",
    "\n",
    "sao_lucas_2014 = rp_2014.loc[rp_2014['CODESTAB'].isin([5171946, 2077973, 3604624])]\n",
    "\n",
    "santa_lydia_2014 = rp_2014.loc[rp_2014['CODESTAB'] == 2081164]\n",
    "\n",
    "electro_bonini_2014 = rp_2014.loc[rp_2014['CODESTAB'] == 3314766]\n",
    "\n",
    "publico = [mater_2014, santa_casa_2014, hc_2014, santa_lydia_2014, electro_bonini_2014]\n",
    "\n",
    "publico_2014 = pd.concat(publico)\n",
    "\n",
    "privado = [sinha_2014, hosp_sao_paulo_2014, sao_lucas_2014]\n",
    "\n",
    "privado_2014 = pd.concat(privado)"
   ]
  },
  {
   "cell_type": "code",
   "execution_count": 6,
   "id": "573d9e07",
   "metadata": {
    "ExecuteTime": {
     "end_time": "2021-07-09T23:43:05.684804Z",
     "start_time": "2021-07-09T23:41:23.699549Z"
    }
   },
   "outputs": [],
   "source": [
    "data_2013 = pd.read_csv('dataset/ETLSINASC.DNRES_2013.csv', sep='\\t')\n",
    "\n",
    "rp_2013 = data_2013.loc[data_2013['nasc_MUNNOMEX'] == 'RIBEIRAO PRETO']\n",
    "\n",
    "sinha_2013 = rp_2013.loc[rp_2013['CODESTAB'] == 2078791]\n",
    "\n",
    "hc_2013 = rp_2013.loc[rp_2013['CODESTAB'] == 2082187]\n",
    "\n",
    "hosp_sao_paulo_2013 = rp_2013.loc[rp_2013['CODESTAB'] == 2079038]\n",
    "\n",
    "mater_2013 = rp_2013.loc[rp_2013['CODESTAB'] == 2079119]\n",
    "\n",
    "santa_casa_2013 = rp_2013.loc[rp_2013['CODESTAB'] == 2084414]\n",
    "\n",
    "sao_lucas_2013 = rp_2013.loc[rp_2013['CODESTAB'].isin([5171946, 2077973, 3604624])]\n",
    "\n",
    "santa_lydia_2013 = rp_2013.loc[rp_2013['CODESTAB'] == 2081164]\n",
    "\n",
    "electro_bonini_2013 = rp_2013.loc[rp_2013['CODESTAB'] == 3314766]\n",
    "\n",
    "publico = [mater_2013, santa_casa_2013, hc_2013, santa_lydia_2013, electro_bonini_2013]\n",
    "\n",
    "publico_2013 = pd.concat(publico)\n",
    "\n",
    "privado = [sinha_2013, hosp_sao_paulo_2013, sao_lucas_2013]\n",
    "\n",
    "privado_2013 = pd.concat(privado)"
   ]
  },
  {
   "cell_type": "code",
   "execution_count": 7,
   "id": "89f96284",
   "metadata": {
    "ExecuteTime": {
     "end_time": "2021-07-09T23:44:52.958436Z",
     "start_time": "2021-07-09T23:43:05.737871Z"
    }
   },
   "outputs": [],
   "source": [
    "data_2012 = pd.read_csv('dataset/ETLSINASC.DNRES_2012.csv', sep='\\t')\n",
    "\n",
    "rp_2012 = data_2012.loc[data_2012['nasc_MUNNOMEX'] == 'RIBEIRAO PRETO']\n",
    "\n",
    "sinha_2012 = rp_2012.loc[rp_2012['CODESTAB'] == 2078791]\n",
    "\n",
    "hc_2012 = rp_2012.loc[rp_2012['CODESTAB'] == 2082187]\n",
    "\n",
    "hosp_sao_paulo_2012 = rp_2012.loc[rp_2012['CODESTAB'] == 2079038]\n",
    "\n",
    "mater_2012 = rp_2012.loc[rp_2012['CODESTAB'] == 2079119]\n",
    "\n",
    "santa_casa_2012 = rp_2012.loc[rp_2012['CODESTAB'] == 2084414]\n",
    "\n",
    "sao_lucas_2012 = rp_2012.loc[rp_2012['CODESTAB'].isin([5171946, 2077973, 3604624])]\n",
    "\n",
    "santa_lydia_2012 = rp_2012.loc[rp_2012['CODESTAB'] == 2081164]\n",
    "\n",
    "electro_bonini_2012 = rp_2012.loc[rp_2012['CODESTAB'] == 3314766]\n",
    "\n",
    "publico = [mater_2012, santa_casa_2012, hc_2012, santa_lydia_2012, electro_bonini_2012]\n",
    "\n",
    "publico_2012 = pd.concat(publico)\n",
    "\n",
    "privado = [sinha_2012, hosp_sao_paulo_2012, sao_lucas_2012]\n",
    "\n",
    "privado_2012 = pd.concat(privado)"
   ]
  },
  {
   "cell_type": "code",
   "execution_count": 8,
   "id": "6db3ad02",
   "metadata": {
    "ExecuteTime": {
     "end_time": "2021-07-09T23:46:37.203530Z",
     "start_time": "2021-07-09T23:44:53.021239Z"
    }
   },
   "outputs": [
    {
     "name": "stderr",
     "output_type": "stream",
     "text": [
      "C:\\Users\\leotm\\anaconda3\\lib\\site-packages\\IPython\\core\\interactiveshell.py:3165: DtypeWarning: Columns (30) have mixed types.Specify dtype option on import or set low_memory=False.\n",
      "  has_raised = await self.run_ast_nodes(code_ast.body, cell_name,\n"
     ]
    }
   ],
   "source": [
    "data_2011 = pd.read_csv('dataset/ETLSINASC.DNRES_2011.csv', sep='\\t')\n",
    "\n",
    "rp_2011 = data_2011.loc[data_2011['nasc_MUNNOMEX'] == 'RIBEIRAO PRETO']\n",
    "\n",
    "sinha_2011 = rp_2011.loc[rp_2011['CODESTAB'] == 2078791]\n",
    "\n",
    "hc_2011 = rp_2011.loc[rp_2011['CODESTAB'] == 2082187]\n",
    "\n",
    "hosp_sao_paulo_2011 = rp_2011.loc[rp_2011['CODESTAB'] == 2079038]\n",
    "\n",
    "mater_2011 = rp_2011.loc[rp_2011['CODESTAB'] == 2079119]\n",
    "\n",
    "santa_casa_2011 = rp_2011.loc[rp_2011['CODESTAB'] == 2084414]\n",
    "\n",
    "sao_lucas_2011 = rp_2011.loc[rp_2011['CODESTAB'].isin([5171946, 2077973, 3604624])]\n",
    "\n",
    "santa_lydia_2011 = rp_2011.loc[rp_2011['CODESTAB'] == 2081164]\n",
    "\n",
    "electro_bonini_2011 = rp_2011.loc[rp_2011['CODESTAB'] == 3314766]\n",
    "\n",
    "publico = [mater_2011, santa_casa_2011, hc_2011, santa_lydia_2011, electro_bonini_2011]\n",
    "\n",
    "publico_2011 = pd.concat(publico)\n",
    "\n",
    "privado = [sinha_2011, hosp_sao_paulo_2011, sao_lucas_2011]\n",
    "\n",
    "privado_2011 = pd.concat(privado)"
   ]
  },
  {
   "cell_type": "code",
   "execution_count": 9,
   "id": "45fefa7e",
   "metadata": {
    "ExecuteTime": {
     "end_time": "2021-07-09T23:48:19.210842Z",
     "start_time": "2021-07-09T23:46:37.241941Z"
    }
   },
   "outputs": [
    {
     "name": "stderr",
     "output_type": "stream",
     "text": [
      "C:\\Users\\leotm\\anaconda3\\lib\\site-packages\\IPython\\core\\interactiveshell.py:3165: DtypeWarning: Columns (30) have mixed types.Specify dtype option on import or set low_memory=False.\n",
      "  has_raised = await self.run_ast_nodes(code_ast.body, cell_name,\n"
     ]
    }
   ],
   "source": [
    "data_2010 = pd.read_csv('dataset/ETLSINASC.DNRES_2010.csv', sep='\\t')\n",
    "\n",
    "rp_2010 = data_2010.loc[data_2010['nasc_MUNNOMEX'] == 'RIBEIRAO PRETO']\n",
    "\n",
    "sinha_2010 = rp_2010.loc[rp_2010['CODESTAB'] == 2078791]\n",
    "\n",
    "hc_2010 = rp_2010.loc[rp_2010['CODESTAB'] == 2082187]\n",
    "\n",
    "hosp_sao_paulo_2010 = rp_2010.loc[rp_2010['CODESTAB'] == 2079038]\n",
    "\n",
    "mater_2010 = rp_2010.loc[rp_2010['CODESTAB'] == 2079119]\n",
    "\n",
    "santa_casa_2010 = rp_2010.loc[rp_2010['CODESTAB'] == 2084414]\n",
    "\n",
    "sao_lucas_2010 = rp_2010.loc[rp_2010['CODESTAB'].isin([5171946, 2077973, 3604624])]\n",
    "\n",
    "santa_lydia_2010 = rp_2010.loc[rp_2010['CODESTAB'] == 2081164]\n",
    "\n",
    "electro_bonini_2010 = rp_2010.loc[rp_2010['CODESTAB'] == 3314766]\n",
    "\n",
    "publico = [mater_2010, santa_casa_2010, hc_2010, santa_lydia_2010, electro_bonini_2010]\n",
    "\n",
    "publico_2010 = pd.concat(publico)\n",
    "\n",
    "privado = [sinha_2010, hosp_sao_paulo_2010, sao_lucas_2010]\n",
    "\n",
    "privado_2010 = pd.concat(privado)"
   ]
  },
  {
   "cell_type": "code",
   "execution_count": 10,
   "id": "4d80ad21",
   "metadata": {
    "ExecuteTime": {
     "end_time": "2021-07-09T23:49:58.976187Z",
     "start_time": "2021-07-09T23:48:19.275213Z"
    }
   },
   "outputs": [
    {
     "name": "stderr",
     "output_type": "stream",
     "text": [
      "C:\\Users\\leotm\\anaconda3\\lib\\site-packages\\IPython\\core\\interactiveshell.py:3165: DtypeWarning: Columns (30) have mixed types.Specify dtype option on import or set low_memory=False.\n",
      "  has_raised = await self.run_ast_nodes(code_ast.body, cell_name,\n"
     ]
    }
   ],
   "source": [
    "data_2009 = pd.read_csv('dataset/ETLSINASC.DNRES_2009.csv', sep='\\t')\n",
    "\n",
    "rp_2009 = data_2009.loc[data_2009['nasc_MUNNOMEX'] == 'RIBEIRAO PRETO']\n",
    "\n",
    "sinha_2009 = rp_2009.loc[rp_2009['CODESTAB'] == 2078791]\n",
    "\n",
    "hc_2009 = rp_2009.loc[rp_2009['CODESTAB'] == 2082187]\n",
    "\n",
    "hosp_sao_paulo_2009 = rp_2009.loc[rp_2009['CODESTAB'] == 2079038]\n",
    "\n",
    "mater_2009 = rp_2009.loc[rp_2009['CODESTAB'] == 2079119]\n",
    "\n",
    "santa_casa_2009 = rp_2009.loc[rp_2009['CODESTAB'] == 2084414]\n",
    "\n",
    "sao_lucas_2009 = rp_2009.loc[rp_2009['CODESTAB'].isin([5171946, 2077973, 3604624])]\n",
    "\n",
    "santa_lydia_2009 = rp_2009.loc[rp_2009['CODESTAB'] == 2081164]\n",
    "\n",
    "electro_bonini_2009 = rp_2009.loc[rp_2009['CODESTAB'] == 3314766]\n",
    "\n",
    "publico = [mater_2009, santa_casa_2009, hc_2009, santa_lydia_2009, electro_bonini_2009]\n",
    "\n",
    "publico_2009 = pd.concat(publico)\n",
    "\n",
    "privado = [sinha_2009, hosp_sao_paulo_2009, sao_lucas_2009]\n",
    "\n",
    "privado_2009 = pd.concat(privado)"
   ]
  },
  {
   "cell_type": "code",
   "execution_count": 19,
   "id": "536098b0",
   "metadata": {
    "ExecuteTime": {
     "end_time": "2021-07-10T00:06:20.561692Z",
     "start_time": "2021-07-10T00:04:27.665738Z"
    }
   },
   "outputs": [],
   "source": [
    "data_2008 = pd.read_csv('dataset/ETLSINASC.DNRES_2008.csv', sep='\\t')\n",
    "\n",
    "rp_2008 = data_2008.loc[data_2008['nasc_MUNNOMEX'] == 'RIBEIRAO PRETO']\n",
    "\n",
    "sinha_2008 = rp_2008.loc[rp_2008['CODESTAB'] == 2078791]\n",
    "\n",
    "hc_2008 = rp_2008.loc[rp_2008['CODESTAB'] == 2082187]\n",
    "\n",
    "hosp_sao_paulo_2008 = rp_2008.loc[rp_2008['CODESTAB'] == 2079038]\n",
    "\n",
    "mater_2008 = rp_2008.loc[rp_2008['CODESTAB'] == 2079119]\n",
    "\n",
    "santa_casa_2008 = rp_2008.loc[rp_2008['CODESTAB'] == 2084414]\n",
    "\n",
    "sao_lucas_2008 = rp_2008.loc[rp_2008['CODESTAB'].isin([5171946, 2077973, 3604624])]\n",
    "\n",
    "santa_lydia_2008 = rp_2008.loc[rp_2008['CODESTAB'] == 2081164]\n",
    "\n",
    "electro_bonini_2008 = rp_2008.loc[rp_2008['CODESTAB'] == 3314766]\n",
    "\n",
    "publico = [mater_2008, santa_casa_2008, hc_2008, santa_lydia_2008, electro_bonini_2008]\n",
    "\n",
    "publico_2008 = pd.concat(publico)\n",
    "\n",
    "privado = [sinha_2008, hosp_sao_paulo_2008, sao_lucas_2008]\n",
    "\n",
    "privado_2008 = pd.concat(privado)"
   ]
  },
  {
   "cell_type": "code",
   "execution_count": 20,
   "id": "d9786257",
   "metadata": {
    "ExecuteTime": {
     "end_time": "2021-07-10T00:08:00.768216Z",
     "start_time": "2021-07-10T00:06:20.623704Z"
    }
   },
   "outputs": [],
   "source": [
    "data_2007 = pd.read_csv('dataset/ETLSINASC.DNRES_2007.csv', sep='\\t')\n",
    "\n",
    "rp_2007 = data_2007.loc[data_2007['nasc_MUNNOMEX'] == 'RIBEIRAO PRETO']\n",
    "\n",
    "sinha_2007 = rp_2007.loc[rp_2007['CODESTAB'] == 2078791]\n",
    "\n",
    "hc_2007 = rp_2007.loc[rp_2007['CODESTAB'] == 2082187]\n",
    "\n",
    "hosp_sao_paulo_2007 = rp_2007.loc[rp_2007['CODESTAB'] == 2079038]\n",
    "\n",
    "mater_2007 = rp_2007.loc[rp_2007['CODESTAB'] == 2079119]\n",
    "\n",
    "santa_casa_2007 = rp_2007.loc[rp_2007['CODESTAB'] == 2084414]\n",
    "\n",
    "sao_lucas_2007 = rp_2007.loc[rp_2007['CODESTAB'].isin([5171946, 2077973, 3604624])]\n",
    "\n",
    "santa_lydia_2007 = rp_2007.loc[rp_2007['CODESTAB'] == 2081164]\n",
    "\n",
    "electro_bonini_2007 = rp_2007.loc[rp_2007['CODESTAB'] == 3314766]\n",
    "\n",
    "publico = [mater_2007, santa_casa_2007, hc_2007, santa_lydia_2007, electro_bonini_2007]\n",
    "\n",
    "publico_2007 = pd.concat(publico)\n",
    "\n",
    "privado = [sinha_2007, hosp_sao_paulo_2007, sao_lucas_2007]\n",
    "\n",
    "privado_2007 = pd.concat(privado)"
   ]
  },
  {
   "cell_type": "code",
   "execution_count": 21,
   "id": "13861594",
   "metadata": {
    "ExecuteTime": {
     "end_time": "2021-07-10T00:09:44.309351Z",
     "start_time": "2021-07-10T00:08:00.857080Z"
    }
   },
   "outputs": [],
   "source": [
    "data_2006 = pd.read_csv('dataset/ETLSINASC.DNRES_2006.csv', sep='\\t')\n",
    "\n",
    "rp_2006 = data_2006.loc[data_2006['nasc_MUNNOMEX'] == 'RIBEIRAO PRETO']\n",
    "\n",
    "sinha_2006 = rp_2006.loc[rp_2006['CODESTAB'] == 2078791]\n",
    "\n",
    "hc_2006 = rp_2006.loc[rp_2006['CODESTAB'] == 2082187]\n",
    "\n",
    "hosp_sao_paulo_2006 = rp_2006.loc[rp_2006['CODESTAB'] == 2079038]\n",
    "\n",
    "mater_2006 = rp_2006.loc[rp_2006['CODESTAB'] == 2079119]\n",
    "\n",
    "santa_casa_2006 = rp_2006.loc[rp_2006['CODESTAB'] == 2084414]\n",
    "\n",
    "sao_lucas_2006 = rp_2006.loc[rp_2006['CODESTAB'].isin([5171946, 2077973, 3604624])]\n",
    "\n",
    "santa_lydia_2006 = rp_2006.loc[rp_2006['CODESTAB'] == 2081164]\n",
    "\n",
    "electro_bonini_2006 = rp_2006.loc[rp_2006['CODESTAB'] == 3314766]\n",
    "\n",
    "publico = [mater_2006, santa_casa_2006, hc_2006, santa_lydia_2006, electro_bonini_2006]\n",
    "\n",
    "publico_2006 = pd.concat(publico)\n",
    "\n",
    "privado = [sinha_2006, hosp_sao_paulo_2006, sao_lucas_2006]\n",
    "\n",
    "privado_2006 = pd.concat(privado)"
   ]
  },
  {
   "cell_type": "code",
   "execution_count": 30,
   "id": "337116ac",
   "metadata": {
    "ExecuteTime": {
     "end_time": "2021-07-10T03:26:21.645840Z",
     "start_time": "2021-07-10T03:26:14.542663Z"
    }
   },
   "outputs": [],
   "source": [
    "del data_2008, data_2007, data_2006\n"
   ]
  },
  {
   "cell_type": "code",
   "execution_count": 22,
   "id": "192b0178",
   "metadata": {
    "ExecuteTime": {
     "end_time": "2021-07-10T00:22:26.638174Z",
     "start_time": "2021-07-10T00:22:21.324661Z"
    }
   },
   "outputs": [],
   "source": [
    "publico = [publico_2017, publico_2016, publico_2014, publico_2013, publico_2012, publico_2011, publico_2010, publico_2009, publico_2008, publico_2007, publico_2006]\n",
    "\n",
    "publico_df = pd.concat(publico)\n",
    "\n",
    "privado = [privado_2017, privado_2016, privado_2014, privado_2013, privado_2012, privado_2011, privado_2010, privado_2009, privado_2008, privado_2007, privado_2006]\n",
    "\n",
    "privado_df = pd.concat(privado)"
   ]
  },
  {
   "cell_type": "markdown",
   "id": "0441864b",
   "metadata": {
    "hide_input": true
   },
   "source": [
    "# Pré-processamento dos dados"
   ]
  },
  {
   "cell_type": "code",
   "execution_count": null,
   "id": "3a0c30b4",
   "metadata": {
    "ExecuteTime": {
     "end_time": "2021-06-14T15:51:36.597424Z",
     "start_time": "2021-06-14T15:51:36.449106Z"
    }
   },
   "outputs": [],
   "source": [
    "# pegar apenas as colunas relevantes para o modelo\n",
    "pub = publico_df[['IDADEMAE', 'RACACOR', 'ESTCIVMAE', 'ESCMAE', 'PARIDADE', 'STTRABPART', 'TPROBSON', 'PARTO']].copy()\n",
    "priv = privado_df[['IDADEMAE', 'RACACOR', 'ESTCIVMAE', 'ESCMAE', 'PARIDADE', 'STTRABPART', 'TPROBSON', 'PARTO']].copy()"
   ]
  },
  {
   "cell_type": "code",
   "execution_count": 23,
   "id": "b9c36e99",
   "metadata": {
    "ExecuteTime": {
     "end_time": "2021-07-10T03:25:13.829269Z",
     "start_time": "2021-07-10T03:25:13.671711Z"
    }
   },
   "outputs": [],
   "source": [
    "# pegar apenas as colunas relevantes para o modelo\n",
    "pub = publico_df[['IDADEMAE', 'RACACOR', 'ESTCIVMAE', 'ESCMAE', 'PARTO']].copy()\n",
    "priv = privado_df[['IDADEMAE', 'RACACOR', 'ESTCIVMAE', 'ESCMAE', 'PARTO']].copy()"
   ]
  },
  {
   "cell_type": "code",
   "execution_count": 24,
   "id": "672be583",
   "metadata": {
    "ExecuteTime": {
     "end_time": "2021-07-10T03:25:18.346002Z",
     "start_time": "2021-07-10T03:25:18.253972Z"
    }
   },
   "outputs": [
    {
     "data": {
      "text/html": [
       "<div>\n",
       "<style scoped>\n",
       "    .dataframe tbody tr th:only-of-type {\n",
       "        vertical-align: middle;\n",
       "    }\n",
       "\n",
       "    .dataframe tbody tr th {\n",
       "        vertical-align: top;\n",
       "    }\n",
       "\n",
       "    .dataframe thead th {\n",
       "        text-align: right;\n",
       "    }\n",
       "</style>\n",
       "<table border=\"1\" class=\"dataframe\">\n",
       "  <thead>\n",
       "    <tr style=\"text-align: right;\">\n",
       "      <th></th>\n",
       "      <th>IDADEMAE</th>\n",
       "      <th>RACACOR</th>\n",
       "      <th>ESTCIVMAE</th>\n",
       "      <th>ESCMAE</th>\n",
       "      <th>PARTO</th>\n",
       "    </tr>\n",
       "  </thead>\n",
       "  <tbody>\n",
       "    <tr>\n",
       "      <th>count</th>\n",
       "      <td>71697.000000</td>\n",
       "      <td>71697.00000</td>\n",
       "      <td>71697.000000</td>\n",
       "      <td>71697.000000</td>\n",
       "      <td>71697.000000</td>\n",
       "    </tr>\n",
       "    <tr>\n",
       "      <th>mean</th>\n",
       "      <td>25.670419</td>\n",
       "      <td>1.88602</td>\n",
       "      <td>2.137412</td>\n",
       "      <td>3.771148</td>\n",
       "      <td>1.381787</td>\n",
       "    </tr>\n",
       "    <tr>\n",
       "      <th>std</th>\n",
       "      <td>6.514430</td>\n",
       "      <td>1.36625</td>\n",
       "      <td>1.669212</td>\n",
       "      <td>0.823366</td>\n",
       "      <td>0.500869</td>\n",
       "    </tr>\n",
       "    <tr>\n",
       "      <th>min</th>\n",
       "      <td>11.000000</td>\n",
       "      <td>1.00000</td>\n",
       "      <td>1.000000</td>\n",
       "      <td>1.000000</td>\n",
       "      <td>1.000000</td>\n",
       "    </tr>\n",
       "    <tr>\n",
       "      <th>25%</th>\n",
       "      <td>21.000000</td>\n",
       "      <td>1.00000</td>\n",
       "      <td>1.000000</td>\n",
       "      <td>3.000000</td>\n",
       "      <td>1.000000</td>\n",
       "    </tr>\n",
       "    <tr>\n",
       "      <th>50%</th>\n",
       "      <td>25.000000</td>\n",
       "      <td>1.00000</td>\n",
       "      <td>2.000000</td>\n",
       "      <td>4.000000</td>\n",
       "      <td>1.000000</td>\n",
       "    </tr>\n",
       "    <tr>\n",
       "      <th>75%</th>\n",
       "      <td>30.000000</td>\n",
       "      <td>4.00000</td>\n",
       "      <td>2.000000</td>\n",
       "      <td>4.000000</td>\n",
       "      <td>2.000000</td>\n",
       "    </tr>\n",
       "    <tr>\n",
       "      <th>max</th>\n",
       "      <td>99.000000</td>\n",
       "      <td>9.00000</td>\n",
       "      <td>9.000000</td>\n",
       "      <td>9.000000</td>\n",
       "      <td>9.000000</td>\n",
       "    </tr>\n",
       "  </tbody>\n",
       "</table>\n",
       "</div>"
      ],
      "text/plain": [
       "           IDADEMAE      RACACOR     ESTCIVMAE        ESCMAE         PARTO\n",
       "count  71697.000000  71697.00000  71697.000000  71697.000000  71697.000000\n",
       "mean      25.670419      1.88602      2.137412      3.771148      1.381787\n",
       "std        6.514430      1.36625      1.669212      0.823366      0.500869\n",
       "min       11.000000      1.00000      1.000000      1.000000      1.000000\n",
       "25%       21.000000      1.00000      1.000000      3.000000      1.000000\n",
       "50%       25.000000      1.00000      2.000000      4.000000      1.000000\n",
       "75%       30.000000      4.00000      2.000000      4.000000      2.000000\n",
       "max       99.000000      9.00000      9.000000      9.000000      9.000000"
      ]
     },
     "execution_count": 24,
     "metadata": {},
     "output_type": "execute_result"
    }
   ],
   "source": [
    "pub.describe()"
   ]
  },
  {
   "cell_type": "code",
   "execution_count": 25,
   "id": "0c5fe755",
   "metadata": {
    "ExecuteTime": {
     "end_time": "2021-07-10T03:25:24.558523Z",
     "start_time": "2021-07-10T03:25:24.513277Z"
    }
   },
   "outputs": [
    {
     "data": {
      "text/html": [
       "<div>\n",
       "<style scoped>\n",
       "    .dataframe tbody tr th:only-of-type {\n",
       "        vertical-align: middle;\n",
       "    }\n",
       "\n",
       "    .dataframe tbody tr th {\n",
       "        vertical-align: top;\n",
       "    }\n",
       "\n",
       "    .dataframe thead th {\n",
       "        text-align: right;\n",
       "    }\n",
       "</style>\n",
       "<table border=\"1\" class=\"dataframe\">\n",
       "  <thead>\n",
       "    <tr style=\"text-align: right;\">\n",
       "      <th></th>\n",
       "      <th>IDADEMAE</th>\n",
       "      <th>RACACOR</th>\n",
       "      <th>ESTCIVMAE</th>\n",
       "      <th>ESCMAE</th>\n",
       "      <th>PARTO</th>\n",
       "    </tr>\n",
       "  </thead>\n",
       "  <tbody>\n",
       "    <tr>\n",
       "      <th>count</th>\n",
       "      <td>51835.000000</td>\n",
       "      <td>51835.000000</td>\n",
       "      <td>51835.000000</td>\n",
       "      <td>51835.000000</td>\n",
       "      <td>51835.000000</td>\n",
       "    </tr>\n",
       "    <tr>\n",
       "      <th>mean</th>\n",
       "      <td>29.691560</td>\n",
       "      <td>1.325514</td>\n",
       "      <td>1.805710</td>\n",
       "      <td>4.510929</td>\n",
       "      <td>1.878017</td>\n",
       "    </tr>\n",
       "    <tr>\n",
       "      <th>std</th>\n",
       "      <td>5.625392</td>\n",
       "      <td>0.943381</td>\n",
       "      <td>0.700161</td>\n",
       "      <td>0.763864</td>\n",
       "      <td>0.343379</td>\n",
       "    </tr>\n",
       "    <tr>\n",
       "      <th>min</th>\n",
       "      <td>13.000000</td>\n",
       "      <td>1.000000</td>\n",
       "      <td>1.000000</td>\n",
       "      <td>1.000000</td>\n",
       "      <td>1.000000</td>\n",
       "    </tr>\n",
       "    <tr>\n",
       "      <th>25%</th>\n",
       "      <td>26.000000</td>\n",
       "      <td>1.000000</td>\n",
       "      <td>1.000000</td>\n",
       "      <td>4.000000</td>\n",
       "      <td>2.000000</td>\n",
       "    </tr>\n",
       "    <tr>\n",
       "      <th>50%</th>\n",
       "      <td>30.000000</td>\n",
       "      <td>1.000000</td>\n",
       "      <td>2.000000</td>\n",
       "      <td>5.000000</td>\n",
       "      <td>2.000000</td>\n",
       "    </tr>\n",
       "    <tr>\n",
       "      <th>75%</th>\n",
       "      <td>34.000000</td>\n",
       "      <td>1.000000</td>\n",
       "      <td>2.000000</td>\n",
       "      <td>5.000000</td>\n",
       "      <td>2.000000</td>\n",
       "    </tr>\n",
       "    <tr>\n",
       "      <th>max</th>\n",
       "      <td>99.000000</td>\n",
       "      <td>9.000000</td>\n",
       "      <td>9.000000</td>\n",
       "      <td>9.000000</td>\n",
       "      <td>9.000000</td>\n",
       "    </tr>\n",
       "  </tbody>\n",
       "</table>\n",
       "</div>"
      ],
      "text/plain": [
       "           IDADEMAE       RACACOR     ESTCIVMAE        ESCMAE         PARTO\n",
       "count  51835.000000  51835.000000  51835.000000  51835.000000  51835.000000\n",
       "mean      29.691560      1.325514      1.805710      4.510929      1.878017\n",
       "std        5.625392      0.943381      0.700161      0.763864      0.343379\n",
       "min       13.000000      1.000000      1.000000      1.000000      1.000000\n",
       "25%       26.000000      1.000000      1.000000      4.000000      2.000000\n",
       "50%       30.000000      1.000000      2.000000      5.000000      2.000000\n",
       "75%       34.000000      1.000000      2.000000      5.000000      2.000000\n",
       "max       99.000000      9.000000      9.000000      9.000000      9.000000"
      ]
     },
     "execution_count": 25,
     "metadata": {},
     "output_type": "execute_result"
    }
   ],
   "source": [
    "priv.describe()"
   ]
  },
  {
   "cell_type": "code",
   "execution_count": 26,
   "id": "de40afdf",
   "metadata": {
    "ExecuteTime": {
     "end_time": "2021-07-10T03:25:28.663970Z",
     "start_time": "2021-07-10T03:25:28.642030Z"
    }
   },
   "outputs": [],
   "source": [
    "pub['perfil'] = 'publico'\n",
    "priv['perfil'] = 'privado'"
   ]
  },
  {
   "cell_type": "code",
   "execution_count": 27,
   "id": "07a39da5",
   "metadata": {
    "ExecuteTime": {
     "end_time": "2021-07-10T03:25:30.289835Z",
     "start_time": "2021-07-10T03:25:30.276870Z"
    }
   },
   "outputs": [],
   "source": [
    "perfis = [pub, priv]\n",
    "\n",
    "pub_priv = pd.concat(perfis)"
   ]
  },
  {
   "cell_type": "code",
   "execution_count": 28,
   "id": "fe4ddebe",
   "metadata": {
    "ExecuteTime": {
     "end_time": "2021-07-10T03:25:32.232531Z",
     "start_time": "2021-07-10T03:25:32.203469Z"
    }
   },
   "outputs": [
    {
     "data": {
      "text/html": [
       "<div>\n",
       "<style scoped>\n",
       "    .dataframe tbody tr th:only-of-type {\n",
       "        vertical-align: middle;\n",
       "    }\n",
       "\n",
       "    .dataframe tbody tr th {\n",
       "        vertical-align: top;\n",
       "    }\n",
       "\n",
       "    .dataframe thead th {\n",
       "        text-align: right;\n",
       "    }\n",
       "</style>\n",
       "<table border=\"1\" class=\"dataframe\">\n",
       "  <thead>\n",
       "    <tr style=\"text-align: right;\">\n",
       "      <th></th>\n",
       "      <th>IDADEMAE</th>\n",
       "      <th>RACACOR</th>\n",
       "      <th>ESTCIVMAE</th>\n",
       "      <th>ESCMAE</th>\n",
       "      <th>PARTO</th>\n",
       "      <th>perfil</th>\n",
       "    </tr>\n",
       "  </thead>\n",
       "  <tbody>\n",
       "    <tr>\n",
       "      <th>936636</th>\n",
       "      <td>15.0</td>\n",
       "      <td>2</td>\n",
       "      <td>1</td>\n",
       "      <td>3</td>\n",
       "      <td>1</td>\n",
       "      <td>publico</td>\n",
       "    </tr>\n",
       "    <tr>\n",
       "      <th>2437659</th>\n",
       "      <td>14.0</td>\n",
       "      <td>4</td>\n",
       "      <td>1</td>\n",
       "      <td>3</td>\n",
       "      <td>1</td>\n",
       "      <td>publico</td>\n",
       "    </tr>\n",
       "    <tr>\n",
       "      <th>2437660</th>\n",
       "      <td>18.0</td>\n",
       "      <td>1</td>\n",
       "      <td>1</td>\n",
       "      <td>4</td>\n",
       "      <td>1</td>\n",
       "      <td>publico</td>\n",
       "    </tr>\n",
       "    <tr>\n",
       "      <th>2437661</th>\n",
       "      <td>19.0</td>\n",
       "      <td>4</td>\n",
       "      <td>5</td>\n",
       "      <td>4</td>\n",
       "      <td>2</td>\n",
       "      <td>publico</td>\n",
       "    </tr>\n",
       "    <tr>\n",
       "      <th>2437662</th>\n",
       "      <td>24.0</td>\n",
       "      <td>1</td>\n",
       "      <td>5</td>\n",
       "      <td>4</td>\n",
       "      <td>1</td>\n",
       "      <td>publico</td>\n",
       "    </tr>\n",
       "    <tr>\n",
       "      <th>...</th>\n",
       "      <td>...</td>\n",
       "      <td>...</td>\n",
       "      <td>...</td>\n",
       "      <td>...</td>\n",
       "      <td>...</td>\n",
       "      <td>...</td>\n",
       "    </tr>\n",
       "    <tr>\n",
       "      <th>2681472</th>\n",
       "      <td>41.0</td>\n",
       "      <td>1</td>\n",
       "      <td>3</td>\n",
       "      <td>5</td>\n",
       "      <td>2</td>\n",
       "      <td>privado</td>\n",
       "    </tr>\n",
       "    <tr>\n",
       "      <th>2681473</th>\n",
       "      <td>30.0</td>\n",
       "      <td>1</td>\n",
       "      <td>2</td>\n",
       "      <td>5</td>\n",
       "      <td>2</td>\n",
       "      <td>privado</td>\n",
       "    </tr>\n",
       "    <tr>\n",
       "      <th>2681474</th>\n",
       "      <td>33.0</td>\n",
       "      <td>1</td>\n",
       "      <td>2</td>\n",
       "      <td>5</td>\n",
       "      <td>2</td>\n",
       "      <td>privado</td>\n",
       "    </tr>\n",
       "    <tr>\n",
       "      <th>2681475</th>\n",
       "      <td>25.0</td>\n",
       "      <td>1</td>\n",
       "      <td>2</td>\n",
       "      <td>4</td>\n",
       "      <td>1</td>\n",
       "      <td>privado</td>\n",
       "    </tr>\n",
       "    <tr>\n",
       "      <th>2681476</th>\n",
       "      <td>41.0</td>\n",
       "      <td>1</td>\n",
       "      <td>2</td>\n",
       "      <td>4</td>\n",
       "      <td>2</td>\n",
       "      <td>privado</td>\n",
       "    </tr>\n",
       "  </tbody>\n",
       "</table>\n",
       "<p>123532 rows × 6 columns</p>\n",
       "</div>"
      ],
      "text/plain": [
       "         IDADEMAE  RACACOR  ESTCIVMAE  ESCMAE  PARTO   perfil\n",
       "936636       15.0        2          1       3      1  publico\n",
       "2437659      14.0        4          1       3      1  publico\n",
       "2437660      18.0        1          1       4      1  publico\n",
       "2437661      19.0        4          5       4      2  publico\n",
       "2437662      24.0        1          5       4      1  publico\n",
       "...           ...      ...        ...     ...    ...      ...\n",
       "2681472      41.0        1          3       5      2  privado\n",
       "2681473      30.0        1          2       5      2  privado\n",
       "2681474      33.0        1          2       5      2  privado\n",
       "2681475      25.0        1          2       4      1  privado\n",
       "2681476      41.0        1          2       4      2  privado\n",
       "\n",
       "[123532 rows x 6 columns]"
      ]
     },
     "execution_count": 28,
     "metadata": {},
     "output_type": "execute_result"
    }
   ],
   "source": [
    "pub_priv"
   ]
  },
  {
   "cell_type": "code",
   "execution_count": 29,
   "id": "db57bee8",
   "metadata": {
    "ExecuteTime": {
     "end_time": "2021-07-10T03:25:36.234856Z",
     "start_time": "2021-07-10T03:25:36.180338Z"
    }
   },
   "outputs": [
    {
     "data": {
      "text/html": [
       "<div>\n",
       "<style scoped>\n",
       "    .dataframe tbody tr th:only-of-type {\n",
       "        vertical-align: middle;\n",
       "    }\n",
       "\n",
       "    .dataframe tbody tr th {\n",
       "        vertical-align: top;\n",
       "    }\n",
       "\n",
       "    .dataframe thead th {\n",
       "        text-align: right;\n",
       "    }\n",
       "</style>\n",
       "<table border=\"1\" class=\"dataframe\">\n",
       "  <thead>\n",
       "    <tr style=\"text-align: right;\">\n",
       "      <th></th>\n",
       "      <th>IDADEMAE</th>\n",
       "      <th>RACACOR</th>\n",
       "      <th>ESTCIVMAE</th>\n",
       "      <th>ESCMAE</th>\n",
       "      <th>PARTO</th>\n",
       "    </tr>\n",
       "  </thead>\n",
       "  <tbody>\n",
       "    <tr>\n",
       "      <th>count</th>\n",
       "      <td>123532.000000</td>\n",
       "      <td>123532.000000</td>\n",
       "      <td>123532.000000</td>\n",
       "      <td>123532.000000</td>\n",
       "      <td>123532.000000</td>\n",
       "    </tr>\n",
       "    <tr>\n",
       "      <th>mean</th>\n",
       "      <td>27.357721</td>\n",
       "      <td>1.650827</td>\n",
       "      <td>1.998227</td>\n",
       "      <td>4.081566</td>\n",
       "      <td>1.590009</td>\n",
       "    </tr>\n",
       "    <tr>\n",
       "      <th>std</th>\n",
       "      <td>6.468902</td>\n",
       "      <td>1.238274</td>\n",
       "      <td>1.360005</td>\n",
       "      <td>0.878397</td>\n",
       "      <td>0.505022</td>\n",
       "    </tr>\n",
       "    <tr>\n",
       "      <th>min</th>\n",
       "      <td>11.000000</td>\n",
       "      <td>1.000000</td>\n",
       "      <td>1.000000</td>\n",
       "      <td>1.000000</td>\n",
       "      <td>1.000000</td>\n",
       "    </tr>\n",
       "    <tr>\n",
       "      <th>25%</th>\n",
       "      <td>22.000000</td>\n",
       "      <td>1.000000</td>\n",
       "      <td>1.000000</td>\n",
       "      <td>4.000000</td>\n",
       "      <td>1.000000</td>\n",
       "    </tr>\n",
       "    <tr>\n",
       "      <th>50%</th>\n",
       "      <td>27.000000</td>\n",
       "      <td>1.000000</td>\n",
       "      <td>2.000000</td>\n",
       "      <td>4.000000</td>\n",
       "      <td>2.000000</td>\n",
       "    </tr>\n",
       "    <tr>\n",
       "      <th>75%</th>\n",
       "      <td>32.000000</td>\n",
       "      <td>1.000000</td>\n",
       "      <td>2.000000</td>\n",
       "      <td>5.000000</td>\n",
       "      <td>2.000000</td>\n",
       "    </tr>\n",
       "    <tr>\n",
       "      <th>max</th>\n",
       "      <td>99.000000</td>\n",
       "      <td>9.000000</td>\n",
       "      <td>9.000000</td>\n",
       "      <td>9.000000</td>\n",
       "      <td>9.000000</td>\n",
       "    </tr>\n",
       "  </tbody>\n",
       "</table>\n",
       "</div>"
      ],
      "text/plain": [
       "            IDADEMAE        RACACOR      ESTCIVMAE         ESCMAE  \\\n",
       "count  123532.000000  123532.000000  123532.000000  123532.000000   \n",
       "mean       27.357721       1.650827       1.998227       4.081566   \n",
       "std         6.468902       1.238274       1.360005       0.878397   \n",
       "min        11.000000       1.000000       1.000000       1.000000   \n",
       "25%        22.000000       1.000000       1.000000       4.000000   \n",
       "50%        27.000000       1.000000       2.000000       4.000000   \n",
       "75%        32.000000       1.000000       2.000000       5.000000   \n",
       "max        99.000000       9.000000       9.000000       9.000000   \n",
       "\n",
       "               PARTO  \n",
       "count  123532.000000  \n",
       "mean        1.590009  \n",
       "std         0.505022  \n",
       "min         1.000000  \n",
       "25%         1.000000  \n",
       "50%         2.000000  \n",
       "75%         2.000000  \n",
       "max         9.000000  "
      ]
     },
     "execution_count": 29,
     "metadata": {},
     "output_type": "execute_result"
    }
   ],
   "source": [
    "pub_priv.describe()"
   ]
  },
  {
   "cell_type": "markdown",
   "id": "8b2586f3",
   "metadata": {},
   "source": [
    "### Visualização de dados"
   ]
  },
  {
   "cell_type": "code",
   "execution_count": 142,
   "id": "249644a4",
   "metadata": {
    "ExecuteTime": {
     "end_time": "2021-06-14T16:33:04.615956Z",
     "start_time": "2021-06-14T16:33:04.544149Z"
    }
   },
   "outputs": [
    {
     "data": {
      "text/plain": [
       "(array(['privado', 'publico'], dtype=object),\n",
       " array([50805, 69497], dtype=int64))"
      ]
     },
     "execution_count": 142,
     "metadata": {},
     "output_type": "execute_result"
    }
   ],
   "source": [
    "np.unique(pub_priv['perfil'], return_counts = True)"
   ]
  },
  {
   "cell_type": "code",
   "execution_count": 143,
   "id": "ea43672b",
   "metadata": {
    "ExecuteTime": {
     "end_time": "2021-06-14T16:33:10.284263Z",
     "start_time": "2021-06-14T16:33:10.058449Z"
    }
   },
   "outputs": [
    {
     "data": {
      "image/png": "[encoded data removed]",
      "text/plain": [
       "<Figure size 432x288 with 1 Axes>"
      ]
     },
     "metadata": {
      "needs_background": "light"
     },
     "output_type": "display_data"
    }
   ],
   "source": [
    "sns.countplot(x = pub_priv['perfil']);"
   ]
  },
  {
   "cell_type": "code",
   "execution_count": 144,
   "id": "f0bca195",
   "metadata": {
    "ExecuteTime": {
     "end_time": "2021-06-14T16:33:17.553558Z",
     "start_time": "2021-06-14T16:33:17.378393Z"
    }
   },
   "outputs": [
    {
     "data": {
      "image/png": "[encoded data removed]",
      "text/plain": [
       "<Figure size 432x288 with 1 Axes>"
      ]
     },
     "metadata": {
      "needs_background": "light"
     },
     "output_type": "display_data"
    }
   ],
   "source": [
    "plt.hist(x = pub_priv['IDADEMAE']);"
   ]
  },
  {
   "cell_type": "code",
   "execution_count": null,
   "id": "7676b1d1",
   "metadata": {
    "ExecuteTime": {
     "end_time": "2021-06-14T15:55:22.836645Z",
     "start_time": "2021-06-14T15:55:19.332323Z"
    }
   },
   "outputs": [],
   "source": [
    "grafico = px.treemap(pub_priv, path=['perfil', 'IDADEMAE'])\n",
    "grafico.show()"
   ]
  },
  {
   "cell_type": "code",
   "execution_count": null,
   "id": "29fdd9f8",
   "metadata": {
    "ExecuteTime": {
     "end_time": "2021-06-14T15:55:53.036776Z",
     "start_time": "2021-06-14T15:55:51.380141Z"
    }
   },
   "outputs": [],
   "source": [
    "grafico = px.treemap(pub_priv, path=['perfil', 'RACACOR', 'IDADEMAE'])\n",
    "grafico.show()"
   ]
  },
  {
   "cell_type": "code",
   "execution_count": null,
   "id": "0ac200d4",
   "metadata": {
    "ExecuteTime": {
     "end_time": "2021-06-14T15:55:56.648212Z",
     "start_time": "2021-06-14T15:55:55.719593Z"
    }
   },
   "outputs": [],
   "source": [
    "grafico = px.parallel_categories(pub_priv, dimensions=['perfil', 'PARTO'])\n",
    "grafico.show()"
   ]
  },
  {
   "cell_type": "code",
   "execution_count": null,
   "id": "743d6872",
   "metadata": {
    "ExecuteTime": {
     "end_time": "2021-06-10T04:19:06.704476Z",
     "start_time": "2021-06-10T04:19:06.548763Z"
    }
   },
   "outputs": [],
   "source": [
    "grafico = px.parallel_categories(pub_priv, dimensions=['perfil', 'PARTO', 'ESCMAE'])\n",
    "grafico.show()"
   ]
  },
  {
   "cell_type": "markdown",
   "id": "a48fcd77",
   "metadata": {},
   "source": [
    "### Tratamento de valores inconsistentes"
   ]
  },
  {
   "cell_type": "code",
   "execution_count": 99,
   "id": "7d2af1ac",
   "metadata": {
    "ExecuteTime": {
     "end_time": "2021-06-14T16:14:45.260835Z",
     "start_time": "2021-06-14T16:14:45.184963Z"
    }
   },
   "outputs": [
    {
     "name": "stderr",
     "output_type": "stream",
     "text": [
      "<ipython-input-99-99b5e488648f>:1: FutureWarning:\n",
      "\n",
      "Index.__or__ operating as a set operation is deprecated, in the future this will be a logical operation matching Series.__or__.  Use index.union(other) instead\n",
      "\n",
      "<ipython-input-99-99b5e488648f>:1: FutureWarning:\n",
      "\n",
      "Index.__or__ operating as a set operation is deprecated, in the future this will be a logical operation matching Series.__or__.  Use index.union(other) instead\n",
      "\n",
      "<ipython-input-99-99b5e488648f>:1: FutureWarning:\n",
      "\n",
      "Index.__or__ operating as a set operation is deprecated, in the future this will be a logical operation matching Series.__or__.  Use index.union(other) instead\n",
      "\n"
     ]
    },
    {
     "data": {
      "text/html": [
       "<div>\n",
       "<style scoped>\n",
       "    .dataframe tbody tr th:only-of-type {\n",
       "        vertical-align: middle;\n",
       "    }\n",
       "\n",
       "    .dataframe tbody tr th {\n",
       "        vertical-align: top;\n",
       "    }\n",
       "\n",
       "    .dataframe thead th {\n",
       "        text-align: right;\n",
       "    }\n",
       "</style>\n",
       "<table border=\"1\" class=\"dataframe\">\n",
       "  <thead>\n",
       "    <tr style=\"text-align: right;\">\n",
       "      <th></th>\n",
       "      <th>IDADEMAE</th>\n",
       "      <th>RACACOR</th>\n",
       "      <th>ESTCIVMAE</th>\n",
       "      <th>ESCMAE</th>\n",
       "      <th>PARTO</th>\n",
       "      <th>perfil</th>\n",
       "    </tr>\n",
       "  </thead>\n",
       "  <tbody>\n",
       "    <tr>\n",
       "      <th>936636</th>\n",
       "      <td>15.0</td>\n",
       "      <td>2</td>\n",
       "      <td>1</td>\n",
       "      <td>3</td>\n",
       "      <td>1</td>\n",
       "      <td>publico</td>\n",
       "    </tr>\n",
       "    <tr>\n",
       "      <th>2437659</th>\n",
       "      <td>14.0</td>\n",
       "      <td>4</td>\n",
       "      <td>1</td>\n",
       "      <td>3</td>\n",
       "      <td>1</td>\n",
       "      <td>publico</td>\n",
       "    </tr>\n",
       "    <tr>\n",
       "      <th>2437660</th>\n",
       "      <td>18.0</td>\n",
       "      <td>1</td>\n",
       "      <td>1</td>\n",
       "      <td>4</td>\n",
       "      <td>1</td>\n",
       "      <td>publico</td>\n",
       "    </tr>\n",
       "    <tr>\n",
       "      <th>2437661</th>\n",
       "      <td>19.0</td>\n",
       "      <td>4</td>\n",
       "      <td>5</td>\n",
       "      <td>4</td>\n",
       "      <td>2</td>\n",
       "      <td>publico</td>\n",
       "    </tr>\n",
       "    <tr>\n",
       "      <th>2437662</th>\n",
       "      <td>24.0</td>\n",
       "      <td>1</td>\n",
       "      <td>5</td>\n",
       "      <td>4</td>\n",
       "      <td>1</td>\n",
       "      <td>publico</td>\n",
       "    </tr>\n",
       "    <tr>\n",
       "      <th>...</th>\n",
       "      <td>...</td>\n",
       "      <td>...</td>\n",
       "      <td>...</td>\n",
       "      <td>...</td>\n",
       "      <td>...</td>\n",
       "      <td>...</td>\n",
       "    </tr>\n",
       "    <tr>\n",
       "      <th>2681472</th>\n",
       "      <td>41.0</td>\n",
       "      <td>1</td>\n",
       "      <td>3</td>\n",
       "      <td>5</td>\n",
       "      <td>2</td>\n",
       "      <td>privado</td>\n",
       "    </tr>\n",
       "    <tr>\n",
       "      <th>2681473</th>\n",
       "      <td>30.0</td>\n",
       "      <td>1</td>\n",
       "      <td>2</td>\n",
       "      <td>5</td>\n",
       "      <td>2</td>\n",
       "      <td>privado</td>\n",
       "    </tr>\n",
       "    <tr>\n",
       "      <th>2681474</th>\n",
       "      <td>33.0</td>\n",
       "      <td>1</td>\n",
       "      <td>2</td>\n",
       "      <td>5</td>\n",
       "      <td>2</td>\n",
       "      <td>privado</td>\n",
       "    </tr>\n",
       "    <tr>\n",
       "      <th>2681475</th>\n",
       "      <td>25.0</td>\n",
       "      <td>1</td>\n",
       "      <td>2</td>\n",
       "      <td>4</td>\n",
       "      <td>1</td>\n",
       "      <td>privado</td>\n",
       "    </tr>\n",
       "    <tr>\n",
       "      <th>2681476</th>\n",
       "      <td>41.0</td>\n",
       "      <td>1</td>\n",
       "      <td>2</td>\n",
       "      <td>4</td>\n",
       "      <td>2</td>\n",
       "      <td>privado</td>\n",
       "    </tr>\n",
       "  </tbody>\n",
       "</table>\n",
       "<p>120302 rows × 6 columns</p>\n",
       "</div>"
      ],
      "text/plain": [
       "         IDADEMAE  RACACOR  ESTCIVMAE  ESCMAE  PARTO   perfil\n",
       "936636       15.0        2          1       3      1  publico\n",
       "2437659      14.0        4          1       3      1  publico\n",
       "2437660      18.0        1          1       4      1  publico\n",
       "2437661      19.0        4          5       4      2  publico\n",
       "2437662      24.0        1          5       4      1  publico\n",
       "...           ...      ...        ...     ...    ...      ...\n",
       "2681472      41.0        1          3       5      2  privado\n",
       "2681473      30.0        1          2       5      2  privado\n",
       "2681474      33.0        1          2       5      2  privado\n",
       "2681475      25.0        1          2       4      1  privado\n",
       "2681476      41.0        1          2       4      2  privado\n",
       "\n",
       "[120302 rows x 6 columns]"
      ]
     },
     "execution_count": 99,
     "metadata": {},
     "output_type": "execute_result"
    }
   ],
   "source": [
    "pub_priv.drop(pub_priv[pub_priv['ESCMAE'] == 9].index | pub_priv[pub_priv['ESTCIVMAE'] == 9].index | pub_priv[pub_priv['PARTO'] == 9].index | pub_priv[pub_priv['RACACOR'] == 9].index, inplace=True)\n",
    "pub_priv"
   ]
  },
  {
   "cell_type": "code",
   "execution_count": 98,
   "id": "76993501",
   "metadata": {
    "ExecuteTime": {
     "end_time": "2021-06-14T16:14:18.594439Z",
     "start_time": "2021-06-14T16:14:18.535565Z"
    }
   },
   "outputs": [
    {
     "data": {
      "text/html": [
       "<div>\n",
       "<style scoped>\n",
       "    .dataframe tbody tr th:only-of-type {\n",
       "        vertical-align: middle;\n",
       "    }\n",
       "\n",
       "    .dataframe tbody tr th {\n",
       "        vertical-align: top;\n",
       "    }\n",
       "\n",
       "    .dataframe thead th {\n",
       "        text-align: right;\n",
       "    }\n",
       "</style>\n",
       "<table border=\"1\" class=\"dataframe\">\n",
       "  <thead>\n",
       "    <tr style=\"text-align: right;\">\n",
       "      <th></th>\n",
       "      <th>IDADEMAE</th>\n",
       "      <th>RACACOR</th>\n",
       "      <th>ESTCIVMAE</th>\n",
       "      <th>ESCMAE</th>\n",
       "      <th>PARTO</th>\n",
       "      <th>perfil</th>\n",
       "    </tr>\n",
       "  </thead>\n",
       "  <tbody>\n",
       "    <tr>\n",
       "      <th>936636</th>\n",
       "      <td>15.0</td>\n",
       "      <td>2</td>\n",
       "      <td>1</td>\n",
       "      <td>3</td>\n",
       "      <td>1</td>\n",
       "      <td>publico</td>\n",
       "    </tr>\n",
       "    <tr>\n",
       "      <th>2437659</th>\n",
       "      <td>14.0</td>\n",
       "      <td>4</td>\n",
       "      <td>1</td>\n",
       "      <td>3</td>\n",
       "      <td>1</td>\n",
       "      <td>publico</td>\n",
       "    </tr>\n",
       "    <tr>\n",
       "      <th>2437660</th>\n",
       "      <td>18.0</td>\n",
       "      <td>1</td>\n",
       "      <td>1</td>\n",
       "      <td>4</td>\n",
       "      <td>1</td>\n",
       "      <td>publico</td>\n",
       "    </tr>\n",
       "    <tr>\n",
       "      <th>2437661</th>\n",
       "      <td>19.0</td>\n",
       "      <td>4</td>\n",
       "      <td>5</td>\n",
       "      <td>4</td>\n",
       "      <td>2</td>\n",
       "      <td>publico</td>\n",
       "    </tr>\n",
       "    <tr>\n",
       "      <th>2437662</th>\n",
       "      <td>24.0</td>\n",
       "      <td>1</td>\n",
       "      <td>5</td>\n",
       "      <td>4</td>\n",
       "      <td>1</td>\n",
       "      <td>publico</td>\n",
       "    </tr>\n",
       "    <tr>\n",
       "      <th>...</th>\n",
       "      <td>...</td>\n",
       "      <td>...</td>\n",
       "      <td>...</td>\n",
       "      <td>...</td>\n",
       "      <td>...</td>\n",
       "      <td>...</td>\n",
       "    </tr>\n",
       "    <tr>\n",
       "      <th>2681472</th>\n",
       "      <td>41.0</td>\n",
       "      <td>1</td>\n",
       "      <td>3</td>\n",
       "      <td>5</td>\n",
       "      <td>2</td>\n",
       "      <td>privado</td>\n",
       "    </tr>\n",
       "    <tr>\n",
       "      <th>2681473</th>\n",
       "      <td>30.0</td>\n",
       "      <td>1</td>\n",
       "      <td>2</td>\n",
       "      <td>5</td>\n",
       "      <td>2</td>\n",
       "      <td>privado</td>\n",
       "    </tr>\n",
       "    <tr>\n",
       "      <th>2681474</th>\n",
       "      <td>33.0</td>\n",
       "      <td>1</td>\n",
       "      <td>2</td>\n",
       "      <td>5</td>\n",
       "      <td>2</td>\n",
       "      <td>privado</td>\n",
       "    </tr>\n",
       "    <tr>\n",
       "      <th>2681475</th>\n",
       "      <td>25.0</td>\n",
       "      <td>1</td>\n",
       "      <td>2</td>\n",
       "      <td>4</td>\n",
       "      <td>1</td>\n",
       "      <td>privado</td>\n",
       "    </tr>\n",
       "    <tr>\n",
       "      <th>2681476</th>\n",
       "      <td>41.0</td>\n",
       "      <td>1</td>\n",
       "      <td>2</td>\n",
       "      <td>4</td>\n",
       "      <td>2</td>\n",
       "      <td>privado</td>\n",
       "    </tr>\n",
       "  </tbody>\n",
       "</table>\n",
       "<p>123521 rows × 6 columns</p>\n",
       "</div>"
      ],
      "text/plain": [
       "         IDADEMAE  RACACOR  ESTCIVMAE  ESCMAE  PARTO   perfil\n",
       "936636       15.0        2          1       3      1  publico\n",
       "2437659      14.0        4          1       3      1  publico\n",
       "2437660      18.0        1          1       4      1  publico\n",
       "2437661      19.0        4          5       4      2  publico\n",
       "2437662      24.0        1          5       4      1  publico\n",
       "...           ...      ...        ...     ...    ...      ...\n",
       "2681472      41.0        1          3       5      2  privado\n",
       "2681473      30.0        1          2       5      2  privado\n",
       "2681474      33.0        1          2       5      2  privado\n",
       "2681475      25.0        1          2       4      1  privado\n",
       "2681476      41.0        1          2       4      2  privado\n",
       "\n",
       "[123521 rows x 6 columns]"
      ]
     },
     "execution_count": 98,
     "metadata": {},
     "output_type": "execute_result"
    }
   ],
   "source": [
    "pub_priv.drop(pub_priv[pub_priv['IDADEMAE'] == 99].index, inplace=True)\n",
    "pub_priv"
   ]
  },
  {
   "cell_type": "code",
   "execution_count": 100,
   "id": "43a7f9f9",
   "metadata": {
    "ExecuteTime": {
     "end_time": "2021-06-14T16:15:00.601353Z",
     "start_time": "2021-06-14T16:15:00.534147Z"
    }
   },
   "outputs": [
    {
     "data": {
      "text/html": [
       "<div>\n",
       "<style scoped>\n",
       "    .dataframe tbody tr th:only-of-type {\n",
       "        vertical-align: middle;\n",
       "    }\n",
       "\n",
       "    .dataframe tbody tr th {\n",
       "        vertical-align: top;\n",
       "    }\n",
       "\n",
       "    .dataframe thead th {\n",
       "        text-align: right;\n",
       "    }\n",
       "</style>\n",
       "<table border=\"1\" class=\"dataframe\">\n",
       "  <thead>\n",
       "    <tr style=\"text-align: right;\">\n",
       "      <th></th>\n",
       "      <th>IDADEMAE</th>\n",
       "      <th>RACACOR</th>\n",
       "      <th>ESTCIVMAE</th>\n",
       "      <th>ESCMAE</th>\n",
       "      <th>PARTO</th>\n",
       "    </tr>\n",
       "  </thead>\n",
       "  <tbody>\n",
       "    <tr>\n",
       "      <th>count</th>\n",
       "      <td>120302.000000</td>\n",
       "      <td>120302.000000</td>\n",
       "      <td>120302.000000</td>\n",
       "      <td>120302.000000</td>\n",
       "      <td>120302.000000</td>\n",
       "    </tr>\n",
       "    <tr>\n",
       "      <th>mean</th>\n",
       "      <td>27.377957</td>\n",
       "      <td>1.625526</td>\n",
       "      <td>1.926327</td>\n",
       "      <td>4.038794</td>\n",
       "      <td>1.589591</td>\n",
       "    </tr>\n",
       "    <tr>\n",
       "      <th>std</th>\n",
       "      <td>6.433717</td>\n",
       "      <td>1.172760</td>\n",
       "      <td>1.166777</td>\n",
       "      <td>0.738263</td>\n",
       "      <td>0.491910</td>\n",
       "    </tr>\n",
       "    <tr>\n",
       "      <th>min</th>\n",
       "      <td>11.000000</td>\n",
       "      <td>1.000000</td>\n",
       "      <td>1.000000</td>\n",
       "      <td>1.000000</td>\n",
       "      <td>1.000000</td>\n",
       "    </tr>\n",
       "    <tr>\n",
       "      <th>25%</th>\n",
       "      <td>22.000000</td>\n",
       "      <td>1.000000</td>\n",
       "      <td>1.000000</td>\n",
       "      <td>4.000000</td>\n",
       "      <td>1.000000</td>\n",
       "    </tr>\n",
       "    <tr>\n",
       "      <th>50%</th>\n",
       "      <td>27.000000</td>\n",
       "      <td>1.000000</td>\n",
       "      <td>2.000000</td>\n",
       "      <td>4.000000</td>\n",
       "      <td>2.000000</td>\n",
       "    </tr>\n",
       "    <tr>\n",
       "      <th>75%</th>\n",
       "      <td>32.000000</td>\n",
       "      <td>1.000000</td>\n",
       "      <td>2.000000</td>\n",
       "      <td>5.000000</td>\n",
       "      <td>2.000000</td>\n",
       "    </tr>\n",
       "    <tr>\n",
       "      <th>max</th>\n",
       "      <td>59.000000</td>\n",
       "      <td>5.000000</td>\n",
       "      <td>5.000000</td>\n",
       "      <td>5.000000</td>\n",
       "      <td>2.000000</td>\n",
       "    </tr>\n",
       "  </tbody>\n",
       "</table>\n",
       "</div>"
      ],
      "text/plain": [
       "            IDADEMAE        RACACOR      ESTCIVMAE         ESCMAE  \\\n",
       "count  120302.000000  120302.000000  120302.000000  120302.000000   \n",
       "mean       27.377957       1.625526       1.926327       4.038794   \n",
       "std         6.433717       1.172760       1.166777       0.738263   \n",
       "min        11.000000       1.000000       1.000000       1.000000   \n",
       "25%        22.000000       1.000000       1.000000       4.000000   \n",
       "50%        27.000000       1.000000       2.000000       4.000000   \n",
       "75%        32.000000       1.000000       2.000000       5.000000   \n",
       "max        59.000000       5.000000       5.000000       5.000000   \n",
       "\n",
       "               PARTO  \n",
       "count  120302.000000  \n",
       "mean        1.589591  \n",
       "std         0.491910  \n",
       "min         1.000000  \n",
       "25%         1.000000  \n",
       "50%         2.000000  \n",
       "75%         2.000000  \n",
       "max         2.000000  "
      ]
     },
     "execution_count": 100,
     "metadata": {},
     "output_type": "execute_result"
    }
   ],
   "source": [
    "pub_priv.describe()"
   ]
  },
  {
   "cell_type": "markdown",
   "id": "8070f1bb",
   "metadata": {},
   "source": [
    "### Tratamento de valores faltantes"
   ]
  },
  {
   "cell_type": "code",
   "execution_count": 101,
   "id": "b88a77ec",
   "metadata": {
    "ExecuteTime": {
     "end_time": "2021-06-14T16:15:02.972479Z",
     "start_time": "2021-06-14T16:15:02.949023Z"
    }
   },
   "outputs": [
    {
     "data": {
      "text/plain": [
       "IDADEMAE     0\n",
       "RACACOR      0\n",
       "ESTCIVMAE    0\n",
       "ESCMAE       0\n",
       "PARTO        0\n",
       "perfil       0\n",
       "dtype: int64"
      ]
     },
     "execution_count": 101,
     "metadata": {},
     "output_type": "execute_result"
    }
   ],
   "source": [
    "pub_priv.isnull().sum()"
   ]
  },
  {
   "cell_type": "markdown",
   "id": "17131092",
   "metadata": {},
   "source": [
    "### Divisão entre previsores e classe"
   ]
  },
  {
   "cell_type": "code",
   "execution_count": 104,
   "id": "997c1dea",
   "metadata": {
    "ExecuteTime": {
     "end_time": "2021-06-14T16:16:33.428966Z",
     "start_time": "2021-06-14T16:16:33.410965Z"
    }
   },
   "outputs": [
    {
     "data": {
      "text/plain": [
       "array([[15.,  2.,  1.,  3.,  1.],\n",
       "       [14.,  4.,  1.,  3.,  1.],\n",
       "       [18.,  1.,  1.,  4.,  1.],\n",
       "       ...,\n",
       "       [33.,  1.,  2.,  5.,  2.],\n",
       "       [25.,  1.,  2.,  4.,  1.],\n",
       "       [41.,  1.,  2.,  4.,  2.]])"
      ]
     },
     "execution_count": 104,
     "metadata": {},
     "output_type": "execute_result"
    }
   ],
   "source": [
    "X = pub_priv.iloc[:, 0:5].values\n",
    "X"
   ]
  },
  {
   "cell_type": "code",
   "execution_count": 105,
   "id": "60faa24b",
   "metadata": {
    "ExecuteTime": {
     "end_time": "2021-06-14T16:16:35.191139Z",
     "start_time": "2021-06-14T16:16:35.179655Z"
    }
   },
   "outputs": [
    {
     "data": {
      "text/plain": [
       "array(['publico', 'publico', 'publico', ..., 'privado', 'privado',\n",
       "       'privado'], dtype=object)"
      ]
     },
     "execution_count": 105,
     "metadata": {},
     "output_type": "execute_result"
    }
   ],
   "source": [
    "y = pub_priv.iloc[:, 5].values\n",
    "y"
   ]
  },
  {
   "cell_type": "markdown",
   "id": "49d6fc25",
   "metadata": {},
   "source": [
    "### OneHotEncoder"
   ]
  },
  {
   "cell_type": "code",
   "execution_count": 106,
   "id": "f998c6eb",
   "metadata": {
    "ExecuteTime": {
     "end_time": "2021-06-14T16:17:24.733401Z",
     "start_time": "2021-06-14T16:17:24.715450Z"
    }
   },
   "outputs": [],
   "source": [
    "onehotencoder_train = ColumnTransformer(transformers = [('OneHot', OneHotEncoder(), [1, 2, 3, 4])], remainder='passthrough' )"
   ]
  },
  {
   "cell_type": "code",
   "execution_count": 107,
   "id": "3e492eed",
   "metadata": {
    "ExecuteTime": {
     "end_time": "2021-06-14T16:17:26.499250Z",
     "start_time": "2021-06-14T16:17:26.398947Z"
    }
   },
   "outputs": [],
   "source": [
    "X = onehotencoder_train.fit_transform(X).toarray()"
   ]
  },
  {
   "cell_type": "code",
   "execution_count": 108,
   "id": "1f1a6d92",
   "metadata": {
    "ExecuteTime": {
     "end_time": "2021-06-14T16:17:27.898251Z",
     "start_time": "2021-06-14T16:17:27.878340Z"
    }
   },
   "outputs": [
    {
     "data": {
      "text/plain": [
       "array([ 0.,  1.,  0.,  0.,  0.,  1.,  0.,  0.,  0.,  0.,  0.,  0.,  1.,\n",
       "        0.,  0.,  1.,  0., 15.])"
      ]
     },
     "execution_count": 108,
     "metadata": {},
     "output_type": "execute_result"
    }
   ],
   "source": [
    "X[0]"
   ]
  },
  {
   "cell_type": "markdown",
   "id": "48ec708c",
   "metadata": {},
   "source": [
    "### Escalonamento dos valores"
   ]
  },
  {
   "cell_type": "code",
   "execution_count": 109,
   "id": "d829820a",
   "metadata": {
    "ExecuteTime": {
     "end_time": "2021-06-14T16:17:33.040311Z",
     "start_time": "2021-06-14T16:17:32.954831Z"
    }
   },
   "outputs": [],
   "source": [
    "scaler_train = StandardScaler()\n",
    "X = scaler_train.fit_transform(X)"
   ]
  },
  {
   "cell_type": "code",
   "execution_count": 110,
   "id": "7206cf06",
   "metadata": {
    "ExecuteTime": {
     "end_time": "2021-06-14T16:17:34.864960Z",
     "start_time": "2021-06-14T16:17:34.855476Z"
    }
   },
   "outputs": [
    {
     "data": {
      "text/plain": [
       "array([-1.75755059,  4.22320341, -0.04545038, -0.48324432, -0.00956268,\n",
       "        1.20575322, -0.94820644, -0.04617917, -0.13923911, -0.32942188,\n",
       "       -0.05432567, -0.13524682,  2.11771738, -1.06382757, -0.60179839,\n",
       "        1.19858037, -1.19858037, -1.92392791])"
      ]
     },
     "execution_count": 110,
     "metadata": {},
     "output_type": "execute_result"
    }
   ],
   "source": [
    "X[0]"
   ]
  },
  {
   "cell_type": "markdown",
   "id": "b5122107",
   "metadata": {},
   "source": [
    "## Divisão das bases em treinamento e teste"
   ]
  },
  {
   "cell_type": "code",
   "execution_count": 111,
   "id": "5e782671",
   "metadata": {
    "ExecuteTime": {
     "end_time": "2021-06-14T16:17:38.347831Z",
     "start_time": "2021-06-14T16:17:38.298815Z"
    }
   },
   "outputs": [],
   "source": [
    "X_train, X_test, y_train, y_test = train_test_split(X, y, test_size = 0.2, random_state = 42)"
   ]
  },
  {
   "cell_type": "code",
   "execution_count": 112,
   "id": "a0ce74b9",
   "metadata": {
    "ExecuteTime": {
     "end_time": "2021-06-14T16:17:40.118049Z",
     "start_time": "2021-06-14T16:17:40.099586Z"
    }
   },
   "outputs": [
    {
     "data": {
      "text/plain": [
       "((96241, 18), (96241,), (24061, 18), (24061,))"
      ]
     },
     "execution_count": 112,
     "metadata": {},
     "output_type": "execute_result"
    }
   ],
   "source": [
    "X_train.shape, y_train.shape, X_test.shape, y_test.shape"
   ]
  },
  {
   "cell_type": "markdown",
   "id": "79e42047",
   "metadata": {},
   "source": [
    "### Salvar as variáveis"
   ]
  },
  {
   "cell_type": "code",
   "execution_count": 215,
   "id": "59a312dc",
   "metadata": {
    "ExecuteTime": {
     "end_time": "2021-06-21T23:35:46.580483Z",
     "start_time": "2021-06-21T23:35:46.538593Z"
    }
   },
   "outputs": [],
   "source": [
    "with open('bases_final.pkl', mode='wb') as f:\n",
    "    pickle.dump([X_train, y_train, X_test, y_test], f)"
   ]
  },
  {
   "cell_type": "markdown",
   "id": "f20f9de3",
   "metadata": {},
   "source": [
    "# Treinamento do modelo"
   ]
  },
  {
   "cell_type": "code",
   "execution_count": 4,
   "id": "12480e3b",
   "metadata": {
    "ExecuteTime": {
     "end_time": "2021-07-07T21:24:25.442502Z",
     "start_time": "2021-07-07T21:24:25.399351Z"
    }
   },
   "outputs": [],
   "source": [
    "import pickle\n",
    "with open('bases_final.pkl', 'rb') as f:\n",
    "    X_train, y_train, X_test, y_test = pickle.load(f)"
   ]
  },
  {
   "cell_type": "code",
   "execution_count": 4,
   "id": "7b06b4ea",
   "metadata": {
    "ExecuteTime": {
     "end_time": "2021-07-06T23:32:02.453051Z",
     "start_time": "2021-07-06T23:32:02.443565Z"
    }
   },
   "outputs": [
    {
     "data": {
      "text/plain": [
       "((96241, 18), (96241,))"
      ]
     },
     "execution_count": 4,
     "metadata": {},
     "output_type": "execute_result"
    }
   ],
   "source": [
    "X_train.shape, y_train.shape"
   ]
  },
  {
   "cell_type": "code",
   "execution_count": 218,
   "id": "7b05d179",
   "metadata": {
    "ExecuteTime": {
     "end_time": "2021-06-21T23:36:06.048476Z",
     "start_time": "2021-06-21T23:36:06.030525Z"
    }
   },
   "outputs": [
    {
     "data": {
      "text/plain": [
       "((24061, 18), (24061,))"
      ]
     },
     "execution_count": 218,
     "metadata": {},
     "output_type": "execute_result"
    }
   ],
   "source": [
    "X_test.shape, y_test.shape"
   ]
  },
  {
   "cell_type": "code",
   "execution_count": 213,
   "id": "109d9bd5",
   "metadata": {
    "ExecuteTime": {
     "end_time": "2021-06-21T23:34:32.697438Z",
     "start_time": "2021-06-21T23:34:32.682896Z"
    }
   },
   "outputs": [
    {
     "data": {
      "text/plain": [
       "array([[ 0.56897367, -0.23678708, -0.04545038, ..., -0.83432036,\n",
       "         0.83432036,  0.40754879],\n",
       "       [-1.75755059, -0.23678708, -0.04545038, ..., -0.83432036,\n",
       "         0.83432036, -0.52504189],\n",
       "       [-1.75755059, -0.23678708, -0.04545038, ...,  1.19858037,\n",
       "        -1.19858037,  1.18470769],\n",
       "       ...,\n",
       "       [ 0.56897367, -0.23678708, -0.04545038, ..., -0.83432036,\n",
       "         0.83432036,  1.02927591],\n",
       "       [ 0.56897367, -0.23678708, -0.04545038, ..., -0.83432036,\n",
       "         0.83432036, -0.83590545],\n",
       "       [ 0.56897367, -0.23678708, -0.04545038, ...,  1.19858037,\n",
       "        -1.19858037,  0.87384413]])"
      ]
     },
     "execution_count": 213,
     "metadata": {},
     "output_type": "execute_result"
    }
   ],
   "source": [
    "X_train"
   ]
  },
  {
   "cell_type": "markdown",
   "id": "7d1c551d",
   "metadata": {},
   "source": [
    "## Naive Bayes"
   ]
  },
  {
   "cell_type": "code",
   "execution_count": 5,
   "id": "d0b02bd2",
   "metadata": {
    "ExecuteTime": {
     "end_time": "2021-07-06T23:32:07.847300Z",
     "start_time": "2021-07-06T23:32:07.680665Z"
    }
   },
   "outputs": [
    {
     "data": {
      "text/plain": [
       "array(['publico', 'privado', 'publico', ..., 'privado', 'publico',\n",
       "       'privado'], dtype='<U7')"
      ]
     },
     "execution_count": 5,
     "metadata": {},
     "output_type": "execute_result"
    }
   ],
   "source": [
    "naive = GaussianNB()\n",
    "naive.fit(X_train, y_train)\n",
    "previsoes = naive.predict(X_test)\n",
    "previsoes"
   ]
  },
  {
   "cell_type": "code",
   "execution_count": null,
   "id": "a8bbeb1f",
   "metadata": {
    "ExecuteTime": {
     "end_time": "2021-06-11T11:46:00.254101Z",
     "start_time": "2021-06-11T11:46:00.248606Z"
    }
   },
   "outputs": [],
   "source": [
    "y_test"
   ]
  },
  {
   "cell_type": "code",
   "execution_count": 6,
   "id": "3d4f9e48",
   "metadata": {
    "ExecuteTime": {
     "end_time": "2021-07-06T23:32:11.346393Z",
     "start_time": "2021-07-06T23:32:11.289962Z"
    }
   },
   "outputs": [
    {
     "data": {
      "text/plain": [
       "0.631603009018744"
      ]
     },
     "execution_count": 6,
     "metadata": {},
     "output_type": "execute_result"
    }
   ],
   "source": [
    "accuracy_score(y_test, previsoes)"
   ]
  },
  {
   "cell_type": "code",
   "execution_count": 7,
   "id": "efaa6ec9",
   "metadata": {
    "ExecuteTime": {
     "end_time": "2021-07-06T23:32:14.228636Z",
     "start_time": "2021-07-06T23:32:14.133357Z"
    }
   },
   "outputs": [
    {
     "data": {
      "text/plain": [
       "array([[9732,  290],\n",
       "       [8574, 5465]], dtype=int64)"
      ]
     },
     "execution_count": 7,
     "metadata": {},
     "output_type": "execute_result"
    }
   ],
   "source": [
    "confusion_matrix(y_test, previsoes)"
   ]
  },
  {
   "cell_type": "code",
   "execution_count": 8,
   "id": "e9b81703",
   "metadata": {
    "ExecuteTime": {
     "end_time": "2021-07-06T23:32:17.908863Z",
     "start_time": "2021-07-06T23:32:17.087935Z"
    }
   },
   "outputs": [
    {
     "name": "stdout",
     "output_type": "stream",
     "text": [
      "              precision    recall  f1-score   support\n",
      "\n",
      "     privado       0.53      0.97      0.69     10022\n",
      "     publico       0.95      0.39      0.55     14039\n",
      "\n",
      "    accuracy                           0.63     24061\n",
      "   macro avg       0.74      0.68      0.62     24061\n",
      "weighted avg       0.78      0.63      0.61     24061\n",
      "\n"
     ]
    }
   ],
   "source": [
    "print(classification_report(y_test, previsoes))"
   ]
  },
  {
   "cell_type": "markdown",
   "id": "9805fbab",
   "metadata": {},
   "source": [
    "## Árvores de decisão"
   ]
  },
  {
   "cell_type": "code",
   "execution_count": 6,
   "id": "b1642b7d",
   "metadata": {
    "ExecuteTime": {
     "end_time": "2021-06-23T15:47:37.193989Z",
     "start_time": "2021-06-23T15:47:37.188294Z"
    }
   },
   "outputs": [],
   "source": [
    "from sklearn.tree import DecisionTreeClassifier"
   ]
  },
  {
   "cell_type": "code",
   "execution_count": 7,
   "id": "6018e40a",
   "metadata": {
    "ExecuteTime": {
     "end_time": "2021-06-23T15:47:39.132253Z",
     "start_time": "2021-06-23T15:47:38.410913Z"
    }
   },
   "outputs": [
    {
     "data": {
      "text/plain": [
       "DecisionTreeClassifier(criterion='entropy', random_state=42)"
      ]
     },
     "execution_count": 7,
     "metadata": {},
     "output_type": "execute_result"
    }
   ],
   "source": [
    "arvore = DecisionTreeClassifier(criterion='entropy', random_state=42)\n",
    "arvore.fit(X_train, y_train)"
   ]
  },
  {
   "cell_type": "code",
   "execution_count": 8,
   "id": "2a777db8",
   "metadata": {
    "ExecuteTime": {
     "end_time": "2021-06-23T15:47:45.408890Z",
     "start_time": "2021-06-23T15:47:45.332220Z"
    }
   },
   "outputs": [
    {
     "data": {
      "text/plain": [
       "array(['publico', 'privado', 'publico', ..., 'publico', 'publico',\n",
       "       'privado'], dtype=object)"
      ]
     },
     "execution_count": 8,
     "metadata": {},
     "output_type": "execute_result"
    }
   ],
   "source": [
    "previsoes = arvore.predict(X_test)\n",
    "previsoes"
   ]
  },
  {
   "cell_type": "code",
   "execution_count": null,
   "id": "71b1973b",
   "metadata": {
    "ExecuteTime": {
     "end_time": "2021-06-11T18:29:30.629305Z",
     "start_time": "2021-06-11T18:29:30.616931Z"
    }
   },
   "outputs": [],
   "source": [
    "y_test"
   ]
  },
  {
   "cell_type": "code",
   "execution_count": 11,
   "id": "f45e43d0",
   "metadata": {
    "ExecuteTime": {
     "end_time": "2021-06-23T15:48:19.299533Z",
     "start_time": "2021-06-23T15:48:19.031012Z"
    }
   },
   "outputs": [
    {
     "data": {
      "text/plain": [
       "0.812892232243049"
      ]
     },
     "execution_count": 11,
     "metadata": {},
     "output_type": "execute_result"
    }
   ],
   "source": [
    "accuracy_score(y_test, previsoes)"
   ]
  },
  {
   "cell_type": "code",
   "execution_count": 12,
   "id": "3a728b1a",
   "metadata": {
    "ExecuteTime": {
     "end_time": "2021-06-23T15:48:26.778631Z",
     "start_time": "2021-06-23T15:48:26.501422Z"
    }
   },
   "outputs": [
    {
     "data": {
      "text/plain": [
       "array([[ 8182,  1840],\n",
       "       [ 2662, 11377]], dtype=int64)"
      ]
     },
     "execution_count": 12,
     "metadata": {},
     "output_type": "execute_result"
    }
   ],
   "source": [
    "confusion_matrix(y_test, previsoes)"
   ]
  },
  {
   "cell_type": "code",
   "execution_count": 13,
   "id": "666c88f3",
   "metadata": {
    "ExecuteTime": {
     "end_time": "2021-06-23T15:48:29.808991Z",
     "start_time": "2021-06-23T15:48:27.785276Z"
    }
   },
   "outputs": [
    {
     "name": "stdout",
     "output_type": "stream",
     "text": [
      "              precision    recall  f1-score   support\n",
      "\n",
      "     privado       0.75      0.82      0.78     10022\n",
      "     publico       0.86      0.81      0.83     14039\n",
      "\n",
      "    accuracy                           0.81     24061\n",
      "   macro avg       0.81      0.81      0.81     24061\n",
      "weighted avg       0.82      0.81      0.81     24061\n",
      "\n"
     ]
    }
   ],
   "source": [
    "print(classification_report(y_test, previsoes))"
   ]
  },
  {
   "cell_type": "code",
   "execution_count": 14,
   "id": "2f326b70",
   "metadata": {
    "ExecuteTime": {
     "end_time": "2021-06-23T15:48:31.027092Z",
     "start_time": "2021-06-23T15:48:30.961604Z"
    }
   },
   "outputs": [
    {
     "data": {
      "text/plain": [
       "array([1.47789459e-02, 2.53308779e-03, 1.95694954e-03, 3.21075406e-03,\n",
       "       4.15062049e-05, 1.77841946e-03, 6.20020327e-02, 7.19614584e-04,\n",
       "       1.93371753e-03, 6.58051051e-02, 7.04101767e-04, 1.00538052e-03,\n",
       "       1.15025580e-03, 6.98343897e-02, 2.55717148e-01, 4.61555308e-01,\n",
       "       0.00000000e+00, 5.52732842e-02])"
      ]
     },
     "execution_count": 14,
     "metadata": {},
     "output_type": "execute_result"
    }
   ],
   "source": [
    "arvore.feature_importances_"
   ]
  },
  {
   "cell_type": "code",
   "execution_count": 15,
   "id": "e61d00b1",
   "metadata": {
    "ExecuteTime": {
     "end_time": "2021-06-23T15:48:32.494981Z",
     "start_time": "2021-06-23T15:48:32.473778Z"
    }
   },
   "outputs": [
    {
     "data": {
      "text/plain": [
       "array(['privado', 'publico'], dtype=object)"
      ]
     },
     "execution_count": 15,
     "metadata": {},
     "output_type": "execute_result"
    }
   ],
   "source": [
    "arvore.classes_"
   ]
  },
  {
   "cell_type": "code",
   "execution_count": 16,
   "id": "64f80c52",
   "metadata": {
    "ExecuteTime": {
     "end_time": "2021-06-23T15:52:18.253208Z",
     "start_time": "2021-06-23T15:48:33.907745Z"
    }
   },
   "outputs": [
    {
     "data": {
      "text/plain": [
       "[Text(208.05449465502934, 212.49818181818182, 'X[15] <= 0.182\\nentropy = 0.983\\nsamples = 96241\\nvalue = [40783, 55458]'),\n",
       " Text(127.94108972012175, 202.61454545454546, 'X[14] <= 0.53\\nentropy = 0.951\\nsamples = 56864\\nvalue = [35808, 21056]'),\n",
       " Text(80.66936117931787, 192.73090909090908, 'X[13] <= -0.062\\nentropy = 0.999\\nsamples = 35686\\nvalue = [17281, 18405]'),\n",
       " Text(42.48974404167204, 182.84727272727272, 'X[6] <= 0.053\\nentropy = 0.724\\nsamples = 7704\\nvalue = [1548, 6156]'),\n",
       " Text(27.68593709713807, 172.96363636363637, 'X[9] <= 1.353\\nentropy = 0.616\\nsamples = 5364\\nvalue = [818, 4546]'),\n",
       " Text(13.37620576575996, 163.07999999999998, 'X[17] <= -1.224\\nentropy = 0.661\\nsamples = 4709\\nvalue = [808, 3901]'),\n",
       " Text(3.193915173391775, 153.19636363636363, 'X[0] <= -0.594\\nentropy = 0.837\\nsamples = 1114\\nvalue = [297, 817]'),\n",
       " Text(1.2085084439860772, 143.31272727272727, 'X[12] <= 0.823\\nentropy = 0.727\\nsamples = 395\\nvalue = [80, 315]'),\n",
       " Text(1.0358643805594947, 133.42909090909092, 'entropy = 0.0\\nsamples = 23\\nvalue = [0, 23]'),\n",
       " Text(1.3811525074126596, 133.42909090909092, 'X[1] <= 1.993\\nentropy = 0.751\\nsamples = 372\\nvalue = [80, 292]'),\n",
       " Text(0.6905762537063298, 123.54545454545455, 'X[5] <= 0.188\\nentropy = 0.733\\nsamples = 316\\nvalue = [65, 251]'),\n",
       " Text(0.5179321902797474, 113.66181818181819, 'entropy = 0.0\\nsamples = 2\\nvalue = [0, 2]'),\n",
       " Text(0.8632203171329123, 113.66181818181819, 'X[17] <= -1.846\\nentropy = 0.736\\nsamples = 314\\nvalue = [65, 249]'),\n",
       " Text(0.5179321902797474, 103.77818181818182, 'X[17] <= -2.002\\nentropy = 0.661\\nsamples = 70\\nvalue = [12, 58]'),\n",
       " Text(0.3452881268531649, 93.89454545454547, 'X[17] <= -2.157\\nentropy = 0.722\\nsamples = 35\\nvalue = [7, 28]'),\n",
       " Text(0.17264406342658245, 84.01090909090911, 'entropy = 0.503\\nsamples = 9\\nvalue = [1, 8]'),\n",
       " Text(0.5179321902797474, 84.01090909090911, 'entropy = 0.779\\nsamples = 26\\nvalue = [6, 20]'),\n",
       " Text(0.6905762537063298, 93.89454545454547, 'entropy = 0.592\\nsamples = 35\\nvalue = [5, 30]'),\n",
       " Text(1.2085084439860772, 103.77818181818182, 'X[17] <= -1.691\\nentropy = 0.755\\nsamples = 244\\nvalue = [53, 191]'),\n",
       " Text(1.0358643805594947, 93.89454545454547, 'entropy = 0.86\\nsamples = 60\\nvalue = [17, 43]'),\n",
       " Text(1.3811525074126596, 93.89454545454547, 'X[17] <= -1.535\\nentropy = 0.713\\nsamples = 184\\nvalue = [36, 148]'),\n",
       " Text(1.2085084439860772, 84.01090909090911, 'entropy = 0.758\\nsamples = 64\\nvalue = [14, 50]'),\n",
       " Text(1.553796570839242, 84.01090909090911, 'X[17] <= -1.38\\nentropy = 0.687\\nsamples = 120\\nvalue = [22, 98]'),\n",
       " Text(1.3811525074126596, 74.12727272727273, 'entropy = 0.65\\nsamples = 60\\nvalue = [10, 50]'),\n",
       " Text(1.7264406342658245, 74.12727272727273, 'entropy = 0.722\\nsamples = 60\\nvalue = [12, 48]'),\n",
       " Text(2.0717287611189894, 123.54545454545455, 'X[17] <= -2.002\\nentropy = 0.838\\nsamples = 56\\nvalue = [15, 41]'),\n",
       " Text(1.899084697692407, 113.66181818181819, 'entropy = 0.0\\nsamples = 5\\nvalue = [0, 5]'),\n",
       " Text(2.2443728245455716, 113.66181818181819, 'X[17] <= -1.535\\nentropy = 0.874\\nsamples = 51\\nvalue = [15, 36]'),\n",
       " Text(1.899084697692407, 103.77818181818182, 'X[17] <= -1.846\\nentropy = 0.764\\nsamples = 27\\nvalue = [6, 21]'),\n",
       " Text(1.7264406342658245, 93.89454545454547, 'entropy = 0.985\\nsamples = 7\\nvalue = [3, 4]'),\n",
       " Text(2.0717287611189894, 93.89454545454547, 'X[17] <= -1.691\\nentropy = 0.61\\nsamples = 20\\nvalue = [3, 17]'),\n",
       " Text(1.899084697692407, 84.01090909090911, 'entropy = 0.439\\nsamples = 11\\nvalue = [1, 10]'),\n",
       " Text(2.2443728245455716, 84.01090909090911, 'entropy = 0.764\\nsamples = 9\\nvalue = [2, 7]'),\n",
       " Text(2.589660951398737, 103.77818181818182, 'X[17] <= -1.38\\nentropy = 0.954\\nsamples = 24\\nvalue = [9, 15]'),\n",
       " Text(2.4170168879721543, 93.89454545454547, 'entropy = 0.996\\nsamples = 13\\nvalue = [7, 6]'),\n",
       " Text(2.762305014825319, 93.89454545454547, 'entropy = 0.684\\nsamples = 11\\nvalue = [2, 9]'),\n",
       " Text(5.179321902797474, 143.31272727272727, 'X[17] <= -1.535\\nentropy = 0.883\\nsamples = 719\\nvalue = [217, 502]'),\n",
       " Text(3.9708134588113966, 133.42909090909092, 'X[17] <= -2.002\\nentropy = 0.928\\nsamples = 434\\nvalue = [149, 285]'),\n",
       " Text(3.2802372051050668, 123.54545454545455, 'X[17] <= -2.313\\nentropy = 0.777\\nsamples = 48\\nvalue = [11, 37]'),\n",
       " Text(3.107593141678484, 113.66181818181819, 'entropy = 0.0\\nsamples = 3\\nvalue = [0, 3]'),\n",
       " Text(3.452881268531649, 113.66181818181819, 'X[11] <= 3.629\\nentropy = 0.802\\nsamples = 45\\nvalue = [11, 34]'),\n",
       " Text(3.2802372051050668, 103.77818181818182, 'X[17] <= -2.157\\nentropy = 0.773\\nsamples = 44\\nvalue = [10, 34]'),\n",
       " Text(3.107593141678484, 93.89454545454547, 'entropy = 0.619\\nsamples = 13\\nvalue = [2, 11]'),\n",
       " Text(3.452881268531649, 93.89454545454547, 'entropy = 0.824\\nsamples = 31\\nvalue = [8, 23]'),\n",
       " Text(3.6255253319582312, 103.77818181818182, 'entropy = 0.0\\nsamples = 1\\nvalue = [1, 0]'),\n",
       " Text(4.661389712517726, 123.54545454545455, 'X[12] <= 0.823\\nentropy = 0.941\\nsamples = 386\\nvalue = [138, 248]'),\n",
       " Text(4.143457522237979, 113.66181818181819, 'X[17] <= -1.846\\nentropy = 0.65\\nsamples = 24\\nvalue = [4, 20]'),\n",
       " Text(3.9708134588113966, 103.77818181818182, 'entropy = 0.0\\nsamples = 6\\nvalue = [0, 6]'),\n",
       " Text(4.316101585664561, 103.77818181818182, 'X[11] <= 3.629\\nentropy = 0.764\\nsamples = 18\\nvalue = [4, 14]'),\n",
       " Text(4.143457522237979, 93.89454545454547, 'entropy = 0.0\\nsamples = 3\\nvalue = [0, 3]'),\n",
       " Text(4.488745649091143, 93.89454545454547, 'X[17] <= -1.691\\nentropy = 0.837\\nsamples = 15\\nvalue = [4, 11]'),\n",
       " Text(4.316101585664561, 84.01090909090911, 'entropy = 0.881\\nsamples = 10\\nvalue = [3, 7]'),\n",
       " Text(4.661389712517726, 84.01090909090911, 'entropy = 0.722\\nsamples = 5\\nvalue = [1, 4]'),\n",
       " Text(5.179321902797474, 113.66181818181819, 'X[5] <= 0.188\\nentropy = 0.951\\nsamples = 362\\nvalue = [134, 228]'),\n",
       " Text(5.006677839370891, 103.77818181818182, 'entropy = 0.0\\nsamples = 2\\nvalue = [0, 2]'),\n",
       " Text(5.351965966224056, 103.77818181818182, 'X[17] <= -1.691\\nentropy = 0.952\\nsamples = 360\\nvalue = [134, 226]'),\n",
       " Text(5.179321902797474, 93.89454545454547, 'X[17] <= -1.846\\nentropy = 0.968\\nsamples = 228\\nvalue = [90, 138]'),\n",
       " Text(5.006677839370891, 84.01090909090911, 'entropy = 0.966\\nsamples = 102\\nvalue = [40, 62]'),\n",
       " Text(5.351965966224056, 84.01090909090911, 'entropy = 0.969\\nsamples = 126\\nvalue = [50, 76]'),\n",
       " Text(5.524610029650638, 93.89454545454547, 'entropy = 0.918\\nsamples = 132\\nvalue = [44, 88]'),\n",
       " Text(6.38783034678355, 133.42909090909092, 'X[10] <= 9.177\\nentropy = 0.793\\nsamples = 285\\nvalue = [68, 217]'),\n",
       " Text(6.215186283356968, 123.54545454545455, 'X[17] <= -1.38\\nentropy = 0.796\\nsamples = 283\\nvalue = [68, 215]'),\n",
       " Text(5.869898156503803, 113.66181818181819, 'X[11] <= 3.629\\nentropy = 0.819\\nsamples = 145\\nvalue = [37, 108]'),\n",
       " Text(5.697254093077221, 103.77818181818182, 'entropy = 0.82\\nsamples = 137\\nvalue = [35, 102]'),\n",
       " Text(6.042542219930386, 103.77818181818182, 'entropy = 0.811\\nsamples = 8\\nvalue = [2, 6]'),\n",
       " Text(6.5604744102101336, 113.66181818181819, 'X[12] <= 0.823\\nentropy = 0.769\\nsamples = 138\\nvalue = [31, 107]'),\n",
       " Text(6.38783034678355, 103.77818181818182, 'entropy = 0.918\\nsamples = 9\\nvalue = [3, 6]'),\n",
       " Text(6.733118473636716, 103.77818181818182, 'entropy = 0.755\\nsamples = 129\\nvalue = [28, 101]'),\n",
       " Text(6.5604744102101336, 123.54545454545455, 'entropy = 0.0\\nsamples = 2\\nvalue = [0, 2]'),\n",
       " Text(23.558496358128142, 153.19636363636363, 'X[17] <= 0.33\\nentropy = 0.59\\nsamples = 3595\\nvalue = [511, 3084]'),\n",
       " Text(12.77431191182158, 143.31272727272727, 'X[10] <= 9.177\\nentropy = 0.55\\nsamples = 2028\\nvalue = [258, 1770]'),\n",
       " Text(12.601667848395, 133.42909090909092, 'X[2] <= 10.978\\nentropy = 0.555\\nsamples = 2001\\nvalue = [258, 1743]'),\n",
       " Text(10.647283099136265, 123.54545454545455, 'X[0] <= -0.594\\nentropy = 0.551\\nsamples = 1996\\nvalue = [255, 1741]'),\n",
       " Text(7.256445790898543, 113.66181818181819, 'X[7] <= 10.804\\nentropy = 0.486\\nsamples = 759\\nvalue = [80, 679]'),\n",
       " Text(7.083801727471961, 103.77818181818182, 'X[5] <= 0.188\\nentropy = 0.482\\nsamples = 758\\nvalue = [79, 679]'),\n",
       " Text(6.911157664045379, 93.89454545454547, 'entropy = 0.0\\nsamples = 11\\nvalue = [0, 11]'),\n",
       " Text(7.256445790898543, 93.89454545454547, 'X[17] <= -1.069\\nentropy = 0.487\\nsamples = 747\\nvalue = [79, 668]'),\n",
       " Text(5.697254093077221, 84.01090909090911, 'X[1] <= 1.993\\nentropy = 0.597\\nsamples = 76\\nvalue = [11, 65]'),\n",
       " Text(5.524610029650638, 74.12727272727273, 'X[12] <= 0.823\\nentropy = 0.687\\nsamples = 60\\nvalue = [11, 49]'),\n",
       " Text(5.351965966224056, 64.24363636363637, 'entropy = 0.0\\nsamples = 2\\nvalue = [0, 2]'),\n",
       " Text(5.697254093077221, 64.24363636363637, 'entropy = 0.701\\nsamples = 58\\nvalue = [11, 47]'),\n",
       " Text(5.869898156503803, 74.12727272727273, 'entropy = 0.0\\nsamples = 16\\nvalue = [0, 16]'),\n",
       " Text(8.815637488719867, 84.01090909090911, 'X[17] <= -0.447\\nentropy = 0.473\\nsamples = 671\\nvalue = [68, 603]'),\n",
       " Text(6.862601521206653, 74.12727272727273, 'X[17] <= -0.758\\nentropy = 0.409\\nsamples = 293\\nvalue = [24, 269]'),\n",
       " Text(6.042542219930386, 64.24363636363637, 'X[3] <= 0.793\\nentropy = 0.481\\nsamples = 154\\nvalue = [16, 138]'),\n",
       " Text(5.61093206136393, 54.360000000000014, 'X[17] <= -0.914\\nentropy = 0.679\\nsamples = 39\\nvalue = [7, 32]'),\n",
       " Text(5.438287997937347, 44.47636363636366, 'X[12] <= 0.823\\nentropy = 0.469\\nsamples = 20\\nvalue = [2, 18]'),\n",
       " Text(5.265643934510765, 34.592727272727274, 'entropy = 0.0\\nsamples = 1\\nvalue = [0, 1]'),\n",
       " Text(5.61093206136393, 34.592727272727274, 'entropy = 0.485\\nsamples = 19\\nvalue = [2, 17]'),\n",
       " Text(5.783576124790512, 44.47636363636366, 'entropy = 0.831\\nsamples = 19\\nvalue = [5, 14]'),\n",
       " Text(6.474152378496842, 54.360000000000014, 'X[17] <= -0.914\\nentropy = 0.396\\nsamples = 115\\nvalue = [9, 106]'),\n",
       " Text(6.128864251643677, 44.47636363636366, 'X[11] <= 3.629\\nentropy = 0.429\\nsamples = 57\\nvalue = [5, 52]'),\n",
       " Text(5.956220188217094, 34.592727272727274, 'entropy = 0.391\\nsamples = 52\\nvalue = [4, 48]'),\n",
       " Text(6.30150831507026, 34.592727272727274, 'entropy = 0.722\\nsamples = 5\\nvalue = [1, 4]'),\n",
       " Text(6.8194405053500065, 44.47636363636366, 'X[11] <= 3.629\\nentropy = 0.362\\nsamples = 58\\nvalue = [4, 54]'),\n",
       " Text(6.646796441923424, 34.592727272727274, 'entropy = 0.391\\nsamples = 52\\nvalue = [4, 48]'),\n",
       " Text(6.99208456877659, 34.592727272727274, 'entropy = 0.0\\nsamples = 6\\nvalue = [0, 6]'),\n",
       " Text(7.682660822482919, 64.24363636363637, 'X[12] <= 0.823\\nentropy = 0.318\\nsamples = 139\\nvalue = [8, 131]'),\n",
       " Text(7.337372695629754, 54.360000000000014, 'X[1] <= 1.993\\nentropy = 0.592\\nsamples = 7\\nvalue = [1, 6]'),\n",
       " Text(7.164728632203172, 44.47636363636366, 'entropy = 0.0\\nsamples = 5\\nvalue = [0, 5]'),\n",
       " Text(7.510016759056336, 44.47636363636366, 'X[17] <= -0.603\\nentropy = 1.0\\nsamples = 2\\nvalue = [1, 1]'),\n",
       " Text(7.337372695629754, 34.592727272727274, 'entropy = 0.0\\nsamples = 1\\nvalue = [0, 1]'),\n",
       " Text(7.682660822482919, 34.592727272727274, 'entropy = 0.0\\nsamples = 1\\nvalue = [1, 0]'),\n",
       " Text(8.027948949336084, 54.360000000000014, 'X[3] <= 0.793\\nentropy = 0.299\\nsamples = 132\\nvalue = [7, 125]'),\n",
       " Text(7.855304885909502, 44.47636363636366, 'entropy = 0.0\\nsamples = 28\\nvalue = [0, 28]'),\n",
       " Text(8.200593012762667, 44.47636363636366, 'X[17] <= -0.603\\nentropy = 0.356\\nsamples = 104\\nvalue = [7, 97]'),\n",
       " Text(8.027948949336084, 34.592727272727274, 'entropy = 0.294\\nsamples = 58\\nvalue = [3, 55]'),\n",
       " Text(8.373237076189248, 34.592727272727274, 'entropy = 0.426\\nsamples = 46\\nvalue = [4, 42]'),\n",
       " Text(10.76867345623308, 74.12727272727273, 'X[17] <= -0.136\\nentropy = 0.519\\nsamples = 378\\nvalue = [44, 334]'),\n",
       " Text(9.495423488462034, 64.24363636363637, 'X[12] <= 0.823\\nentropy = 0.599\\nsamples = 151\\nvalue = [22, 129]'),\n",
       " Text(9.063813329895579, 54.360000000000014, 'X[17] <= -0.292\\nentropy = 0.918\\nsamples = 12\\nvalue = [4, 8]'),\n",
       " Text(8.891169266468996, 44.47636363636366, 'X[3] <= 0.793\\nentropy = 0.65\\nsamples = 6\\nvalue = [1, 5]'),\n",
       " Text(8.718525203042415, 34.592727272727274, 'entropy = 0.0\\nsamples = 1\\nvalue = [0, 1]'),\n",
       " Text(9.063813329895579, 34.592727272727274, 'entropy = 0.722\\nsamples = 5\\nvalue = [1, 4]'),\n",
       " Text(9.23645739332216, 44.47636363636366, 'entropy = 1.0\\nsamples = 6\\nvalue = [3, 3]'),\n",
       " Text(9.927033647028491, 54.360000000000014, 'X[3] <= 0.793\\nentropy = 0.556\\nsamples = 139\\nvalue = [18, 121]'),\n",
       " Text(9.581745520175327, 44.47636363636366, 'X[17] <= -0.292\\nentropy = 0.75\\nsamples = 28\\nvalue = [6, 22]'),\n",
       " Text(9.409101456748743, 34.592727272727274, 'entropy = 0.954\\nsamples = 16\\nvalue = [6, 10]'),\n",
       " Text(9.754389583601908, 34.592727272727274, 'entropy = 0.0\\nsamples = 12\\nvalue = [0, 12]'),\n",
       " Text(10.272321773881655, 44.47636363636366, 'X[17] <= -0.292\\nentropy = 0.494\\nsamples = 111\\nvalue = [12, 99]'),\n",
       " Text(10.099677710455074, 34.592727272727274, 'entropy = 0.414\\nsamples = 60\\nvalue = [5, 55]'),\n",
       " Text(10.444965837308239, 34.592727272727274, 'entropy = 0.577\\nsamples = 51\\nvalue = [7, 44]'),\n",
       " Text(12.041923424004127, 64.24363636363637, 'X[17] <= 0.019\\nentropy = 0.459\\nsamples = 227\\nvalue = [22, 205]'),\n",
       " Text(11.30818615444115, 54.360000000000014, 'X[1] <= 1.993\\nentropy = 0.391\\nsamples = 78\\nvalue = [6, 72]'),\n",
       " Text(10.962898027587986, 44.47636363636366, 'X[11] <= 3.629\\nentropy = 0.286\\nsamples = 60\\nvalue = [3, 57]'),\n",
       " Text(10.790253964161403, 34.592727272727274, 'entropy = 0.301\\nsamples = 56\\nvalue = [3, 53]'),\n",
       " Text(11.135542091014567, 34.592727272727274, 'entropy = 0.0\\nsamples = 4\\nvalue = [0, 4]'),\n",
       " Text(11.653474281294315, 44.47636363636366, 'X[11] <= 3.629\\nentropy = 0.65\\nsamples = 18\\nvalue = [3, 15]'),\n",
       " Text(11.480830217867734, 34.592727272727274, 'entropy = 0.696\\nsamples = 16\\nvalue = [3, 13]'),\n",
       " Text(11.826118344720898, 34.592727272727274, 'entropy = 0.0\\nsamples = 2\\nvalue = [0, 2]'),\n",
       " Text(12.7756606935671, 54.360000000000014, 'X[17] <= 0.174\\nentropy = 0.492\\nsamples = 149\\nvalue = [16, 133]'),\n",
       " Text(12.344050535000646, 44.47636363636366, 'X[11] <= 3.629\\nentropy = 0.527\\nsamples = 84\\nvalue = [10, 74]'),\n",
       " Text(12.171406471574063, 34.592727272727274, 'X[1] <= 1.993\\nentropy = 0.548\\nsamples = 79\\nvalue = [10, 69]'),\n",
       " Text(11.99876240814748, 24.709090909090918, 'entropy = 0.544\\nsamples = 64\\nvalue = [8, 56]'),\n",
       " Text(12.344050535000646, 24.709090909090918, 'entropy = 0.567\\nsamples = 15\\nvalue = [2, 13]'),\n",
       " Text(12.516694598427227, 34.592727272727274, 'entropy = 0.0\\nsamples = 5\\nvalue = [0, 5]'),\n",
       " Text(13.207270852133558, 44.47636363636366, 'X[3] <= 0.793\\nentropy = 0.444\\nsamples = 65\\nvalue = [6, 59]'),\n",
       " Text(12.861982725280393, 34.592727272727274, 'X[12] <= 0.823\\nentropy = 0.286\\nsamples = 20\\nvalue = [1, 19]'),\n",
       " Text(12.68933866185381, 24.709090909090918, 'entropy = 0.0\\nsamples = 1\\nvalue = [0, 1]'),\n",
       " Text(13.034626788706975, 24.709090909090918, 'entropy = 0.297\\nsamples = 19\\nvalue = [1, 18]'),\n",
       " Text(13.552558978986722, 34.592727272727274, 'X[12] <= 0.823\\nentropy = 0.503\\nsamples = 45\\nvalue = [5, 40]'),\n",
       " Text(13.37991491556014, 24.709090909090918, 'entropy = 0.65\\nsamples = 6\\nvalue = [1, 5]'),\n",
       " Text(13.725203042413305, 24.709090909090918, 'entropy = 0.477\\nsamples = 39\\nvalue = [4, 35]'),\n",
       " Text(7.4290898543251265, 103.77818181818182, 'entropy = 0.0\\nsamples = 1\\nvalue = [1, 0]'),\n",
       " Text(14.038120407373986, 113.66181818181819, 'X[17] <= -0.914\\nentropy = 0.588\\nsamples = 1237\\nvalue = [175, 1062]'),\n",
       " Text(12.905143741137039, 103.77818181818182, 'X[8] <= 3.521\\nentropy = 0.679\\nsamples = 256\\nvalue = [46, 210]'),\n",
       " Text(12.732499677710456, 93.89454545454547, 'X[5] <= 0.188\\nentropy = 0.672\\nsamples = 255\\nvalue = [45, 210]'),\n",
       " Text(12.559855614283872, 84.01090909090911, 'entropy = 0.0\\nsamples = 1\\nvalue = [0, 1]'),\n",
       " Text(12.905143741137039, 84.01090909090911, 'X[17] <= -1.069\\nentropy = 0.674\\nsamples = 254\\nvalue = [45, 209]'),\n",
       " Text(12.559855614283872, 74.12727272727273, 'X[12] <= 0.823\\nentropy = 0.702\\nsamples = 121\\nvalue = [23, 98]'),\n",
       " Text(12.387211550857291, 64.24363636363637, 'entropy = 0.65\\nsamples = 6\\nvalue = [1, 5]'),\n",
       " Text(12.732499677710456, 64.24363636363637, 'entropy = 0.704\\nsamples = 115\\nvalue = [22, 93]'),\n",
       " Text(13.250431867990203, 74.12727272727273, 'X[12] <= 0.823\\nentropy = 0.647\\nsamples = 133\\nvalue = [22, 111]'),\n",
       " Text(13.07778780456362, 64.24363636363637, 'entropy = 0.592\\nsamples = 7\\nvalue = [1, 6]'),\n",
       " Text(13.423075931416786, 64.24363636363637, 'entropy = 0.65\\nsamples = 126\\nvalue = [21, 105]'),\n",
       " Text(13.07778780456362, 93.89454545454547, 'entropy = 0.0\\nsamples = 1\\nvalue = [1, 0]'),\n",
       " Text(15.171097073610932, 103.77818181818182, 'X[5] <= 0.188\\nentropy = 0.562\\nsamples = 981\\nvalue = [129, 852]'),\n",
       " Text(13.941008121696532, 93.89454545454547, 'X[17] <= -0.292\\nentropy = 0.222\\nsamples = 28\\nvalue = [1, 27]'),\n",
       " Text(13.76836405826995, 84.01090909090911, 'X[17] <= -0.447\\nentropy = 0.371\\nsamples = 14\\nvalue = [1, 13]'),\n",
       " Text(13.595719994843368, 74.12727272727273, 'entropy = 0.0\\nsamples = 9\\nvalue = [0, 9]'),\n",
       " Text(13.941008121696532, 74.12727272727273, 'X[7] <= 10.804\\nentropy = 0.722\\nsamples = 5\\nvalue = [1, 4]'),\n",
       " Text(13.76836405826995, 64.24363636363637, 'entropy = 0.811\\nsamples = 4\\nvalue = [1, 3]'),\n",
       " Text(14.113652185123115, 64.24363636363637, 'entropy = 0.0\\nsamples = 1\\nvalue = [0, 1]'),\n",
       " Text(14.113652185123115, 84.01090909090911, 'entropy = 0.0\\nsamples = 14\\nvalue = [0, 14]'),\n",
       " Text(16.401186025525334, 93.89454545454547, 'X[17] <= -0.292\\nentropy = 0.569\\nsamples = 953\\nvalue = [128, 825]'),\n",
       " Text(15.235838597395901, 84.01090909090911, 'X[12] <= 0.823\\nentropy = 0.543\\nsamples = 497\\nvalue = [62, 435]'),\n",
       " Text(14.631584375402863, 74.12727272727273, 'X[17] <= -0.758\\nentropy = 0.433\\nsamples = 45\\nvalue = [4, 41]'),\n",
       " Text(14.45894031197628, 64.24363636363637, 'entropy = 0.619\\nsamples = 13\\nvalue = [2, 11]'),\n",
       " Text(14.804228438829446, 64.24363636363637, 'X[17] <= -0.603\\nentropy = 0.337\\nsamples = 32\\nvalue = [2, 30]'),\n",
       " Text(14.631584375402863, 54.360000000000014, 'entropy = 0.0\\nsamples = 6\\nvalue = [0, 6]'),\n",
       " Text(14.976872502256027, 54.360000000000014, 'X[17] <= -0.447\\nentropy = 0.391\\nsamples = 26\\nvalue = [2, 24]'),\n",
       " Text(14.804228438829446, 44.47636363636366, 'entropy = 0.391\\nsamples = 13\\nvalue = [1, 12]'),\n",
       " Text(15.14951656568261, 44.47636363636366, 'entropy = 0.391\\nsamples = 13\\nvalue = [1, 12]'),\n",
       " Text(15.84009281938894, 74.12727272727273, 'X[17] <= -0.603\\nentropy = 0.553\\nsamples = 452\\nvalue = [58, 394]'),\n",
       " Text(15.494804692535775, 64.24363636363637, 'X[17] <= -0.758\\nentropy = 0.528\\nsamples = 226\\nvalue = [27, 199]'),\n",
       " Text(15.322160629109192, 54.360000000000014, 'entropy = 0.562\\nsamples = 114\\nvalue = [15, 99]'),\n",
       " Text(15.667448755962358, 54.360000000000014, 'entropy = 0.491\\nsamples = 112\\nvalue = [12, 100]'),\n",
       " Text(16.185380946242105, 64.24363636363637, 'X[17] <= -0.447\\nentropy = 0.577\\nsamples = 226\\nvalue = [31, 195]'),\n",
       " Text(16.01273688281552, 54.360000000000014, 'entropy = 0.643\\nsamples = 104\\nvalue = [17, 87]'),\n",
       " Text(16.358025009668687, 54.360000000000014, 'entropy = 0.514\\nsamples = 122\\nvalue = [14, 108]'),\n",
       " Text(17.566533453654763, 84.01090909090911, 'X[12] <= 0.823\\nentropy = 0.597\\nsamples = 456\\nvalue = [66, 390]'),\n",
       " Text(17.048601263375016, 74.12727272727273, 'X[17] <= 0.174\\nentropy = 0.759\\nsamples = 41\\nvalue = [9, 32]'),\n",
       " Text(16.875957199948434, 64.24363636363637, 'X[17] <= -0.136\\nentropy = 0.787\\nsamples = 34\\nvalue = [8, 26]'),\n",
       " Text(16.703313136521853, 54.360000000000014, 'entropy = 0.722\\nsamples = 15\\nvalue = [3, 12]'),\n",
       " Text(17.048601263375016, 54.360000000000014, 'X[17] <= 0.019\\nentropy = 0.831\\nsamples = 19\\nvalue = [5, 14]'),\n",
       " Text(16.875957199948434, 44.47636363636366, 'entropy = 0.811\\nsamples = 8\\nvalue = [2, 6]'),\n",
       " Text(17.2212453268016, 44.47636363636366, 'entropy = 0.845\\nsamples = 11\\nvalue = [3, 8]'),\n",
       " Text(17.2212453268016, 64.24363636363637, 'entropy = 0.592\\nsamples = 7\\nvalue = [1, 6]'),\n",
       " Text(18.08446564393451, 74.12727272727273, 'X[17] <= 0.174\\nentropy = 0.577\\nsamples = 415\\nvalue = [57, 358]'),\n",
       " Text(17.91182158050793, 64.24363636363637, 'X[17] <= 0.019\\nentropy = 0.595\\nsamples = 312\\nvalue = [45, 267]'),\n",
       " Text(17.739177517081348, 54.360000000000014, 'X[17] <= -0.136\\nentropy = 0.576\\nsamples = 212\\nvalue = [29, 183]'),\n",
       " Text(17.566533453654763, 44.47636363636366, 'entropy = 0.619\\nsamples = 104\\nvalue = [16, 88]'),\n",
       " Text(17.91182158050793, 44.47636363636366, 'entropy = 0.53\\nsamples = 108\\nvalue = [13, 95]'),\n",
       " Text(18.08446564393451, 54.360000000000014, 'entropy = 0.634\\nsamples = 100\\nvalue = [16, 84]'),\n",
       " Text(18.257109707361096, 64.24363636363637, 'entropy = 0.519\\nsamples = 103\\nvalue = [12, 91]'),\n",
       " Text(14.556052597653732, 123.54545454545455, 'X[17] <= -0.603\\nentropy = 0.971\\nsamples = 5\\nvalue = [3, 2]'),\n",
       " Text(14.38340853422715, 113.66181818181819, 'entropy = 0.0\\nsamples = 3\\nvalue = [3, 0]'),\n",
       " Text(14.728696661080315, 113.66181818181819, 'entropy = 0.0\\nsamples = 2\\nvalue = [0, 2]'),\n",
       " Text(12.946955975248164, 133.42909090909092, 'entropy = 0.0\\nsamples = 27\\nvalue = [0, 27]'),\n",
       " Text(34.34268080443471, 143.31272727272727, 'X[17] <= 1.884\\nentropy = 0.638\\nsamples = 1567\\nvalue = [253, 1314]'),\n",
       " Text(28.43771432254738, 133.42909090909092, 'X[17] <= 1.262\\nentropy = 0.657\\nsamples = 1366\\nvalue = [232, 1134]'),\n",
       " Text(22.945475054789224, 123.54545454545455, 'X[11] <= 3.629\\nentropy = 0.623\\nsamples = 947\\nvalue = [147, 800]'),\n",
       " Text(21.024809849168495, 113.66181818181819, 'X[17] <= 0.641\\nentropy = 0.601\\nsamples = 840\\nvalue = [123, 717]'),\n",
       " Text(19.206652056207297, 103.77818181818182, 'X[5] <= 0.188\\nentropy = 0.672\\nsamples = 329\\nvalue = [58, 271]'),\n",
       " Text(18.77504189764084, 93.89454545454547, 'X[17] <= 0.485\\nentropy = 0.286\\nsamples = 20\\nvalue = [1, 19]'),\n",
       " Text(18.60239783421426, 84.01090909090911, 'X[8] <= 3.521\\nentropy = 0.439\\nsamples = 11\\nvalue = [1, 10]'),\n",
       " Text(18.429753770787677, 74.12727272727273, 'entropy = 0.0\\nsamples = 2\\nvalue = [0, 2]'),\n",
       " Text(18.77504189764084, 74.12727272727273, 'entropy = 0.503\\nsamples = 9\\nvalue = [1, 8]'),\n",
       " Text(18.947685961067425, 84.01090909090911, 'entropy = 0.0\\nsamples = 9\\nvalue = [0, 9]'),\n",
       " Text(19.638262214773754, 93.89454545454547, 'X[0] <= -0.594\\nentropy = 0.69\\nsamples = 309\\nvalue = [57, 252]'),\n",
       " Text(19.292974087920587, 84.01090909090911, 'X[10] <= 9.177\\nentropy = 0.576\\nsamples = 117\\nvalue = [16, 101]'),\n",
       " Text(19.120330024494006, 74.12727272727273, 'X[17] <= 0.485\\nentropy = 0.585\\nsamples = 114\\nvalue = [16, 98]'),\n",
       " Text(18.77504189764084, 64.24363636363637, 'X[3] <= 0.793\\nentropy = 0.657\\nsamples = 53\\nvalue = [9, 44]'),\n",
       " Text(18.60239783421426, 54.360000000000014, 'entropy = 0.439\\nsamples = 11\\nvalue = [1, 10]'),\n",
       " Text(18.947685961067425, 54.360000000000014, 'entropy = 0.702\\nsamples = 42\\nvalue = [8, 34]'),\n",
       " Text(19.465618151347172, 64.24363636363637, 'X[2] <= 10.978\\nentropy = 0.514\\nsamples = 61\\nvalue = [7, 54]'),\n",
       " Text(19.292974087920587, 54.360000000000014, 'X[4] <= 52.282\\nentropy = 0.52\\nsamples = 60\\nvalue = [7, 53]'),\n",
       " Text(19.120330024494006, 44.47636363636366, 'X[1] <= 1.993\\nentropy = 0.525\\nsamples = 59\\nvalue = [7, 52]'),\n",
       " Text(18.947685961067425, 34.592727272727274, 'entropy = 0.519\\nsamples = 43\\nvalue = [5, 38]'),\n",
       " Text(19.292974087920587, 34.592727272727274, 'entropy = 0.544\\nsamples = 16\\nvalue = [2, 14]'),\n",
       " Text(19.465618151347172, 44.47636363636366, 'entropy = 0.0\\nsamples = 1\\nvalue = [0, 1]'),\n",
       " Text(19.638262214773754, 54.360000000000014, 'entropy = 0.0\\nsamples = 1\\nvalue = [0, 1]'),\n",
       " Text(19.465618151347172, 74.12727272727273, 'entropy = 0.0\\nsamples = 3\\nvalue = [0, 3]'),\n",
       " Text(19.98355034162692, 84.01090909090911, 'X[12] <= 0.823\\nentropy = 0.748\\nsamples = 192\\nvalue = [41, 151]'),\n",
       " Text(19.810906278200335, 74.12727272727273, 'entropy = 0.0\\nsamples = 2\\nvalue = [0, 2]'),\n",
       " Text(20.1561944050535, 74.12727272727273, 'X[17] <= 0.485\\nentropy = 0.752\\nsamples = 190\\nvalue = [41, 149]'),\n",
       " Text(19.98355034162692, 64.24363636363637, 'entropy = 0.73\\nsamples = 93\\nvalue = [19, 74]'),\n",
       " Text(20.328838468480082, 64.24363636363637, 'entropy = 0.772\\nsamples = 97\\nvalue = [22, 75]'),\n",
       " Text(22.84296764212969, 103.77818181818182, 'X[7] <= 10.804\\nentropy = 0.55\\nsamples = 511\\nvalue = [65, 446]'),\n",
       " Text(22.033698594817587, 93.89454545454547, 'X[12] <= 0.823\\nentropy = 0.543\\nsamples = 505\\nvalue = [63, 442]'),\n",
       " Text(20.93309269047312, 84.01090909090911, 'X[3] <= 0.793\\nentropy = 0.337\\nsamples = 16\\nvalue = [1, 15]'),\n",
       " Text(20.76044862704654, 74.12727272727273, 'entropy = 0.0\\nsamples = 11\\nvalue = [0, 11]'),\n",
       " Text(21.105736753899706, 74.12727272727273, 'X[17] <= 0.952\\nentropy = 0.722\\nsamples = 5\\nvalue = [1, 4]'),\n",
       " Text(20.93309269047312, 64.24363636363637, 'X[17] <= 0.796\\nentropy = 1.0\\nsamples = 2\\nvalue = [1, 1]'),\n",
       " Text(20.76044862704654, 54.360000000000014, 'entropy = 0.0\\nsamples = 1\\nvalue = [0, 1]'),\n",
       " Text(21.105736753899706, 54.360000000000014, 'entropy = 0.0\\nsamples = 1\\nvalue = [1, 0]'),\n",
       " Text(21.278380817326287, 64.24363636363637, 'entropy = 0.0\\nsamples = 3\\nvalue = [0, 3]'),\n",
       " Text(23.13430449916205, 84.01090909090911, 'X[2] <= 10.978\\nentropy = 0.549\\nsamples = 489\\nvalue = [62, 427]'),\n",
       " Text(22.961660435735467, 74.12727272727273, 'X[1] <= 1.993\\nentropy = 0.55\\nsamples = 487\\nvalue = [62, 425]'),\n",
       " Text(21.623668944179453, 64.24363636363637, 'X[4] <= 52.282\\nentropy = 0.558\\nsamples = 438\\nvalue = [57, 381]'),\n",
       " Text(21.45102488075287, 54.360000000000014, 'X[17] <= 0.952\\nentropy = 0.559\\nsamples = 437\\nvalue = [57, 380]'),\n",
       " Text(20.242516436766792, 44.47636363636366, 'X[5] <= 0.188\\nentropy = 0.542\\nsamples = 241\\nvalue = [30, 211]'),\n",
       " Text(19.638262214773754, 34.592727272727274, 'X[0] <= -0.594\\nentropy = 0.592\\nsamples = 14\\nvalue = [2, 12]'),\n",
       " Text(19.465618151347172, 24.709090909090918, 'entropy = 0.0\\nsamples = 1\\nvalue = [1, 0]'),\n",
       " Text(19.810906278200335, 24.709090909090918, 'X[17] <= 0.796\\nentropy = 0.391\\nsamples = 13\\nvalue = [1, 12]'),\n",
       " Text(19.638262214773754, 14.825454545454562, 'entropy = 0.544\\nsamples = 8\\nvalue = [1, 7]'),\n",
       " Text(19.98355034162692, 14.825454545454562, 'entropy = 0.0\\nsamples = 5\\nvalue = [0, 5]'),\n",
       " Text(20.84677065875983, 34.592727272727274, 'X[3] <= 0.793\\nentropy = 0.539\\nsamples = 227\\nvalue = [28, 199]'),\n",
       " Text(20.501482531906667, 24.709090909090918, 'X[17] <= 0.796\\nentropy = 0.557\\nsamples = 154\\nvalue = [20, 134]'),\n",
       " Text(20.328838468480082, 14.825454545454562, 'entropy = 0.582\\nsamples = 79\\nvalue = [11, 68]'),\n",
       " Text(20.67412659533325, 14.825454545454562, 'entropy = 0.529\\nsamples = 75\\nvalue = [9, 66]'),\n",
       " Text(21.192058785612996, 24.709090909090918, 'X[17] <= 0.796\\nentropy = 0.499\\nsamples = 73\\nvalue = [8, 65]'),\n",
       " Text(21.019414722186415, 14.825454545454562, 'entropy = 0.482\\nsamples = 48\\nvalue = [5, 43]'),\n",
       " Text(21.364702849039578, 14.825454545454562, 'entropy = 0.529\\nsamples = 25\\nvalue = [3, 22]'),\n",
       " Text(22.65953332473895, 44.47636363636366, 'X[8] <= 3.521\\nentropy = 0.578\\nsamples = 196\\nvalue = [27, 169]'),\n",
       " Text(22.22792316617249, 34.592727272727274, 'X[17] <= 1.107\\nentropy = 0.594\\nsamples = 174\\nvalue = [25, 149]'),\n",
       " Text(21.882635039319325, 24.709090909090918, 'X[0] <= -0.594\\nentropy = 0.641\\nsamples = 86\\nvalue = [14, 72]'),\n",
       " Text(21.709990975892744, 14.825454545454562, 'entropy = 0.619\\nsamples = 26\\nvalue = [4, 22]'),\n",
       " Text(22.055279102745907, 14.825454545454562, 'entropy = 0.65\\nsamples = 60\\nvalue = [10, 50]'),\n",
       " Text(22.573211293025654, 24.709090909090918, 'X[0] <= -0.594\\nentropy = 0.544\\nsamples = 88\\nvalue = [11, 77]'),\n",
       " Text(22.400567229599073, 14.825454545454562, 'entropy = 0.523\\nsamples = 34\\nvalue = [4, 30]'),\n",
       " Text(22.74585535645224, 14.825454545454562, 'entropy = 0.556\\nsamples = 54\\nvalue = [7, 47]'),\n",
       " Text(23.0911434833054, 34.592727272727274, 'X[17] <= 1.107\\nentropy = 0.439\\nsamples = 22\\nvalue = [2, 20]'),\n",
       " Text(22.91849941987882, 24.709090909090918, 'entropy = 0.0\\nsamples = 7\\nvalue = [0, 7]'),\n",
       " Text(23.263787546731987, 24.709090909090918, 'X[3] <= 0.793\\nentropy = 0.567\\nsamples = 15\\nvalue = [2, 13]'),\n",
       " Text(23.0911434833054, 14.825454545454562, 'entropy = 0.439\\nsamples = 11\\nvalue = [1, 10]'),\n",
       " Text(23.436431610158568, 14.825454545454562, 'entropy = 0.811\\nsamples = 4\\nvalue = [1, 3]'),\n",
       " Text(21.796313007606035, 54.360000000000014, 'entropy = 0.0\\nsamples = 1\\nvalue = [0, 1]'),\n",
       " Text(24.299651927291478, 64.24363636363637, 'X[8] <= 3.521\\nentropy = 0.475\\nsamples = 49\\nvalue = [5, 44]'),\n",
       " Text(24.127007863864897, 54.360000000000014, 'X[17] <= 1.107\\nentropy = 0.414\\nsamples = 48\\nvalue = [4, 44]'),\n",
       " Text(23.954363800438315, 44.47636363636366, 'X[17] <= 0.952\\nentropy = 0.503\\nsamples = 36\\nvalue = [4, 32]'),\n",
       " Text(23.781719737011734, 34.592727272727274, 'X[17] <= 0.796\\nentropy = 0.391\\nsamples = 26\\nvalue = [2, 24]'),\n",
       " Text(23.60907567358515, 24.709090909090918, 'entropy = 0.592\\nsamples = 14\\nvalue = [2, 12]'),\n",
       " Text(23.954363800438315, 24.709090909090918, 'entropy = 0.0\\nsamples = 12\\nvalue = [0, 12]'),\n",
       " Text(24.127007863864897, 34.592727272727274, 'entropy = 0.722\\nsamples = 10\\nvalue = [2, 8]'),\n",
       " Text(24.299651927291478, 44.47636363636366, 'entropy = 0.0\\nsamples = 12\\nvalue = [0, 12]'),\n",
       " Text(24.472295990718063, 54.360000000000014, 'entropy = 0.0\\nsamples = 1\\nvalue = [1, 0]'),\n",
       " Text(23.30694856258863, 74.12727272727273, 'entropy = 0.0\\nsamples = 2\\nvalue = [0, 2]'),\n",
       " Text(23.652236689441796, 93.89454545454547, 'X[3] <= 0.793\\nentropy = 0.918\\nsamples = 6\\nvalue = [2, 4]'),\n",
       " Text(23.47959262601521, 84.01090909090911, 'entropy = 0.0\\nsamples = 2\\nvalue = [2, 0]'),\n",
       " Text(23.824880752868378, 84.01090909090911, 'entropy = 0.0\\nsamples = 4\\nvalue = [0, 4]'),\n",
       " Text(24.866140260409953, 113.66181818181819, 'X[17] <= 0.485\\nentropy = 0.768\\nsamples = 107\\nvalue = [24, 83]'),\n",
       " Text(24.170168879721544, 103.77818181818182, 'X[5] <= 0.188\\nentropy = 0.934\\nsamples = 20\\nvalue = [7, 13]'),\n",
       " Text(23.99752481629496, 93.89454545454547, 'entropy = 0.0\\nsamples = 1\\nvalue = [1, 0]'),\n",
       " Text(24.342812943148125, 93.89454545454547, 'X[0] <= -0.594\\nentropy = 0.9\\nsamples = 19\\nvalue = [6, 13]'),\n",
       " Text(24.170168879721544, 84.01090909090911, 'entropy = 0.0\\nsamples = 5\\nvalue = [0, 5]'),\n",
       " Text(24.515457006574707, 84.01090909090911, 'entropy = 0.985\\nsamples = 14\\nvalue = [6, 8]'),\n",
       " Text(25.562111641098365, 103.77818181818182, 'X[17] <= 0.641\\nentropy = 0.713\\nsamples = 87\\nvalue = [17, 70]'),\n",
       " Text(25.033389196854454, 93.89454545454547, 'X[0] <= -0.594\\nentropy = 0.286\\nsamples = 20\\nvalue = [1, 19]'),\n",
       " Text(24.860745133427873, 84.01090909090911, 'entropy = 0.0\\nsamples = 9\\nvalue = [0, 9]'),\n",
       " Text(25.20603326028104, 84.01090909090911, 'X[8] <= 3.521\\nentropy = 0.439\\nsamples = 11\\nvalue = [1, 10]'),\n",
       " Text(25.033389196854454, 74.12727272727273, 'entropy = 0.469\\nsamples = 10\\nvalue = [1, 9]'),\n",
       " Text(25.37867732370762, 74.12727272727273, 'entropy = 0.0\\nsamples = 1\\nvalue = [0, 1]'),\n",
       " Text(26.090834085342273, 93.89454545454547, 'X[5] <= 0.188\\nentropy = 0.793\\nsamples = 67\\nvalue = [16, 51]'),\n",
       " Text(25.91819002191569, 84.01090909090911, 'entropy = 0.0\\nsamples = 2\\nvalue = [0, 2]'),\n",
       " Text(26.263478148768854, 84.01090909090911, 'X[17] <= 0.796\\nentropy = 0.805\\nsamples = 65\\nvalue = [16, 49]'),\n",
       " Text(25.723965450560787, 74.12727272727273, 'X[1] <= 1.993\\nentropy = 0.629\\nsamples = 19\\nvalue = [3, 16]'),\n",
       " Text(25.5513213871342, 64.24363636363637, 'X[0] <= -0.594\\nentropy = 0.672\\nsamples = 17\\nvalue = [3, 14]'),\n",
       " Text(25.37867732370762, 54.360000000000014, 'entropy = 0.592\\nsamples = 7\\nvalue = [1, 6]'),\n",
       " Text(25.723965450560787, 54.360000000000014, 'entropy = 0.722\\nsamples = 10\\nvalue = [2, 8]'),\n",
       " Text(25.896609513987368, 64.24363636363637, 'entropy = 0.0\\nsamples = 2\\nvalue = [0, 2]'),\n",
       " Text(26.802990846976925, 74.12727272727273, 'X[17] <= 0.952\\nentropy = 0.859\\nsamples = 46\\nvalue = [13, 33]'),\n",
       " Text(26.241897640840534, 64.24363636363637, 'X[3] <= 0.793\\nentropy = 0.902\\nsamples = 22\\nvalue = [7, 15]'),\n",
       " Text(26.06925357741395, 54.360000000000014, 'X[1] <= 1.993\\nentropy = 0.75\\nsamples = 14\\nvalue = [3, 11]'),\n",
       " Text(25.896609513987368, 44.47636363636366, 'entropy = 0.811\\nsamples = 12\\nvalue = [3, 9]'),\n",
       " Text(26.241897640840534, 44.47636363636366, 'entropy = 0.0\\nsamples = 2\\nvalue = [0, 2]'),\n",
       " Text(26.414541704267116, 54.360000000000014, 'entropy = 1.0\\nsamples = 8\\nvalue = [4, 4]'),\n",
       " Text(27.36408405311332, 64.24363636363637, 'X[3] <= 0.793\\nentropy = 0.811\\nsamples = 24\\nvalue = [6, 18]'),\n",
       " Text(26.932473894546863, 54.360000000000014, 'X[1] <= 1.993\\nentropy = 0.896\\nsamples = 16\\nvalue = [5, 11]'),\n",
       " Text(26.587185767693697, 44.47636363636366, 'X[17] <= 1.107\\nentropy = 0.863\\nsamples = 14\\nvalue = [4, 10]'),\n",
       " Text(26.414541704267116, 34.592727272727274, 'entropy = 0.592\\nsamples = 7\\nvalue = [1, 6]'),\n",
       " Text(26.75982983112028, 34.592727272727274, 'entropy = 0.985\\nsamples = 7\\nvalue = [3, 4]'),\n",
       " Text(27.277762021400026, 44.47636363636366, 'X[17] <= 1.107\\nentropy = 1.0\\nsamples = 2\\nvalue = [1, 1]'),\n",
       " Text(27.105117957973444, 34.592727272727274, 'entropy = 0.0\\nsamples = 1\\nvalue = [1, 0]'),\n",
       " Text(27.45040608482661, 34.592727272727274, 'entropy = 0.0\\nsamples = 1\\nvalue = [0, 1]'),\n",
       " Text(27.795694211679773, 54.360000000000014, 'X[17] <= 1.107\\nentropy = 0.544\\nsamples = 8\\nvalue = [1, 7]'),\n",
       " Text(27.623050148253192, 44.47636363636366, 'entropy = 0.722\\nsamples = 5\\nvalue = [1, 4]'),\n",
       " Text(27.96833827510636, 44.47636363636366, 'entropy = 0.0\\nsamples = 3\\nvalue = [0, 3]'),\n",
       " Text(33.92995359030553, 123.54545454545455, 'X[2] <= 10.978\\nentropy = 0.728\\nsamples = 419\\nvalue = [85, 334]'),\n",
       " Text(33.75730952687895, 113.66181818181819, 'X[17] <= 1.573\\nentropy = 0.72\\nsamples = 417\\nvalue = [83, 334]'),\n",
       " Text(31.410429289673843, 103.77818181818182, 'X[7] <= 10.804\\nentropy = 0.779\\nsamples = 230\\nvalue = [53, 177]'),\n",
       " Text(30.191130591723606, 93.89454545454547, 'X[12] <= 0.823\\nentropy = 0.77\\nsamples = 222\\nvalue = [50, 172]'),\n",
       " Text(28.91788062395256, 84.01090909090911, 'X[5] <= 0.188\\nentropy = 0.874\\nsamples = 34\\nvalue = [10, 24]'),\n",
       " Text(28.486270465386106, 74.12727272727273, 'X[3] <= 0.793\\nentropy = 0.918\\nsamples = 3\\nvalue = [2, 1]'),\n",
       " Text(28.31362640195952, 64.24363636363637, 'X[10] <= 9.177\\nentropy = 1.0\\nsamples = 2\\nvalue = [1, 1]'),\n",
       " Text(28.14098233853294, 54.360000000000014, 'entropy = 0.0\\nsamples = 1\\nvalue = [0, 1]'),\n",
       " Text(28.486270465386106, 54.360000000000014, 'entropy = 0.0\\nsamples = 1\\nvalue = [1, 0]'),\n",
       " Text(28.658914528812687, 64.24363636363637, 'entropy = 0.0\\nsamples = 1\\nvalue = [1, 0]'),\n",
       " Text(29.349490782519016, 74.12727272727273, 'X[10] <= 9.177\\nentropy = 0.824\\nsamples = 31\\nvalue = [8, 23]'),\n",
       " Text(29.176846719092435, 64.24363636363637, 'X[17] <= 1.418\\nentropy = 0.85\\nsamples = 29\\nvalue = [8, 21]'),\n",
       " Text(28.83155859223927, 54.360000000000014, 'X[3] <= 0.793\\nentropy = 0.937\\nsamples = 17\\nvalue = [6, 11]'),\n",
       " Text(28.658914528812687, 44.47636363636366, 'X[0] <= -0.594\\nentropy = 0.971\\nsamples = 15\\nvalue = [6, 9]'),\n",
       " Text(28.486270465386106, 34.592727272727274, 'entropy = 1.0\\nsamples = 2\\nvalue = [1, 1]'),\n",
       " Text(28.83155859223927, 34.592727272727274, 'entropy = 0.961\\nsamples = 13\\nvalue = [5, 8]'),\n",
       " Text(29.00420265566585, 44.47636363636366, 'entropy = 0.0\\nsamples = 2\\nvalue = [0, 2]'),\n",
       " Text(29.522134845945597, 54.360000000000014, 'X[3] <= 0.793\\nentropy = 0.65\\nsamples = 12\\nvalue = [2, 10]'),\n",
       " Text(29.349490782519016, 44.47636363636366, 'entropy = 0.0\\nsamples = 6\\nvalue = [0, 6]'),\n",
       " Text(29.694778909372182, 44.47636363636366, 'entropy = 0.918\\nsamples = 6\\nvalue = [2, 4]'),\n",
       " Text(29.522134845945597, 64.24363636363637, 'entropy = 0.0\\nsamples = 2\\nvalue = [0, 2]'),\n",
       " Text(31.46438055949465, 84.01090909090911, 'X[1] <= 1.993\\nentropy = 0.747\\nsamples = 188\\nvalue = [40, 148]'),\n",
       " Text(30.98960938507155, 74.12727272727273, 'X[8] <= 3.521\\nentropy = 0.76\\nsamples = 173\\nvalue = [38, 135]'),\n",
       " Text(30.557999226505093, 64.24363636363637, 'X[17] <= 1.418\\nentropy = 0.765\\nsamples = 157\\nvalue = [35, 122]'),\n",
       " Text(30.21271109965193, 54.360000000000014, 'X[3] <= 0.793\\nentropy = 0.732\\nsamples = 78\\nvalue = [16, 62]'),\n",
       " Text(30.040067036225345, 44.47636363636366, 'entropy = 0.715\\nsamples = 56\\nvalue = [11, 45]'),\n",
       " Text(30.38535516307851, 44.47636363636366, 'entropy = 0.773\\nsamples = 22\\nvalue = [5, 17]'),\n",
       " Text(30.90328735335826, 54.360000000000014, 'X[3] <= 0.793\\nentropy = 0.796\\nsamples = 79\\nvalue = [19, 60]'),\n",
       " Text(30.730643289931677, 44.47636363636366, 'entropy = 0.797\\nsamples = 58\\nvalue = [14, 44]'),\n",
       " Text(31.07593141678484, 44.47636363636366, 'entropy = 0.792\\nsamples = 21\\nvalue = [5, 16]'),\n",
       " Text(31.421219543638006, 64.24363636363637, 'X[0] <= -0.594\\nentropy = 0.696\\nsamples = 16\\nvalue = [3, 13]'),\n",
       " Text(31.248575480211425, 54.360000000000014, 'entropy = 0.0\\nsamples = 5\\nvalue = [0, 5]'),\n",
       " Text(31.593863607064588, 54.360000000000014, 'X[17] <= 1.418\\nentropy = 0.845\\nsamples = 11\\nvalue = [3, 8]'),\n",
       " Text(31.421219543638006, 44.47636363636366, 'entropy = 0.863\\nsamples = 7\\nvalue = [2, 5]'),\n",
       " Text(31.766507670491173, 44.47636363636366, 'entropy = 0.811\\nsamples = 4\\nvalue = [1, 3]'),\n",
       " Text(31.939151733917754, 74.12727272727273, 'X[17] <= 1.418\\nentropy = 0.567\\nsamples = 15\\nvalue = [2, 13]'),\n",
       " Text(31.766507670491173, 64.24363636363637, 'entropy = 0.0\\nsamples = 7\\nvalue = [0, 7]'),\n",
       " Text(32.111795797344335, 64.24363636363637, 'X[5] <= 0.188\\nentropy = 0.811\\nsamples = 8\\nvalue = [2, 6]'),\n",
       " Text(31.939151733917754, 54.360000000000014, 'entropy = 0.0\\nsamples = 2\\nvalue = [0, 2]'),\n",
       " Text(32.28443986077092, 54.360000000000014, 'entropy = 0.918\\nsamples = 6\\nvalue = [2, 4]'),\n",
       " Text(32.629727987624086, 93.89454545454547, 'X[17] <= 1.418\\nentropy = 0.954\\nsamples = 8\\nvalue = [3, 5]'),\n",
       " Text(32.4570839241975, 84.01090909090911, 'X[3] <= 0.793\\nentropy = 0.971\\nsamples = 5\\nvalue = [3, 2]'),\n",
       " Text(32.28443986077092, 74.12727272727273, 'entropy = 0.811\\nsamples = 4\\nvalue = [3, 1]'),\n",
       " Text(32.629727987624086, 74.12727272727273, 'entropy = 0.0\\nsamples = 1\\nvalue = [0, 1]'),\n",
       " Text(32.80237205105067, 84.01090909090911, 'entropy = 0.0\\nsamples = 3\\nvalue = [0, 3]'),\n",
       " Text(36.104189764084055, 103.77818181818182, 'X[1] <= 1.993\\nentropy = 0.635\\nsamples = 187\\nvalue = [30, 157]'),\n",
       " Text(34.9172618280263, 93.89454545454547, 'X[10] <= 9.177\\nentropy = 0.602\\nsamples = 170\\nvalue = [25, 145]'),\n",
       " Text(34.74461776459972, 84.01090909090911, 'X[7] <= 10.804\\nentropy = 0.611\\nsamples = 166\\nvalue = [25, 141]'),\n",
       " Text(34.571973701173135, 74.12727272727273, 'X[8] <= 3.521\\nentropy = 0.616\\nsamples = 164\\nvalue = [25, 139]'),\n",
       " Text(33.32030424133041, 64.24363636363637, 'X[17] <= 1.729\\nentropy = 0.602\\nsamples = 136\\nvalue = [20, 116]'),\n",
       " Text(32.629727987624086, 54.360000000000014, 'X[11] <= 3.629\\nentropy = 0.573\\nsamples = 81\\nvalue = [11, 70]'),\n",
       " Text(32.28443986077092, 44.47636363636366, 'X[0] <= -0.594\\nentropy = 0.597\\nsamples = 69\\nvalue = [10, 59]'),\n",
       " Text(32.111795797344335, 34.592727272727274, 'entropy = 0.634\\nsamples = 25\\nvalue = [4, 21]'),\n",
       " Text(32.4570839241975, 34.592727272727274, 'entropy = 0.575\\nsamples = 44\\nvalue = [6, 38]'),\n",
       " Text(32.97501611447725, 44.47636363636366, 'X[3] <= 0.793\\nentropy = 0.414\\nsamples = 12\\nvalue = [1, 11]'),\n",
       " Text(32.80237205105067, 34.592727272727274, 'entropy = 0.0\\nsamples = 6\\nvalue = [0, 6]'),\n",
       " Text(33.14766017790383, 34.592727272727274, 'entropy = 0.65\\nsamples = 6\\nvalue = [1, 5]'),\n",
       " Text(34.010880495036744, 54.360000000000014, 'X[0] <= -0.594\\nentropy = 0.643\\nsamples = 55\\nvalue = [9, 46]'),\n",
       " Text(33.665592368183574, 44.47636363636366, 'X[12] <= 0.823\\nentropy = 0.559\\nsamples = 23\\nvalue = [3, 20]'),\n",
       " Text(33.49294830475699, 34.592727272727274, 'entropy = 0.0\\nsamples = 4\\nvalue = [0, 4]'),\n",
       " Text(33.83823643161016, 34.592727272727274, 'entropy = 0.629\\nsamples = 19\\nvalue = [3, 16]'),\n",
       " Text(34.35616862188991, 44.47636363636366, 'X[12] <= 0.823\\nentropy = 0.696\\nsamples = 32\\nvalue = [6, 26]'),\n",
       " Text(34.183524558463326, 34.592727272727274, 'entropy = 0.811\\nsamples = 8\\nvalue = [2, 6]'),\n",
       " Text(34.52881268531649, 34.592727272727274, 'entropy = 0.65\\nsamples = 24\\nvalue = [4, 20]'),\n",
       " Text(35.82364316101586, 64.24363636363637, 'X[11] <= 3.629\\nentropy = 0.677\\nsamples = 28\\nvalue = [5, 23]'),\n",
       " Text(35.3920330024494, 54.360000000000014, 'X[0] <= -0.594\\nentropy = 0.65\\nsamples = 24\\nvalue = [4, 20]'),\n",
       " Text(35.04674487559624, 44.47636363636366, 'X[17] <= 1.729\\nentropy = 0.722\\nsamples = 5\\nvalue = [1, 4]'),\n",
       " Text(34.87410081216966, 34.592727272727274, 'entropy = 0.0\\nsamples = 1\\nvalue = [0, 1]'),\n",
       " Text(35.21938893902282, 34.592727272727274, 'entropy = 0.811\\nsamples = 4\\nvalue = [1, 3]'),\n",
       " Text(35.737321129302565, 44.47636363636366, 'X[17] <= 1.729\\nentropy = 0.629\\nsamples = 19\\nvalue = [3, 16]'),\n",
       " Text(35.56467706587598, 34.592727272727274, 'entropy = 0.684\\nsamples = 11\\nvalue = [2, 9]'),\n",
       " Text(35.909965192729146, 34.592727272727274, 'entropy = 0.544\\nsamples = 8\\nvalue = [1, 7]'),\n",
       " Text(36.255253319582316, 54.360000000000014, 'X[17] <= 1.729\\nentropy = 0.811\\nsamples = 4\\nvalue = [1, 3]'),\n",
       " Text(36.082609256155735, 44.47636363636366, 'entropy = 0.918\\nsamples = 3\\nvalue = [1, 2]'),\n",
       " Text(36.4278973830089, 44.47636363636366, 'entropy = 0.0\\nsamples = 1\\nvalue = [0, 1]'),\n",
       " Text(34.9172618280263, 74.12727272727273, 'entropy = 0.0\\nsamples = 2\\nvalue = [0, 2]'),\n",
       " Text(35.08990589145289, 84.01090909090911, 'entropy = 0.0\\nsamples = 4\\nvalue = [0, 4]'),\n",
       " Text(37.29111770014181, 93.89454545454547, 'X[7] <= 10.804\\nentropy = 0.874\\nsamples = 17\\nvalue = [5, 12]'),\n",
       " Text(37.11847363671523, 84.01090909090911, 'X[10] <= 9.177\\nentropy = 0.811\\nsamples = 16\\nvalue = [4, 12]'),\n",
       " Text(36.94582957328864, 74.12727272727273, 'X[12] <= 0.823\\nentropy = 0.722\\nsamples = 15\\nvalue = [3, 12]'),\n",
       " Text(36.77318550986206, 64.24363636363637, 'entropy = 0.0\\nsamples = 3\\nvalue = [0, 3]'),\n",
       " Text(37.11847363671523, 64.24363636363637, 'X[8] <= 3.521\\nentropy = 0.811\\nsamples = 12\\nvalue = [3, 9]'),\n",
       " Text(36.94582957328864, 54.360000000000014, 'X[17] <= 1.729\\nentropy = 0.845\\nsamples = 11\\nvalue = [3, 8]'),\n",
       " Text(36.77318550986206, 44.47636363636366, 'entropy = 0.722\\nsamples = 5\\nvalue = [1, 4]'),\n",
       " Text(37.11847363671523, 44.47636363636366, 'entropy = 0.918\\nsamples = 6\\nvalue = [2, 4]'),\n",
       " Text(37.29111770014181, 54.360000000000014, 'entropy = 0.0\\nsamples = 1\\nvalue = [0, 1]'),\n",
       " Text(37.29111770014181, 74.12727272727273, 'entropy = 0.0\\nsamples = 1\\nvalue = [1, 0]'),\n",
       " Text(37.46376176356839, 84.01090909090911, 'entropy = 0.0\\nsamples = 1\\nvalue = [1, 0]'),\n",
       " Text(34.10259765373211, 113.66181818181819, 'entropy = 0.0\\nsamples = 2\\nvalue = [2, 0]'),\n",
       " Text(40.247647286322035, 133.42909090909092, 'X[17] <= 2.817\\nentropy = 0.483\\nsamples = 201\\nvalue = [21, 180]'),\n",
       " Text(39.66497357225732, 123.54545454545455, 'X[17] <= 2.506\\nentropy = 0.446\\nsamples = 194\\nvalue = [18, 176]'),\n",
       " Text(39.492329508830736, 113.66181818181819, 'X[7] <= 10.804\\nentropy = 0.476\\nsamples = 176\\nvalue = [18, 158]'),\n",
       " Text(39.319685445404154, 103.77818181818182, 'X[17] <= 2.195\\nentropy = 0.499\\nsamples = 164\\nvalue = [18, 146]'),\n",
       " Text(38.49962614412789, 93.89454545454547, 'X[1] <= 1.993\\nentropy = 0.405\\nsamples = 99\\nvalue = [8, 91]'),\n",
       " Text(38.326982080701306, 84.01090909090911, 'X[0] <= -0.594\\nentropy = 0.429\\nsamples = 91\\nvalue = [8, 83]'),\n",
       " Text(37.981693953848136, 74.12727272727273, 'X[11] <= 3.629\\nentropy = 0.544\\nsamples = 32\\nvalue = [4, 28]'),\n",
       " Text(37.809049890421555, 64.24363636363637, 'X[8] <= 3.521\\nentropy = 0.469\\nsamples = 30\\nvalue = [3, 27]'),\n",
       " Text(37.636405826994974, 54.360000000000014, 'X[10] <= 9.177\\nentropy = 0.529\\nsamples = 25\\nvalue = [3, 22]'),\n",
       " Text(37.46376176356839, 44.47636363636366, 'X[17] <= 2.04\\nentropy = 0.544\\nsamples = 24\\nvalue = [3, 21]'),\n",
       " Text(37.29111770014181, 34.592727272727274, 'entropy = 0.592\\nsamples = 14\\nvalue = [2, 12]'),\n",
       " Text(37.636405826994974, 34.592727272727274, 'entropy = 0.469\\nsamples = 10\\nvalue = [1, 9]'),\n",
       " Text(37.809049890421555, 44.47636363636366, 'entropy = 0.0\\nsamples = 1\\nvalue = [0, 1]'),\n",
       " Text(37.981693953848136, 54.360000000000014, 'entropy = 0.0\\nsamples = 5\\nvalue = [0, 5]'),\n",
       " Text(38.154338017274725, 64.24363636363637, 'entropy = 1.0\\nsamples = 2\\nvalue = [1, 1]'),\n",
       " Text(38.67227020755447, 74.12727272727273, 'X[12] <= 0.823\\nentropy = 0.358\\nsamples = 59\\nvalue = [4, 55]'),\n",
       " Text(38.49962614412789, 64.24363636363637, 'entropy = 0.0\\nsamples = 6\\nvalue = [0, 6]'),\n",
       " Text(38.84491427098105, 64.24363636363637, 'X[5] <= 0.188\\nentropy = 0.386\\nsamples = 53\\nvalue = [4, 49]'),\n",
       " Text(38.49962614412789, 54.360000000000014, 'X[17] <= 2.04\\nentropy = 0.544\\nsamples = 8\\nvalue = [1, 7]'),\n",
       " Text(38.326982080701306, 44.47636363636366, 'entropy = 0.65\\nsamples = 6\\nvalue = [1, 5]'),\n",
       " Text(38.67227020755447, 44.47636363636366, 'entropy = 0.0\\nsamples = 2\\nvalue = [0, 2]'),\n",
       " Text(39.19020239783421, 54.360000000000014, 'X[17] <= 2.04\\nentropy = 0.353\\nsamples = 45\\nvalue = [3, 42]'),\n",
       " Text(39.01755833440763, 44.47636363636366, 'entropy = 0.362\\nsamples = 29\\nvalue = [2, 27]'),\n",
       " Text(39.3628464612608, 44.47636363636366, 'entropy = 0.337\\nsamples = 16\\nvalue = [1, 15]'),\n",
       " Text(38.67227020755447, 84.01090909090911, 'entropy = 0.0\\nsamples = 8\\nvalue = [0, 8]'),\n",
       " Text(40.13974474668042, 93.89454545454547, 'X[3] <= 0.793\\nentropy = 0.619\\nsamples = 65\\nvalue = [10, 55]'),\n",
       " Text(39.708134588113964, 84.01090909090911, 'X[5] <= 0.188\\nentropy = 0.722\\nsamples = 45\\nvalue = [9, 36]'),\n",
       " Text(39.3628464612608, 74.12727272727273, 'X[17] <= 2.35\\nentropy = 0.439\\nsamples = 11\\nvalue = [1, 10]'),\n",
       " Text(39.19020239783421, 64.24363636363637, 'entropy = 0.544\\nsamples = 8\\nvalue = [1, 7]'),\n",
       " Text(39.53549052468738, 64.24363636363637, 'entropy = 0.0\\nsamples = 3\\nvalue = [0, 3]'),\n",
       " Text(40.05342271496713, 74.12727272727273, 'X[12] <= 0.823\\nentropy = 0.787\\nsamples = 34\\nvalue = [8, 26]'),\n",
       " Text(39.880778651540545, 64.24363636363637, 'entropy = 0.0\\nsamples = 2\\nvalue = [0, 2]'),\n",
       " Text(40.22606677839371, 64.24363636363637, 'X[17] <= 2.35\\nentropy = 0.811\\nsamples = 32\\nvalue = [8, 24]'),\n",
       " Text(40.05342271496713, 54.360000000000014, 'X[0] <= -0.594\\nentropy = 0.755\\nsamples = 23\\nvalue = [5, 18]'),\n",
       " Text(39.880778651540545, 44.47636363636366, 'entropy = 0.811\\nsamples = 4\\nvalue = [1, 3]'),\n",
       " Text(40.22606677839371, 44.47636363636366, 'entropy = 0.742\\nsamples = 19\\nvalue = [4, 15]'),\n",
       " Text(40.3987108418203, 54.360000000000014, 'entropy = 0.918\\nsamples = 9\\nvalue = [3, 6]'),\n",
       " Text(40.57135490524688, 84.01090909090911, 'X[17] <= 2.35\\nentropy = 0.286\\nsamples = 20\\nvalue = [1, 19]'),\n",
       " Text(40.3987108418203, 74.12727272727273, 'entropy = 0.0\\nsamples = 11\\nvalue = [0, 11]'),\n",
       " Text(40.74399896867346, 74.12727272727273, 'X[12] <= 0.823\\nentropy = 0.503\\nsamples = 9\\nvalue = [1, 8]'),\n",
       " Text(40.57135490524688, 64.24363636363637, 'entropy = 0.0\\nsamples = 2\\nvalue = [0, 2]'),\n",
       " Text(40.91664303210004, 64.24363636363637, 'entropy = 0.592\\nsamples = 7\\nvalue = [1, 6]'),\n",
       " Text(39.66497357225732, 103.77818181818182, 'entropy = 0.0\\nsamples = 12\\nvalue = [0, 12]'),\n",
       " Text(39.8376176356839, 113.66181818181819, 'entropy = 0.0\\nsamples = 18\\nvalue = [0, 18]'),\n",
       " Text(40.830321000386746, 123.54545454545455, 'X[5] <= 0.188\\nentropy = 0.985\\nsamples = 7\\nvalue = [3, 4]'),\n",
       " Text(40.485032873533584, 113.66181818181819, 'X[17] <= 3.128\\nentropy = 0.811\\nsamples = 4\\nvalue = [1, 3]'),\n",
       " Text(40.312388810107, 103.77818181818182, 'entropy = 0.0\\nsamples = 2\\nvalue = [0, 2]'),\n",
       " Text(40.657676936960165, 103.77818181818182, 'X[17] <= 3.361\\nentropy = 1.0\\nsamples = 2\\nvalue = [1, 1]'),\n",
       " Text(40.485032873533584, 93.89454545454547, 'entropy = 0.0\\nsamples = 1\\nvalue = [1, 0]'),\n",
       " Text(40.830321000386746, 93.89454545454547, 'entropy = 0.0\\nsamples = 1\\nvalue = [0, 1]'),\n",
       " Text(41.175609127239916, 113.66181818181819, 'X[0] <= -0.594\\nentropy = 0.918\\nsamples = 3\\nvalue = [2, 1]'),\n",
       " Text(41.002965063813335, 103.77818181818182, 'entropy = 0.0\\nsamples = 1\\nvalue = [0, 1]'),\n",
       " Text(41.3482531906665, 103.77818181818182, 'entropy = 0.0\\nsamples = 2\\nvalue = [2, 0]'),\n",
       " Text(41.99566842851618, 163.07999999999998, 'X[0] <= -0.594\\nentropy = 0.114\\nsamples = 655\\nvalue = [10, 645]'),\n",
       " Text(41.47773623823643, 153.19636363636363, 'X[17] <= 1.729\\nentropy = 0.033\\nsamples = 290\\nvalue = [1, 289]'),\n",
       " Text(41.30509217480985, 143.31272727272727, 'entropy = 0.0\\nsamples = 276\\nvalue = [0, 276]'),\n",
       " Text(41.65038030166301, 143.31272727272727, 'X[17] <= 1.884\\nentropy = 0.371\\nsamples = 14\\nvalue = [1, 13]'),\n",
       " Text(41.47773623823643, 133.42909090909092, 'X[3] <= 0.793\\nentropy = 0.918\\nsamples = 3\\nvalue = [1, 2]'),\n",
       " Text(41.30509217480985, 123.54545454545455, 'entropy = 0.0\\nsamples = 1\\nvalue = [0, 1]'),\n",
       " Text(41.65038030166301, 123.54545454545455, 'entropy = 1.0\\nsamples = 2\\nvalue = [1, 1]'),\n",
       " Text(41.8230243650896, 133.42909090909092, 'entropy = 0.0\\nsamples = 11\\nvalue = [0, 11]'),\n",
       " Text(42.51360061879593, 153.19636363636363, 'X[17] <= 0.641\\nentropy = 0.167\\nsamples = 365\\nvalue = [9, 356]'),\n",
       " Text(42.340956555369345, 143.31272727272727, 'X[17] <= -1.069\\nentropy = 0.211\\nsamples = 270\\nvalue = [9, 261]'),\n",
       " Text(42.168312491942764, 133.42909090909092, 'entropy = 0.0\\nsamples = 85\\nvalue = [0, 85]'),\n",
       " Text(42.51360061879593, 133.42909090909092, 'X[17] <= -0.292\\nentropy = 0.281\\nsamples = 185\\nvalue = [9, 176]'),\n",
       " Text(42.03882944437283, 123.54545454545455, 'X[17] <= -0.914\\nentropy = 0.169\\nsamples = 80\\nvalue = [2, 78]'),\n",
       " Text(41.86618538094624, 113.66181818181819, 'X[11] <= 3.629\\nentropy = 0.414\\nsamples = 24\\nvalue = [2, 22]'),\n",
       " Text(41.69354131751966, 103.77818181818182, 'entropy = 0.267\\nsamples = 22\\nvalue = [1, 21]'),\n",
       " Text(42.03882944437283, 103.77818181818182, 'entropy = 1.0\\nsamples = 2\\nvalue = [1, 1]'),\n",
       " Text(42.21147350779941, 113.66181818181819, 'entropy = 0.0\\nsamples = 56\\nvalue = [0, 56]'),\n",
       " Text(42.98837179321903, 123.54545454545455, 'X[17] <= 0.174\\nentropy = 0.353\\nsamples = 105\\nvalue = [7, 98]'),\n",
       " Text(42.556761634652574, 113.66181818181819, 'X[12] <= 0.823\\nentropy = 0.424\\nsamples = 58\\nvalue = [5, 53]'),\n",
       " Text(42.38411757122599, 103.77818181818182, 'entropy = 0.0\\nsamples = 10\\nvalue = [0, 10]'),\n",
       " Text(42.729405698079155, 103.77818181818182, 'X[17] <= 0.019\\nentropy = 0.482\\nsamples = 48\\nvalue = [5, 43]'),\n",
       " Text(42.556761634652574, 93.89454545454547, 'X[17] <= -0.136\\nentropy = 0.449\\nsamples = 32\\nvalue = [3, 29]'),\n",
       " Text(42.38411757122599, 84.01090909090911, 'entropy = 0.523\\nsamples = 17\\nvalue = [2, 15]'),\n",
       " Text(42.729405698079155, 84.01090909090911, 'entropy = 0.353\\nsamples = 15\\nvalue = [1, 14]'),\n",
       " Text(42.90204976150574, 93.89454545454547, 'entropy = 0.544\\nsamples = 16\\nvalue = [2, 14]'),\n",
       " Text(43.41998195178549, 113.66181818181819, 'X[17] <= 0.33\\nentropy = 0.254\\nsamples = 47\\nvalue = [2, 45]'),\n",
       " Text(43.247337888358906, 103.77818181818182, 'entropy = 0.0\\nsamples = 15\\nvalue = [0, 15]'),\n",
       " Text(43.59262601521207, 103.77818181818182, 'X[11] <= 3.629\\nentropy = 0.337\\nsamples = 32\\nvalue = [2, 30]'),\n",
       " Text(43.247337888358906, 93.89454545454547, 'X[17] <= 0.485\\nentropy = 0.235\\nsamples = 26\\nvalue = [1, 25]'),\n",
       " Text(43.07469382493232, 84.01090909090911, 'X[12] <= 0.823\\nentropy = 0.31\\nsamples = 18\\nvalue = [1, 17]'),\n",
       " Text(42.90204976150574, 74.12727272727273, 'entropy = 0.0\\nsamples = 1\\nvalue = [0, 1]'),\n",
       " Text(43.247337888358906, 74.12727272727273, 'entropy = 0.323\\nsamples = 17\\nvalue = [1, 16]'),\n",
       " Text(43.41998195178549, 84.01090909090911, 'entropy = 0.0\\nsamples = 8\\nvalue = [0, 8]'),\n",
       " Text(43.93791414206523, 93.89454545454547, 'X[17] <= 0.485\\nentropy = 0.65\\nsamples = 6\\nvalue = [1, 5]'),\n",
       " Text(43.76527007863865, 84.01090909090911, 'entropy = 0.0\\nsamples = 2\\nvalue = [0, 2]'),\n",
       " Text(44.11055820549181, 84.01090909090911, 'entropy = 0.811\\nsamples = 4\\nvalue = [1, 3]'),\n",
       " Text(42.68624468222251, 143.31272727272727, 'entropy = 0.0\\nsamples = 95\\nvalue = [0, 95]'),\n",
       " Text(57.29355098620601, 172.96363636363637, 'X[0] <= -0.594\\nentropy = 0.895\\nsamples = 2340\\nvalue = [730, 1610]'),\n",
       " Text(52.27136215676164, 163.07999999999998, 'X[17] <= -1.691\\nentropy = 0.817\\nsamples = 655\\nvalue = [166, 489]'),\n",
       " Text(52.09871809333505, 153.19636363636363, 'entropy = 0.0\\nsamples = 8\\nvalue = [0, 8]'),\n",
       " Text(52.44400622018822, 153.19636363636363, 'X[17] <= -1.535\\nentropy = 0.822\\nsamples = 647\\nvalue = [166, 481]'),\n",
       " Text(52.09871809333505, 143.31272727272727, 'X[3] <= 0.793\\nentropy = 0.98\\nsamples = 12\\nvalue = [7, 5]'),\n",
       " Text(51.92607402990847, 133.42909090909092, 'entropy = 0.0\\nsamples = 2\\nvalue = [2, 0]'),\n",
       " Text(52.27136215676164, 133.42909090909092, 'entropy = 1.0\\nsamples = 10\\nvalue = [5, 5]'),\n",
       " Text(52.789294347041384, 143.31272727272727, 'X[17] <= 2.661\\nentropy = 0.812\\nsamples = 635\\nvalue = [159, 476]'),\n",
       " Text(52.6166502836148, 133.42909090909092, 'X[17] <= 1.573\\nentropy = 0.81\\nsamples = 634\\nvalue = [158, 476]'),\n",
       " Text(48.32550116024236, 123.54545454545455, 'X[17] <= -0.758\\nentropy = 0.824\\nsamples = 554\\nvalue = [143, 411]'),\n",
       " Text(45.405388681191184, 113.66181818181819, 'X[17] <= -0.914\\nentropy = 0.718\\nsamples = 91\\nvalue = [18, 73]'),\n",
       " Text(45.06010055433802, 103.77818181818182, 'X[1] <= 1.993\\nentropy = 0.829\\nsamples = 65\\nvalue = [17, 48]'),\n",
       " Text(44.88745649091144, 93.89454545454547, 'X[17] <= -1.38\\nentropy = 0.886\\nsamples = 56\\nvalue = [17, 39]'),\n",
       " Text(44.45584633234498, 84.01090909090911, 'X[12] <= 0.823\\nentropy = 0.65\\nsamples = 12\\nvalue = [2, 10]'),\n",
       " Text(44.2832022689184, 74.12727272727273, 'entropy = 0.0\\nsamples = 2\\nvalue = [0, 2]'),\n",
       " Text(44.628490395771564, 74.12727272727273, 'entropy = 0.722\\nsamples = 10\\nvalue = [2, 8]'),\n",
       " Text(45.3190666494779, 84.01090909090911, 'X[17] <= -1.069\\nentropy = 0.926\\nsamples = 44\\nvalue = [15, 29]'),\n",
       " Text(44.97377852262473, 74.12727272727273, 'X[11] <= 3.629\\nentropy = 0.894\\nsamples = 29\\nvalue = [9, 20]'),\n",
       " Text(44.801134459198146, 64.24363636363637, 'X[17] <= -1.224\\nentropy = 0.863\\nsamples = 28\\nvalue = [8, 20]'),\n",
       " Text(44.628490395771564, 54.360000000000014, 'entropy = 0.896\\nsamples = 16\\nvalue = [5, 11]'),\n",
       " Text(44.97377852262473, 54.360000000000014, 'entropy = 0.811\\nsamples = 12\\nvalue = [3, 9]'),\n",
       " Text(45.14642258605131, 64.24363636363637, 'entropy = 0.0\\nsamples = 1\\nvalue = [1, 0]'),\n",
       " Text(45.66435477633106, 74.12727272727273, 'X[12] <= 0.823\\nentropy = 0.971\\nsamples = 15\\nvalue = [6, 9]'),\n",
       " Text(45.49171071290448, 64.24363636363637, 'entropy = 0.0\\nsamples = 1\\nvalue = [0, 1]'),\n",
       " Text(45.83699883975764, 64.24363636363637, 'entropy = 0.985\\nsamples = 14\\nvalue = [6, 8]'),\n",
       " Text(45.2327446177646, 93.89454545454547, 'entropy = 0.0\\nsamples = 9\\nvalue = [0, 9]'),\n",
       " Text(45.750676808044346, 103.77818181818182, 'X[3] <= 0.793\\nentropy = 0.235\\nsamples = 26\\nvalue = [1, 25]'),\n",
       " Text(45.578032744617765, 93.89454545454547, 'entropy = 0.0\\nsamples = 6\\nvalue = [0, 6]'),\n",
       " Text(45.923320871470935, 93.89454545454547, 'X[12] <= 0.823\\nentropy = 0.286\\nsamples = 20\\nvalue = [1, 19]'),\n",
       " Text(45.750676808044346, 84.01090909090911, 'entropy = 0.0\\nsamples = 3\\nvalue = [0, 3]'),\n",
       " Text(46.095964934897516, 84.01090909090911, 'entropy = 0.323\\nsamples = 17\\nvalue = [1, 16]'),\n",
       " Text(51.245613639293545, 113.66181818181819, 'X[17] <= 0.485\\nentropy = 0.841\\nsamples = 463\\nvalue = [125, 338]'),\n",
       " Text(49.575821838339564, 103.77818181818182, 'X[17] <= 0.33\\nentropy = 0.869\\nsamples = 224\\nvalue = [65, 159]'),\n",
       " Text(47.91951785484079, 93.89454545454547, 'X[17] <= -0.136\\nentropy = 0.809\\nsamples = 185\\nvalue = [46, 139]'),\n",
       " Text(46.98076575995875, 84.01090909090911, 'X[10] <= 9.177\\nentropy = 0.869\\nsamples = 93\\nvalue = [27, 66]'),\n",
       " Text(46.80812169653217, 74.12727272727273, 'X[2] <= 10.978\\nentropy = 0.873\\nsamples = 92\\nvalue = [27, 65]'),\n",
       " Text(46.1822869666108, 64.24363636363637, 'X[12] <= 0.823\\nentropy = 0.867\\nsamples = 90\\nvalue = [26, 64]'),\n",
       " Text(45.44854969704783, 54.360000000000014, 'X[17] <= -0.603\\nentropy = 0.918\\nsamples = 6\\nvalue = [2, 4]'),\n",
       " Text(45.27590563362125, 44.47636363636366, 'entropy = 0.0\\nsamples = 1\\nvalue = [0, 1]'),\n",
       " Text(45.62119376047441, 44.47636363636366, 'X[17] <= -0.292\\nentropy = 0.971\\nsamples = 5\\nvalue = [2, 3]'),\n",
       " Text(45.44854969704783, 34.592727272727274, 'X[1] <= 1.993\\nentropy = 1.0\\nsamples = 4\\nvalue = [2, 2]'),\n",
       " Text(45.27590563362125, 24.709090909090918, 'X[17] <= -0.447\\nentropy = 0.918\\nsamples = 3\\nvalue = [1, 2]'),\n",
       " Text(45.10326157019467, 14.825454545454562, 'entropy = 1.0\\nsamples = 2\\nvalue = [1, 1]'),\n",
       " Text(45.44854969704783, 14.825454545454562, 'entropy = 0.0\\nsamples = 1\\nvalue = [0, 1]'),\n",
       " Text(45.62119376047441, 24.709090909090918, 'entropy = 0.0\\nsamples = 1\\nvalue = [1, 0]'),\n",
       " Text(45.793837823900994, 34.592727272727274, 'entropy = 0.0\\nsamples = 1\\nvalue = [0, 1]'),\n",
       " Text(46.91602423617378, 54.360000000000014, 'X[1] <= 1.993\\nentropy = 0.863\\nsamples = 84\\nvalue = [24, 60]'),\n",
       " Text(46.484414077607326, 44.47636363636366, 'X[17] <= -0.447\\nentropy = 0.869\\nsamples = 69\\nvalue = [20, 49]'),\n",
       " Text(46.13912595075416, 34.592727272727274, 'X[17] <= -0.603\\nentropy = 0.881\\nsamples = 30\\nvalue = [9, 21]'),\n",
       " Text(45.966481887327575, 24.709090909090918, 'entropy = 0.863\\nsamples = 14\\nvalue = [4, 10]'),\n",
       " Text(46.311770014180745, 24.709090909090918, 'entropy = 0.896\\nsamples = 16\\nvalue = [5, 11]'),\n",
       " Text(46.82970220446049, 34.592727272727274, 'X[17] <= -0.292\\nentropy = 0.858\\nsamples = 39\\nvalue = [11, 28]'),\n",
       " Text(46.65705814103391, 24.709090909090918, 'entropy = 0.831\\nsamples = 19\\nvalue = [5, 14]'),\n",
       " Text(47.00234626788707, 24.709090909090918, 'entropy = 0.881\\nsamples = 20\\nvalue = [6, 14]'),\n",
       " Text(47.34763439474024, 44.47636363636366, 'X[17] <= -0.447\\nentropy = 0.837\\nsamples = 15\\nvalue = [4, 11]'),\n",
       " Text(47.17499033131365, 34.592727272727274, 'entropy = 0.0\\nsamples = 2\\nvalue = [0, 2]'),\n",
       " Text(47.52027845816682, 34.592727272727274, 'X[17] <= -0.292\\nentropy = 0.89\\nsamples = 13\\nvalue = [4, 9]'),\n",
       " Text(47.34763439474024, 24.709090909090918, 'entropy = 0.971\\nsamples = 5\\nvalue = [2, 3]'),\n",
       " Text(47.6929225215934, 24.709090909090918, 'entropy = 0.811\\nsamples = 8\\nvalue = [2, 6]'),\n",
       " Text(47.43395642645353, 64.24363636363637, 'X[17] <= -0.292\\nentropy = 1.0\\nsamples = 2\\nvalue = [1, 1]'),\n",
       " Text(47.261312363026946, 54.360000000000014, 'entropy = 0.0\\nsamples = 1\\nvalue = [0, 1]'),\n",
       " Text(47.60660048988011, 54.360000000000014, 'entropy = 0.0\\nsamples = 1\\nvalue = [1, 0]'),\n",
       " Text(47.15340982338533, 74.12727272727273, 'entropy = 0.0\\nsamples = 1\\nvalue = [0, 1]'),\n",
       " Text(48.85826994972283, 84.01090909090911, 'X[3] <= 0.793\\nentropy = 0.735\\nsamples = 92\\nvalue = [19, 73]'),\n",
       " Text(47.95188861673328, 74.12727272727273, 'X[17] <= 0.174\\nentropy = 0.353\\nsamples = 15\\nvalue = [1, 14]'),\n",
       " Text(47.77924455330669, 64.24363636363637, 'entropy = 0.0\\nsamples = 8\\nvalue = [0, 8]'),\n",
       " Text(48.12453268015986, 64.24363636363637, 'X[1] <= 1.993\\nentropy = 0.592\\nsamples = 7\\nvalue = [1, 6]'),\n",
       " Text(47.95188861673328, 54.360000000000014, 'entropy = 0.0\\nsamples = 1\\nvalue = [0, 1]'),\n",
       " Text(48.29717674358644, 54.360000000000014, 'X[12] <= 0.823\\nentropy = 0.65\\nsamples = 6\\nvalue = [1, 5]'),\n",
       " Text(48.12453268015986, 44.47636363636366, 'entropy = 0.0\\nsamples = 1\\nvalue = [0, 1]'),\n",
       " Text(48.46982080701302, 44.47636363636366, 'entropy = 0.722\\nsamples = 5\\nvalue = [1, 4]'),\n",
       " Text(49.76465128271239, 74.12727272727273, 'X[10] <= 9.177\\nentropy = 0.785\\nsamples = 77\\nvalue = [18, 59]'),\n",
       " Text(49.59200721928581, 64.24363636363637, 'X[17] <= 0.174\\nentropy = 0.79\\nsamples = 76\\nvalue = [18, 58]'),\n",
       " Text(49.160397060719355, 54.360000000000014, 'X[11] <= 3.629\\nentropy = 0.82\\nsamples = 47\\nvalue = [12, 35]'),\n",
       " Text(48.815108933866185, 44.47636363636366, 'X[17] <= 0.019\\nentropy = 0.83\\nsamples = 42\\nvalue = [11, 31]'),\n",
       " Text(48.6424648704396, 34.592727272727274, 'entropy = 0.874\\nsamples = 17\\nvalue = [5, 12]'),\n",
       " Text(48.98775299729277, 34.592727272727274, 'entropy = 0.795\\nsamples = 25\\nvalue = [6, 19]'),\n",
       " Text(49.50568518757252, 44.47636363636366, 'X[17] <= 0.019\\nentropy = 0.722\\nsamples = 5\\nvalue = [1, 4]'),\n",
       " Text(49.333041124145936, 34.592727272727274, 'entropy = 0.0\\nsamples = 4\\nvalue = [0, 4]'),\n",
       " Text(49.6783292509991, 34.592727272727274, 'entropy = 0.0\\nsamples = 1\\nvalue = [1, 0]'),\n",
       " Text(50.02361737785227, 54.360000000000014, 'X[11] <= 3.629\\nentropy = 0.736\\nsamples = 29\\nvalue = [6, 23]'),\n",
       " Text(49.85097331442568, 44.47636363636366, 'entropy = 0.738\\nsamples = 24\\nvalue = [5, 19]'),\n",
       " Text(50.19626144127885, 44.47636363636366, 'entropy = 0.722\\nsamples = 5\\nvalue = [1, 4]'),\n",
       " Text(49.937295346138974, 64.24363636363637, 'entropy = 0.0\\nsamples = 1\\nvalue = [0, 1]'),\n",
       " Text(51.232125821838345, 93.89454545454547, 'X[10] <= 9.177\\nentropy = 1.0\\nsamples = 39\\nvalue = [19, 20]'),\n",
       " Text(51.059481758411756, 84.01090909090911, 'X[2] <= 10.978\\nentropy = 0.998\\nsamples = 38\\nvalue = [18, 20]'),\n",
       " Text(50.886837694985175, 74.12727272727273, 'X[3] <= 0.793\\nentropy = 0.995\\nsamples = 37\\nvalue = [17, 20]'),\n",
       " Text(50.54154956813201, 64.24363636363637, 'X[11] <= 3.629\\nentropy = 0.811\\nsamples = 4\\nvalue = [1, 3]'),\n",
       " Text(50.36890550470543, 54.360000000000014, 'entropy = 0.0\\nsamples = 3\\nvalue = [0, 3]'),\n",
       " Text(50.714193631558594, 54.360000000000014, 'entropy = 0.0\\nsamples = 1\\nvalue = [1, 0]'),\n",
       " Text(51.232125821838345, 64.24363636363637, 'X[12] <= 0.823\\nentropy = 0.999\\nsamples = 33\\nvalue = [16, 17]'),\n",
       " Text(51.059481758411756, 54.360000000000014, 'entropy = 0.0\\nsamples = 1\\nvalue = [0, 1]'),\n",
       " Text(51.404769885264926, 54.360000000000014, 'entropy = 1.0\\nsamples = 32\\nvalue = [16, 16]'),\n",
       " Text(51.232125821838345, 74.12727272727273, 'entropy = 0.0\\nsamples = 1\\nvalue = [1, 0]'),\n",
       " Text(51.404769885264926, 84.01090909090911, 'entropy = 0.0\\nsamples = 1\\nvalue = [1, 0]'),\n",
       " Text(52.91540544024752, 103.77818181818182, 'X[17] <= 0.641\\nentropy = 0.813\\nsamples = 239\\nvalue = [60, 179]'),\n",
       " Text(52.09534613897125, 93.89454545454547, 'X[11] <= 3.629\\nentropy = 0.614\\nsamples = 33\\nvalue = [5, 28]'),\n",
       " Text(51.92270207554467, 84.01090909090911, 'X[10] <= 9.177\\nentropy = 0.459\\nsamples = 31\\nvalue = [3, 28]'),\n",
       " Text(51.75005801211809, 74.12727272727273, 'X[1] <= 1.993\\nentropy = 0.469\\nsamples = 30\\nvalue = [3, 27]'),\n",
       " Text(51.57741394869151, 64.24363636363637, 'entropy = 0.426\\nsamples = 23\\nvalue = [2, 21]'),\n",
       " Text(51.92270207554467, 64.24363636363637, 'entropy = 0.592\\nsamples = 7\\nvalue = [1, 6]'),\n",
       " Text(52.09534613897125, 74.12727272727273, 'entropy = 0.0\\nsamples = 1\\nvalue = [0, 1]'),\n",
       " Text(52.26799020239784, 84.01090909090911, 'entropy = 0.0\\nsamples = 2\\nvalue = [2, 0]'),\n",
       " Text(53.735464741523785, 93.89454545454547, 'X[11] <= 3.629\\nentropy = 0.837\\nsamples = 206\\nvalue = [55, 151]'),\n",
       " Text(52.785922392677584, 84.01090909090911, 'X[17] <= 0.796\\nentropy = 0.855\\nsamples = 179\\nvalue = [50, 129]'),\n",
       " Text(52.44063426582442, 74.12727272727273, 'X[3] <= 0.793\\nentropy = 0.94\\nsamples = 28\\nvalue = [10, 18]'),\n",
       " Text(52.26799020239784, 64.24363636363637, 'entropy = 1.0\\nsamples = 6\\nvalue = [3, 3]'),\n",
       " Text(52.613278329251, 64.24363636363637, 'entropy = 0.902\\nsamples = 22\\nvalue = [7, 15]'),\n",
       " Text(53.13121051953075, 74.12727272727273, 'X[2] <= 10.978\\nentropy = 0.834\\nsamples = 151\\nvalue = [40, 111]'),\n",
       " Text(52.958566456104165, 64.24363636363637, 'X[17] <= 1.418\\nentropy = 0.837\\nsamples = 150\\nvalue = [40, 110]'),\n",
       " Text(52.26799020239784, 54.360000000000014, 'X[17] <= 1.107\\nentropy = 0.824\\nsamples = 120\\nvalue = [31, 89]'),\n",
       " Text(51.404769885264926, 44.47636363636366, 'X[12] <= 0.823\\nentropy = 0.855\\nsamples = 68\\nvalue = [19, 49]'),\n",
       " Text(51.232125821838345, 34.592727272727274, 'entropy = 0.0\\nsamples = 1\\nvalue = [1, 0]'),\n",
       " Text(51.57741394869151, 34.592727272727274, 'X[3] <= 0.793\\nentropy = 0.84\\nsamples = 67\\nvalue = [18, 49]'),\n",
       " Text(51.232125821838345, 24.709090909090918, 'X[17] <= 0.952\\nentropy = 0.811\\nsamples = 12\\nvalue = [3, 9]'),\n",
       " Text(51.059481758411756, 14.825454545454562, 'entropy = 0.722\\nsamples = 5\\nvalue = [1, 4]'),\n",
       " Text(51.404769885264926, 14.825454545454562, 'entropy = 0.863\\nsamples = 7\\nvalue = [2, 5]'),\n",
       " Text(51.92270207554467, 24.709090909090918, 'X[17] <= 0.952\\nentropy = 0.845\\nsamples = 55\\nvalue = [15, 40]'),\n",
       " Text(51.75005801211809, 14.825454545454562, 'entropy = 0.845\\nsamples = 33\\nvalue = [9, 24]'),\n",
       " Text(52.09534613897125, 14.825454545454562, 'entropy = 0.845\\nsamples = 22\\nvalue = [6, 16]'),\n",
       " Text(53.13121051953075, 44.47636363636366, 'X[10] <= 9.177\\nentropy = 0.779\\nsamples = 52\\nvalue = [12, 40]'),\n",
       " Text(52.958566456104165, 34.592727272727274, 'X[17] <= 1.262\\nentropy = 0.795\\nsamples = 50\\nvalue = [12, 38]'),\n",
       " Text(52.613278329251, 24.709090909090918, 'X[1] <= 1.993\\nentropy = 0.722\\nsamples = 25\\nvalue = [5, 20]'),\n",
       " Text(52.44063426582442, 14.825454545454562, 'entropy = 0.702\\nsamples = 21\\nvalue = [4, 17]'),\n",
       " Text(52.785922392677584, 14.825454545454562, 'entropy = 0.811\\nsamples = 4\\nvalue = [1, 3]'),\n",
       " Text(53.30385458295733, 24.709090909090918, 'X[1] <= 1.993\\nentropy = 0.855\\nsamples = 25\\nvalue = [7, 18]'),\n",
       " Text(53.13121051953075, 14.825454545454562, 'entropy = 0.863\\nsamples = 21\\nvalue = [6, 15]'),\n",
       " Text(53.47649864638392, 14.825454545454562, 'entropy = 0.811\\nsamples = 4\\nvalue = [1, 3]'),\n",
       " Text(53.30385458295733, 34.592727272727274, 'entropy = 0.0\\nsamples = 2\\nvalue = [0, 2]'),\n",
       " Text(53.6491427098105, 54.360000000000014, 'X[12] <= 0.823\\nentropy = 0.881\\nsamples = 30\\nvalue = [9, 21]'),\n",
       " Text(53.47649864638392, 44.47636363636366, 'entropy = 0.0\\nsamples = 1\\nvalue = [0, 1]'),\n",
       " Text(53.82178677323708, 44.47636363636366, 'X[1] <= 1.993\\nentropy = 0.894\\nsamples = 29\\nvalue = [9, 20]'),\n",
       " Text(53.6491427098105, 34.592727272727274, 'entropy = 0.904\\nsamples = 25\\nvalue = [8, 17]'),\n",
       " Text(53.99443083666366, 34.592727272727274, 'entropy = 0.811\\nsamples = 4\\nvalue = [1, 3]'),\n",
       " Text(53.30385458295733, 64.24363636363637, 'entropy = 0.0\\nsamples = 1\\nvalue = [0, 1]'),\n",
       " Text(54.68500709036999, 84.01090909090911, 'X[3] <= 0.793\\nentropy = 0.691\\nsamples = 27\\nvalue = [5, 22]'),\n",
       " Text(54.33971896351682, 74.12727272727273, 'X[17] <= 0.796\\nentropy = 0.918\\nsamples = 9\\nvalue = [3, 6]'),\n",
       " Text(54.16707490009024, 64.24363636363637, 'entropy = 1.0\\nsamples = 2\\nvalue = [1, 1]'),\n",
       " Text(54.51236302694341, 64.24363636363637, 'X[17] <= 0.952\\nentropy = 0.863\\nsamples = 7\\nvalue = [2, 5]'),\n",
       " Text(54.33971896351682, 54.360000000000014, 'entropy = 0.0\\nsamples = 1\\nvalue = [0, 1]'),\n",
       " Text(54.68500709036999, 54.360000000000014, 'X[17] <= 1.34\\nentropy = 0.918\\nsamples = 6\\nvalue = [2, 4]'),\n",
       " Text(54.51236302694341, 44.47636363636366, 'X[17] <= 1.107\\nentropy = 0.811\\nsamples = 4\\nvalue = [1, 3]'),\n",
       " Text(54.33971896351682, 34.592727272727274, 'entropy = 0.918\\nsamples = 3\\nvalue = [1, 2]'),\n",
       " Text(54.68500709036999, 34.592727272727274, 'entropy = 0.0\\nsamples = 1\\nvalue = [0, 1]'),\n",
       " Text(54.857651153796574, 44.47636363636366, 'entropy = 1.0\\nsamples = 2\\nvalue = [1, 1]'),\n",
       " Text(55.030295217223156, 74.12727272727273, 'X[17] <= 0.796\\nentropy = 0.503\\nsamples = 18\\nvalue = [2, 16]'),\n",
       " Text(54.857651153796574, 64.24363636363637, 'entropy = 0.0\\nsamples = 4\\nvalue = [0, 4]'),\n",
       " Text(55.20293928064974, 64.24363636363637, 'X[17] <= 0.952\\nentropy = 0.592\\nsamples = 14\\nvalue = [2, 12]'),\n",
       " Text(55.030295217223156, 54.360000000000014, 'entropy = 0.811\\nsamples = 4\\nvalue = [1, 3]'),\n",
       " Text(55.37558334407632, 54.360000000000014, 'X[17] <= 1.418\\nentropy = 0.469\\nsamples = 10\\nvalue = [1, 9]'),\n",
       " Text(55.20293928064974, 44.47636363636366, 'entropy = 0.0\\nsamples = 6\\nvalue = [0, 6]'),\n",
       " Text(55.54822740750291, 44.47636363636366, 'entropy = 0.811\\nsamples = 4\\nvalue = [1, 3]'),\n",
       " Text(56.90779940698724, 123.54545454545455, 'X[17] <= 2.195\\nentropy = 0.696\\nsamples = 80\\nvalue = [15, 65]'),\n",
       " Text(56.195642645352585, 113.66181818181819, 'X[11] <= 3.629\\nentropy = 0.656\\nsamples = 65\\nvalue = [11, 54]'),\n",
       " Text(55.634549439216194, 103.77818181818182, 'X[17] <= 1.729\\nentropy = 0.67\\nsamples = 57\\nvalue = [10, 47]'),\n",
       " Text(55.20293928064974, 93.89454545454547, 'X[1] <= 1.993\\nentropy = 0.722\\nsamples = 20\\nvalue = [4, 16]'),\n",
       " Text(55.030295217223156, 84.01090909090911, 'entropy = 0.684\\nsamples = 11\\nvalue = [2, 9]'),\n",
       " Text(55.37558334407632, 84.01090909090911, 'entropy = 0.764\\nsamples = 9\\nvalue = [2, 7]'),\n",
       " Text(56.06615959778265, 93.89454545454547, 'X[3] <= 0.793\\nentropy = 0.639\\nsamples = 37\\nvalue = [6, 31]'),\n",
       " Text(55.72087147092949, 84.01090909090911, 'X[17] <= 1.884\\nentropy = 0.469\\nsamples = 10\\nvalue = [1, 9]'),\n",
       " Text(55.54822740750291, 74.12727272727273, 'entropy = 0.592\\nsamples = 7\\nvalue = [1, 6]'),\n",
       " Text(55.89351553435607, 74.12727272727273, 'entropy = 0.0\\nsamples = 3\\nvalue = [0, 3]'),\n",
       " Text(56.41144772463581, 84.01090909090911, 'X[17] <= 2.04\\nentropy = 0.691\\nsamples = 27\\nvalue = [5, 22]'),\n",
       " Text(56.23880366120923, 74.12727272727273, 'X[17] <= 1.884\\nentropy = 0.629\\nsamples = 19\\nvalue = [3, 16]'),\n",
       " Text(56.06615959778265, 64.24363636363637, 'entropy = 0.65\\nsamples = 12\\nvalue = [2, 10]'),\n",
       " Text(56.41144772463581, 64.24363636363637, 'entropy = 0.592\\nsamples = 7\\nvalue = [1, 6]'),\n",
       " Text(56.584091788062395, 74.12727272727273, 'entropy = 0.811\\nsamples = 8\\nvalue = [2, 6]'),\n",
       " Text(56.75673585148898, 103.77818181818182, 'X[17] <= 1.729\\nentropy = 0.544\\nsamples = 8\\nvalue = [1, 7]'),\n",
       " Text(56.584091788062395, 93.89454545454547, 'entropy = 0.0\\nsamples = 4\\nvalue = [0, 4]'),\n",
       " Text(56.929379914915565, 93.89454545454547, 'X[17] <= 1.962\\nentropy = 0.811\\nsamples = 4\\nvalue = [1, 3]'),\n",
       " Text(56.75673585148898, 84.01090909090911, 'entropy = 0.918\\nsamples = 3\\nvalue = [1, 2]'),\n",
       " Text(57.102023978342146, 84.01090909090911, 'entropy = 0.0\\nsamples = 1\\nvalue = [0, 1]'),\n",
       " Text(57.61995616862189, 113.66181818181819, 'X[1] <= 1.993\\nentropy = 0.837\\nsamples = 15\\nvalue = [4, 11]'),\n",
       " Text(57.44731210519531, 103.77818181818182, 'X[12] <= 0.823\\nentropy = 0.75\\nsamples = 14\\nvalue = [3, 11]'),\n",
       " Text(57.27466804176873, 93.89454545454547, 'entropy = 0.0\\nsamples = 2\\nvalue = [0, 2]'),\n",
       " Text(57.61995616862189, 93.89454545454547, 'X[17] <= 2.506\\nentropy = 0.811\\nsamples = 12\\nvalue = [3, 9]'),\n",
       " Text(57.44731210519531, 84.01090909090911, 'X[17] <= 2.35\\nentropy = 0.845\\nsamples = 11\\nvalue = [3, 8]'),\n",
       " Text(57.27466804176873, 74.12727272727273, 'entropy = 0.811\\nsamples = 8\\nvalue = [2, 6]'),\n",
       " Text(57.61995616862189, 74.12727272727273, 'entropy = 0.918\\nsamples = 3\\nvalue = [1, 2]'),\n",
       " Text(57.79260023204848, 84.01090909090911, 'entropy = 0.0\\nsamples = 1\\nvalue = [0, 1]'),\n",
       " Text(57.79260023204848, 103.77818181818182, 'entropy = 0.0\\nsamples = 1\\nvalue = [1, 0]'),\n",
       " Text(52.961938410467965, 133.42909090909092, 'entropy = 0.0\\nsamples = 1\\nvalue = [1, 0]'),\n",
       " Text(62.31573981565038, 163.07999999999998, 'X[10] <= 9.177\\nentropy = 0.92\\nsamples = 1685\\nvalue = [564, 1121]'),\n",
       " Text(62.1430957522238, 153.19636363636363, 'X[17] <= -1.691\\nentropy = 0.921\\nsamples = 1677\\nvalue = [564, 1113]'),\n",
       " Text(59.86432899316746, 143.31272727272727, 'X[17] <= -1.846\\nentropy = 0.391\\nsamples = 13\\nvalue = [1, 12]'),\n",
       " Text(59.69168492974088, 133.42909090909092, 'entropy = 0.0\\nsamples = 3\\nvalue = [0, 3]'),\n",
       " Text(60.03697305659405, 133.42909090909092, 'entropy = 0.469\\nsamples = 10\\nvalue = [1, 9]'),\n",
       " Text(64.42186251128014, 143.31272727272727, 'X[17] <= 0.019\\nentropy = 0.923\\nsamples = 1664\\nvalue = [563, 1101]'),\n",
       " Text(60.38226118344721, 133.42909090909092, 'X[17] <= -1.224\\nentropy = 0.902\\nsamples = 570\\nvalue = [181, 389]'),\n",
       " Text(58.655820549181385, 123.54545454545455, 'X[17] <= -1.535\\nentropy = 0.835\\nsamples = 64\\nvalue = [17, 47]'),\n",
       " Text(58.31053242232822, 113.66181818181819, 'X[11] <= 3.629\\nentropy = 0.985\\nsamples = 14\\nvalue = [6, 8]'),\n",
       " Text(58.13788835890164, 103.77818181818182, 'entropy = 0.961\\nsamples = 13\\nvalue = [5, 8]'),\n",
       " Text(58.483176485754804, 103.77818181818182, 'entropy = 0.0\\nsamples = 1\\nvalue = [1, 0]'),\n",
       " Text(59.001108676034555, 113.66181818181819, 'X[12] <= 0.823\\nentropy = 0.76\\nsamples = 50\\nvalue = [11, 39]'),\n",
       " Text(58.828464612607966, 103.77818181818182, 'entropy = 0.0\\nsamples = 3\\nvalue = [0, 3]'),\n",
       " Text(59.173752739461136, 103.77818181818182, 'X[17] <= -1.38\\nentropy = 0.785\\nsamples = 47\\nvalue = [11, 36]'),\n",
       " Text(59.001108676034555, 93.89454545454547, 'entropy = 0.722\\nsamples = 25\\nvalue = [5, 20]'),\n",
       " Text(59.34639680288772, 93.89454545454547, 'entropy = 0.845\\nsamples = 22\\nvalue = [6, 16]'),\n",
       " Text(62.10870181771303, 123.54545454545455, 'X[17] <= -0.603\\nentropy = 0.909\\nsamples = 506\\nvalue = [164, 342]'),\n",
       " Text(60.727549310300375, 113.66181818181819, 'X[12] <= 0.823\\nentropy = 0.934\\nsamples = 203\\nvalue = [71, 132]'),\n",
       " Text(60.03697305659405, 103.77818181818182, 'X[17] <= -0.914\\nentropy = 0.837\\nsamples = 15\\nvalue = [4, 11]'),\n",
       " Text(59.69168492974088, 93.89454545454547, 'X[17] <= -1.069\\nentropy = 0.971\\nsamples = 5\\nvalue = [2, 3]'),\n",
       " Text(59.5190408663143, 84.01090909090911, 'entropy = 0.918\\nsamples = 3\\nvalue = [1, 2]'),\n",
       " Text(59.86432899316746, 84.01090909090911, 'entropy = 1.0\\nsamples = 2\\nvalue = [1, 1]'),\n",
       " Text(60.38226118344721, 93.89454545454547, 'X[17] <= -0.758\\nentropy = 0.722\\nsamples = 10\\nvalue = [2, 8]'),\n",
       " Text(60.20961712002063, 84.01090909090911, 'entropy = 0.0\\nsamples = 4\\nvalue = [0, 4]'),\n",
       " Text(60.554905246873794, 84.01090909090911, 'entropy = 0.918\\nsamples = 6\\nvalue = [2, 4]'),\n",
       " Text(61.41812556400671, 103.77818181818182, 'X[17] <= -0.914\\nentropy = 0.94\\nsamples = 188\\nvalue = [67, 121]'),\n",
       " Text(61.072837437153545, 93.89454545454547, 'X[17] <= -1.069\\nentropy = 0.937\\nsamples = 82\\nvalue = [29, 53]'),\n",
       " Text(60.90019337372696, 84.01090909090911, 'entropy = 0.944\\nsamples = 36\\nvalue = [13, 23]'),\n",
       " Text(61.24548150058013, 84.01090909090911, 'entropy = 0.932\\nsamples = 46\\nvalue = [16, 30]'),\n",
       " Text(61.76341369085987, 93.89454545454547, 'X[17] <= -0.758\\nentropy = 0.941\\nsamples = 106\\nvalue = [38, 68]'),\n",
       " Text(61.59076962743329, 84.01090909090911, 'entropy = 0.94\\nsamples = 56\\nvalue = [20, 36]'),\n",
       " Text(61.93605775428645, 84.01090909090911, 'entropy = 0.943\\nsamples = 50\\nvalue = [18, 32]'),\n",
       " Text(63.4898543251257, 113.66181818181819, 'X[17] <= -0.292\\nentropy = 0.89\\nsamples = 303\\nvalue = [93, 210]'),\n",
       " Text(62.799278071419366, 103.77818181818182, 'X[17] <= -0.447\\nentropy = 0.86\\nsamples = 127\\nvalue = [36, 91]'),\n",
       " Text(62.4539899445662, 93.89454545454547, 'X[11] <= 3.629\\nentropy = 0.872\\nsamples = 65\\nvalue = [19, 46]'),\n",
       " Text(62.28134588113962, 84.01090909090911, 'entropy = 0.881\\nsamples = 60\\nvalue = [18, 42]'),\n",
       " Text(62.626634007992784, 84.01090909090911, 'entropy = 0.722\\nsamples = 5\\nvalue = [1, 4]'),\n",
       " Text(63.14456619827253, 93.89454545454547, 'X[12] <= 0.823\\nentropy = 0.847\\nsamples = 62\\nvalue = [17, 45]'),\n",
       " Text(62.97192213484595, 84.01090909090911, 'entropy = 0.918\\nsamples = 6\\nvalue = [2, 4]'),\n",
       " Text(63.31721026169912, 84.01090909090911, 'entropy = 0.838\\nsamples = 56\\nvalue = [15, 41]'),\n",
       " Text(64.18043057883203, 103.77818181818182, 'X[12] <= 0.823\\nentropy = 0.909\\nsamples = 176\\nvalue = [57, 119]'),\n",
       " Text(63.83514245197886, 93.89454545454547, 'X[17] <= -0.136\\nentropy = 0.918\\nsamples = 15\\nvalue = [5, 10]'),\n",
       " Text(63.66249838855228, 84.01090909090911, 'entropy = 0.863\\nsamples = 7\\nvalue = [2, 5]'),\n",
       " Text(64.00778651540544, 84.01090909090911, 'entropy = 0.954\\nsamples = 8\\nvalue = [3, 5]'),\n",
       " Text(64.5257187056852, 93.89454545454547, 'X[17] <= -0.136\\nentropy = 0.908\\nsamples = 161\\nvalue = [52, 109]'),\n",
       " Text(64.3530746422586, 84.01090909090911, 'entropy = 0.909\\nsamples = 77\\nvalue = [25, 52]'),\n",
       " Text(64.69836276911177, 84.01090909090911, 'entropy = 0.906\\nsamples = 84\\nvalue = [27, 57]'),\n",
       " Text(68.46146383911307, 133.42909090909092, 'X[17] <= 0.174\\nentropy = 0.933\\nsamples = 1094\\nvalue = [382, 712]'),\n",
       " Text(67.64410210132783, 123.54545454545455, 'X[11] <= 3.629\\nentropy = 0.996\\nsamples = 82\\nvalue = [38, 44]'),\n",
       " Text(67.47145803790126, 113.66181818181819, 'entropy = 0.999\\nsamples = 75\\nvalue = [36, 39]'),\n",
       " Text(67.81674616475442, 113.66181818181819, 'entropy = 0.863\\nsamples = 7\\nvalue = [2, 5]'),\n",
       " Text(69.27882557689829, 123.54545454545455, 'X[17] <= 1.884\\nentropy = 0.925\\nsamples = 1012\\nvalue = [344, 668]'),\n",
       " Text(68.16203429160758, 113.66181818181819, 'X[17] <= 1.729\\nentropy = 0.931\\nsamples = 907\\nvalue = [314, 593]'),\n",
       " Text(67.1801211808689, 103.77818181818182, 'X[17] <= 0.952\\nentropy = 0.925\\nsamples = 861\\nvalue = [293, 568]'),\n",
       " Text(65.73422714967127, 93.89454545454547, 'X[11] <= 3.629\\nentropy = 0.913\\nsamples = 469\\nvalue = [154, 315]'),\n",
       " Text(65.04365089596494, 84.01090909090911, 'X[17] <= 0.641\\nentropy = 0.919\\nsamples = 428\\nvalue = [143, 285]'),\n",
       " Text(64.69836276911177, 74.12727272727273, 'X[17] <= 0.485\\nentropy = 0.929\\nsamples = 250\\nvalue = [86, 164]'),\n",
       " Text(64.5257187056852, 64.24363636363637, 'X[17] <= 0.33\\nentropy = 0.916\\nsamples = 163\\nvalue = [54, 109]'),\n",
       " Text(64.3530746422586, 54.360000000000014, 'entropy = 0.935\\nsamples = 77\\nvalue = [27, 50]'),\n",
       " Text(64.69836276911177, 54.360000000000014, 'entropy = 0.898\\nsamples = 86\\nvalue = [27, 59]'),\n",
       " Text(64.87100683253836, 64.24363636363637, 'entropy = 0.949\\nsamples = 87\\nvalue = [32, 55]'),\n",
       " Text(65.3889390228181, 74.12727272727273, 'X[17] <= 0.796\\nentropy = 0.905\\nsamples = 178\\nvalue = [57, 121]'),\n",
       " Text(65.21629495939152, 64.24363636363637, 'entropy = 0.894\\nsamples = 87\\nvalue = [27, 60]'),\n",
       " Text(65.56158308624468, 64.24363636363637, 'entropy = 0.915\\nsamples = 91\\nvalue = [30, 61]'),\n",
       " Text(66.4248034033776, 84.01090909090911, 'X[17] <= 0.641\\nentropy = 0.839\\nsamples = 41\\nvalue = [11, 30]'),\n",
       " Text(66.07951527652443, 74.12727272727273, 'X[17] <= 0.485\\nentropy = 0.75\\nsamples = 28\\nvalue = [6, 22]'),\n",
       " Text(65.90687121309784, 64.24363636363637, 'X[17] <= 0.33\\nentropy = 0.831\\nsamples = 19\\nvalue = [5, 14]'),\n",
       " Text(65.73422714967127, 54.360000000000014, 'entropy = 0.544\\nsamples = 8\\nvalue = [1, 7]'),\n",
       " Text(66.07951527652443, 54.360000000000014, 'entropy = 0.946\\nsamples = 11\\nvalue = [4, 7]'),\n",
       " Text(66.25215933995102, 64.24363636363637, 'entropy = 0.503\\nsamples = 9\\nvalue = [1, 8]'),\n",
       " Text(66.77009153023076, 74.12727272727273, 'X[17] <= 0.796\\nentropy = 0.961\\nsamples = 13\\nvalue = [5, 8]'),\n",
       " Text(66.59744746680418, 64.24363636363637, 'entropy = 0.811\\nsamples = 4\\nvalue = [3, 1]'),\n",
       " Text(66.94273559365735, 64.24363636363637, 'entropy = 0.764\\nsamples = 9\\nvalue = [2, 7]'),\n",
       " Text(68.62601521206652, 93.89454545454547, 'X[17] <= 1.573\\nentropy = 0.938\\nsamples = 392\\nvalue = [139, 253]'),\n",
       " Text(68.06492200593013, 84.01090909090911, 'X[12] <= 0.823\\nentropy = 0.947\\nsamples = 323\\nvalue = [118, 205]'),\n",
       " Text(67.4606677839371, 74.12727272727273, 'X[17] <= 1.107\\nentropy = 0.985\\nsamples = 21\\nvalue = [9, 12]'),\n",
       " Text(67.28802372051051, 64.24363636363637, 'entropy = 0.954\\nsamples = 8\\nvalue = [5, 3]'),\n",
       " Text(67.63331184736367, 64.24363636363637, 'X[17] <= 1.262\\nentropy = 0.89\\nsamples = 13\\nvalue = [4, 9]'),\n",
       " Text(67.4606677839371, 54.360000000000014, 'entropy = 0.0\\nsamples = 7\\nvalue = [0, 7]'),\n",
       " Text(67.80595591079026, 54.360000000000014, 'X[17] <= 1.418\\nentropy = 0.918\\nsamples = 6\\nvalue = [4, 2]'),\n",
       " Text(67.63331184736367, 44.47636363636366, 'entropy = 0.918\\nsamples = 3\\nvalue = [2, 1]'),\n",
       " Text(67.97859997421683, 44.47636363636366, 'entropy = 0.918\\nsamples = 3\\nvalue = [2, 1]'),\n",
       " Text(68.66917622792317, 74.12727272727273, 'X[17] <= 1.262\\nentropy = 0.943\\nsamples = 302\\nvalue = [109, 193]'),\n",
       " Text(68.32388810107001, 64.24363636363637, 'X[17] <= 1.107\\nentropy = 0.955\\nsamples = 165\\nvalue = [62, 103]'),\n",
       " Text(68.15124403764342, 54.360000000000014, 'entropy = 0.945\\nsamples = 80\\nvalue = [29, 51]'),\n",
       " Text(68.49653216449659, 54.360000000000014, 'entropy = 0.964\\nsamples = 85\\nvalue = [33, 52]'),\n",
       " Text(69.01446435477634, 64.24363636363637, 'X[17] <= 1.418\\nentropy = 0.928\\nsamples = 137\\nvalue = [47, 90]'),\n",
       " Text(68.84182029134975, 54.360000000000014, 'entropy = 0.923\\nsamples = 71\\nvalue = [24, 47]'),\n",
       " Text(69.18710841820291, 54.360000000000014, 'entropy = 0.933\\nsamples = 66\\nvalue = [23, 43]'),\n",
       " Text(69.18710841820291, 84.01090909090911, 'X[11] <= 3.629\\nentropy = 0.887\\nsamples = 69\\nvalue = [21, 48]'),\n",
       " Text(69.01446435477634, 74.12727272727273, 'entropy = 0.86\\nsamples = 60\\nvalue = [17, 43]'),\n",
       " Text(69.3597524816295, 74.12727272727273, 'entropy = 0.991\\nsamples = 9\\nvalue = [4, 5]'),\n",
       " Text(69.14394740234627, 103.77818181818182, 'X[12] <= 0.823\\nentropy = 0.995\\nsamples = 46\\nvalue = [21, 25]'),\n",
       " Text(68.97130333891968, 93.89454545454547, 'entropy = 0.0\\nsamples = 3\\nvalue = [3, 0]'),\n",
       " Text(69.31659146577286, 93.89454545454547, 'entropy = 0.981\\nsamples = 43\\nvalue = [18, 25]'),\n",
       " Text(70.39561686218899, 113.66181818181819, 'X[17] <= 2.817\\nentropy = 0.863\\nsamples = 105\\nvalue = [30, 75]'),\n",
       " Text(70.05032873533582, 103.77818181818182, 'X[12] <= 0.823\\nentropy = 0.848\\nsamples = 102\\nvalue = [28, 74]'),\n",
       " Text(69.87768467190925, 93.89454545454547, 'entropy = 0.0\\nsamples = 2\\nvalue = [0, 2]'),\n",
       " Text(70.22297279876241, 93.89454545454547, 'X[17] <= 2.195\\nentropy = 0.855\\nsamples = 100\\nvalue = [28, 72]'),\n",
       " Text(69.87768467190925, 84.01090909090911, 'X[17] <= 2.04\\nentropy = 0.887\\nsamples = 59\\nvalue = [18, 41]'),\n",
       " Text(69.70504060848266, 74.12727272727273, 'entropy = 0.852\\nsamples = 36\\nvalue = [10, 26]'),\n",
       " Text(70.05032873533582, 74.12727272727273, 'entropy = 0.932\\nsamples = 23\\nvalue = [8, 15]'),\n",
       " Text(70.56826092561558, 84.01090909090911, 'X[17] <= 2.35\\nentropy = 0.801\\nsamples = 41\\nvalue = [10, 31]'),\n",
       " Text(70.39561686218899, 74.12727272727273, 'entropy = 0.629\\nsamples = 19\\nvalue = [3, 16]'),\n",
       " Text(70.74090498904216, 74.12727272727273, 'X[17] <= 2.506\\nentropy = 0.902\\nsamples = 22\\nvalue = [7, 15]'),\n",
       " Text(70.56826092561558, 64.24363636363637, 'entropy = 0.863\\nsamples = 14\\nvalue = [4, 10]'),\n",
       " Text(70.91354905246874, 64.24363636363637, 'X[17] <= 2.661\\nentropy = 0.954\\nsamples = 8\\nvalue = [3, 5]'),\n",
       " Text(70.74090498904216, 54.360000000000014, 'entropy = 1.0\\nsamples = 4\\nvalue = [2, 2]'),\n",
       " Text(71.08619311589533, 54.360000000000014, 'entropy = 0.811\\nsamples = 4\\nvalue = [1, 3]'),\n",
       " Text(70.74090498904216, 103.77818181818182, 'X[17] <= 2.972\\nentropy = 0.918\\nsamples = 3\\nvalue = [2, 1]'),\n",
       " Text(70.56826092561558, 93.89454545454547, 'entropy = 0.0\\nsamples = 2\\nvalue = [2, 0]'),\n",
       " Text(70.91354905246874, 93.89454545454547, 'entropy = 0.0\\nsamples = 1\\nvalue = [0, 1]'),\n",
       " Text(62.48838387907696, 153.19636363636363, 'entropy = 0.0\\nsamples = 8\\nvalue = [0, 8]'),\n",
       " Text(118.84897831696371, 182.84727272727272, 'X[9] <= 1.353\\nentropy = 0.989\\nsamples = 27982\\nvalue = [15733, 12249]'),\n",
       " Text(102.9681480739171, 172.96363636363637, 'X[6] <= 0.053\\nentropy = 0.969\\nsamples = 25850\\nvalue = [15613, 10237]'),\n",
       " Text(87.18719090418332, 163.07999999999998, 'X[0] <= -0.594\\nentropy = 1.0\\nsamples = 11361\\nvalue = [5547, 5814]'),\n",
       " Text(77.51364392645353, 153.19636363636363, 'X[17] <= -1.224\\nentropy = 0.951\\nsamples = 2923\\nvalue = [1084, 1839]'),\n",
       " Text(72.3810235915947, 143.31272727272727, 'X[17] <= -1.691\\nentropy = 0.804\\nsamples = 497\\nvalue = [122, 375]'),\n",
       " Text(71.3451592110352, 133.42909090909092, 'X[3] <= 0.793\\nentropy = 0.637\\nsamples = 118\\nvalue = [19, 99]'),\n",
       " Text(70.91354905246874, 123.54545454545455, 'X[17] <= -1.846\\nentropy = 0.795\\nsamples = 25\\nvalue = [6, 19]'),\n",
       " Text(70.74090498904216, 113.66181818181819, 'entropy = 0.811\\nsamples = 8\\nvalue = [2, 6]'),\n",
       " Text(71.08619311589533, 113.66181818181819, 'entropy = 0.787\\nsamples = 17\\nvalue = [4, 13]'),\n",
       " Text(71.77676936960165, 123.54545454545455, 'X[17] <= -2.002\\nentropy = 0.584\\nsamples = 93\\nvalue = [13, 80]'),\n",
       " Text(71.43148124274849, 113.66181818181819, 'X[17] <= -2.157\\nentropy = 0.811\\nsamples = 8\\nvalue = [2, 6]'),\n",
       " Text(71.2588371793219, 103.77818181818182, 'entropy = 0.0\\nsamples = 1\\nvalue = [0, 1]'),\n",
       " Text(71.60412530617508, 103.77818181818182, 'entropy = 0.863\\nsamples = 7\\nvalue = [2, 5]'),\n",
       " Text(72.12205749645481, 113.66181818181819, 'X[17] <= -1.846\\nentropy = 0.556\\nsamples = 85\\nvalue = [11, 74]'),\n",
       " Text(71.94941343302824, 103.77818181818182, 'entropy = 0.503\\nsamples = 36\\nvalue = [4, 32]'),\n",
       " Text(72.2947015598814, 103.77818181818182, 'entropy = 0.592\\nsamples = 49\\nvalue = [7, 42]'),\n",
       " Text(73.41688797215419, 133.42909090909092, 'X[17] <= -1.535\\nentropy = 0.844\\nsamples = 379\\nvalue = [103, 276]'),\n",
       " Text(72.98527781358773, 123.54545454545455, 'X[3] <= 0.793\\nentropy = 0.785\\nsamples = 94\\nvalue = [22, 72]'),\n",
       " Text(72.81263375016115, 113.66181818181819, 'X[5] <= 0.188\\nentropy = 0.629\\nsamples = 19\\nvalue = [3, 16]'),\n",
       " Text(72.63998968673457, 103.77818181818182, 'entropy = 0.0\\nsamples = 1\\nvalue = [0, 1]'),\n",
       " Text(72.98527781358773, 103.77818181818182, 'entropy = 0.65\\nsamples = 18\\nvalue = [3, 15]'),\n",
       " Text(73.15792187701432, 113.66181818181819, 'entropy = 0.817\\nsamples = 75\\nvalue = [19, 56]'),\n",
       " Text(73.84849813072064, 123.54545454545455, 'X[1] <= 1.993\\nentropy = 0.861\\nsamples = 285\\nvalue = [81, 204]'),\n",
       " Text(73.50321000386748, 113.66181818181819, 'X[17] <= -1.38\\nentropy = 0.853\\nsamples = 223\\nvalue = [62, 161]'),\n",
       " Text(73.33056594044089, 103.77818181818182, 'entropy = 0.839\\nsamples = 108\\nvalue = [29, 79]'),\n",
       " Text(73.67585406729405, 103.77818181818182, 'entropy = 0.865\\nsamples = 115\\nvalue = [33, 82]'),\n",
       " Text(74.1937862575738, 113.66181818181819, 'X[17] <= -1.38\\nentropy = 0.889\\nsamples = 62\\nvalue = [19, 43]'),\n",
       " Text(74.02114219414723, 103.77818181818182, 'entropy = 0.929\\nsamples = 29\\nvalue = [10, 19]'),\n",
       " Text(74.3664303210004, 103.77818181818182, 'entropy = 0.845\\nsamples = 33\\nvalue = [9, 24]'),\n",
       " Text(82.64626426131237, 143.31272727272727, 'X[17] <= -0.136\\nentropy = 0.969\\nsamples = 2426\\nvalue = [962, 1464]'),\n",
       " Text(76.9345107644708, 133.42909090909092, 'X[7] <= 10.804\\nentropy = 0.944\\nsamples = 1129\\nvalue = [408, 721]'),\n",
       " Text(76.76186670104423, 123.54545454545455, 'X[17] <= -0.447\\nentropy = 0.944\\nsamples = 1127\\nvalue = [408, 719]'),\n",
       " Text(75.53177774912982, 113.66181818181819, 'X[17] <= -0.603\\nentropy = 0.937\\nsamples = 844\\nvalue = [298, 546]'),\n",
       " Text(74.71171844785356, 103.77818181818182, 'X[3] <= 0.793\\nentropy = 0.948\\nsamples = 692\\nvalue = [254, 438]'),\n",
       " Text(73.93482016243394, 93.89454545454547, 'X[17] <= -0.914\\nentropy = 0.971\\nsamples = 135\\nvalue = [54, 81]'),\n",
       " Text(73.58953203558077, 84.01090909090911, 'X[2] <= 10.978\\nentropy = 0.998\\nsamples = 61\\nvalue = [29, 32]'),\n",
       " Text(73.41688797215419, 74.12727272727273, 'X[17] <= -1.069\\nentropy = 0.997\\nsamples = 60\\nvalue = [28, 32]'),\n",
       " Text(73.24424390872761, 64.24363636363637, 'entropy = 0.999\\nsamples = 31\\nvalue = [15, 16]'),\n",
       " Text(73.58953203558077, 64.24363636363637, 'entropy = 0.992\\nsamples = 29\\nvalue = [13, 16]'),\n",
       " Text(73.76217609900735, 74.12727272727273, 'entropy = 0.0\\nsamples = 1\\nvalue = [1, 0]'),\n",
       " Text(74.2801082892871, 84.01090909090911, 'X[2] <= 10.978\\nentropy = 0.923\\nsamples = 74\\nvalue = [25, 49]'),\n",
       " Text(74.10746422586051, 74.12727272727273, 'X[8] <= 3.521\\nentropy = 0.927\\nsamples = 73\\nvalue = [25, 48]'),\n",
       " Text(73.93482016243394, 64.24363636363637, 'X[17] <= -0.758\\nentropy = 0.923\\nsamples = 71\\nvalue = [24, 47]'),\n",
       " Text(73.76217609900735, 54.360000000000014, 'entropy = 0.935\\nsamples = 37\\nvalue = [13, 24]'),\n",
       " Text(74.10746422586051, 54.360000000000014, 'entropy = 0.908\\nsamples = 34\\nvalue = [11, 23]'),\n",
       " Text(74.2801082892871, 64.24363636363637, 'entropy = 1.0\\nsamples = 2\\nvalue = [1, 1]'),\n",
       " Text(74.45275235271369, 74.12727272727273, 'entropy = 0.0\\nsamples = 1\\nvalue = [0, 1]'),\n",
       " Text(75.48861673327318, 93.89454545454547, 'X[17] <= -0.914\\nentropy = 0.942\\nsamples = 557\\nvalue = [200, 357]'),\n",
       " Text(74.97068454299342, 84.01090909090911, 'X[5] <= 0.188\\nentropy = 0.915\\nsamples = 285\\nvalue = [94, 191]'),\n",
       " Text(74.79804047956685, 74.12727272727273, 'entropy = 0.0\\nsamples = 1\\nvalue = [0, 1]'),\n",
       " Text(75.14332860642001, 74.12727272727273, 'X[17] <= -1.069\\nentropy = 0.916\\nsamples = 284\\nvalue = [94, 190]'),\n",
       " Text(74.97068454299342, 64.24363636363637, 'entropy = 0.921\\nsamples = 143\\nvalue = [48, 95]'),\n",
       " Text(75.31597266984659, 64.24363636363637, 'entropy = 0.911\\nsamples = 141\\nvalue = [46, 95]'),\n",
       " Text(76.00654892355293, 84.01090909090911, 'X[8] <= 3.521\\nentropy = 0.965\\nsamples = 272\\nvalue = [106, 166]'),\n",
       " Text(75.83390486012634, 74.12727272727273, 'X[17] <= -0.758\\nentropy = 0.964\\nsamples = 270\\nvalue = [105, 165]'),\n",
       " Text(75.66126079669976, 64.24363636363637, 'entropy = 0.961\\nsamples = 143\\nvalue = [55, 88]'),\n",
       " Text(76.00654892355293, 64.24363636363637, 'entropy = 0.967\\nsamples = 127\\nvalue = [50, 77]'),\n",
       " Text(76.1791929869795, 74.12727272727273, 'entropy = 1.0\\nsamples = 2\\nvalue = [1, 1]'),\n",
       " Text(76.35183705040609, 103.77818181818182, 'X[5] <= 0.188\\nentropy = 0.868\\nsamples = 152\\nvalue = [44, 108]'),\n",
       " Text(76.1791929869795, 93.89454545454547, 'entropy = 0.0\\nsamples = 1\\nvalue = [0, 1]'),\n",
       " Text(76.52448111383268, 93.89454545454547, 'X[1] <= 1.993\\nentropy = 0.871\\nsamples = 151\\nvalue = [44, 107]'),\n",
       " Text(76.35183705040609, 84.01090909090911, 'entropy = 0.888\\nsamples = 108\\nvalue = [33, 75]'),\n",
       " Text(76.69712517725925, 84.01090909090911, 'entropy = 0.82\\nsamples = 43\\nvalue = [11, 32]'),\n",
       " Text(77.99195565295862, 113.66181818181819, 'X[8] <= 3.521\\nentropy = 0.964\\nsamples = 283\\nvalue = [110, 173]'),\n",
       " Text(77.56034549439217, 103.77818181818182, 'X[2] <= 10.978\\nentropy = 0.968\\nsamples = 273\\nvalue = [108, 165]'),\n",
       " Text(77.38770143096558, 93.89454545454547, 'X[3] <= 0.793\\nentropy = 0.969\\nsamples = 272\\nvalue = [108, 164]'),\n",
       " Text(77.04241330411242, 84.01090909090911, 'X[17] <= -0.292\\nentropy = 0.957\\nsamples = 66\\nvalue = [25, 41]'),\n",
       " Text(76.86976924068584, 74.12727272727273, 'entropy = 0.983\\nsamples = 26\\nvalue = [11, 15]'),\n",
       " Text(77.215057367539, 74.12727272727273, 'entropy = 0.934\\nsamples = 40\\nvalue = [14, 26]'),\n",
       " Text(77.73298955781875, 84.01090909090911, 'X[17] <= -0.292\\nentropy = 0.973\\nsamples = 206\\nvalue = [83, 123]'),\n",
       " Text(77.56034549439217, 74.12727272727273, 'entropy = 0.971\\nsamples = 115\\nvalue = [46, 69]'),\n",
       " Text(77.90563362124533, 74.12727272727273, 'entropy = 0.975\\nsamples = 91\\nvalue = [37, 54]'),\n",
       " Text(77.73298955781875, 93.89454545454547, 'entropy = 0.0\\nsamples = 1\\nvalue = [0, 1]'),\n",
       " Text(78.42356581152508, 103.77818181818182, 'X[3] <= 0.793\\nentropy = 0.722\\nsamples = 10\\nvalue = [2, 8]'),\n",
       " Text(78.25092174809849, 93.89454545454547, 'X[17] <= -0.292\\nentropy = 1.0\\nsamples = 4\\nvalue = [2, 2]'),\n",
       " Text(78.07827768467192, 84.01090909090911, 'entropy = 0.918\\nsamples = 3\\nvalue = [2, 1]'),\n",
       " Text(78.42356581152508, 84.01090909090911, 'entropy = 0.0\\nsamples = 1\\nvalue = [0, 1]'),\n",
       " Text(78.59620987495165, 93.89454545454547, 'entropy = 0.0\\nsamples = 6\\nvalue = [0, 6]'),\n",
       " Text(77.10715482789739, 123.54545454545455, 'entropy = 0.0\\nsamples = 2\\nvalue = [0, 2]'),\n",
       " Text(88.35801775815393, 133.42909090909092, 'X[2] <= 10.978\\nentropy = 0.985\\nsamples = 1297\\nvalue = [554, 743]'),\n",
       " Text(84.54568615444116, 123.54545454545455, 'X[17] <= 2.661\\nentropy = 0.983\\nsamples = 1285\\nvalue = [544, 741]'),\n",
       " Text(84.37304209101457, 113.66181818181819, 'X[17] <= 0.33\\nentropy = 0.984\\nsamples = 1279\\nvalue = [544, 735]'),\n",
       " Text(80.06368441407761, 103.77818181818182, 'X[17] <= 0.019\\nentropy = 0.97\\nsamples = 450\\nvalue = [179, 271]'),\n",
       " Text(79.1141420652314, 93.89454545454547, 'X[3] <= 0.793\\nentropy = 0.989\\nsamples = 155\\nvalue = [68, 87]'),\n",
       " Text(78.76885393837824, 84.01090909090911, 'X[5] <= 0.188\\nentropy = 0.797\\nsamples = 29\\nvalue = [7, 22]'),\n",
       " Text(78.59620987495165, 74.12727272727273, 'entropy = 0.0\\nsamples = 1\\nvalue = [0, 1]'),\n",
       " Text(78.94149800180483, 74.12727272727273, 'entropy = 0.811\\nsamples = 28\\nvalue = [7, 21]'),\n",
       " Text(79.45943019208457, 84.01090909090911, 'X[8] <= 3.521\\nentropy = 0.999\\nsamples = 126\\nvalue = [61, 65]'),\n",
       " Text(79.286786128658, 74.12727272727273, 'entropy = 0.999\\nsamples = 122\\nvalue = [59, 63]'),\n",
       " Text(79.63207425551116, 74.12727272727273, 'entropy = 1.0\\nsamples = 4\\nvalue = [2, 2]'),\n",
       " Text(81.01322676292382, 93.89454545454547, 'X[5] <= 0.188\\nentropy = 0.955\\nsamples = 295\\nvalue = [111, 184]'),\n",
       " Text(80.32265050921748, 84.01090909090911, 'X[17] <= 0.174\\nentropy = 0.852\\nsamples = 18\\nvalue = [5, 13]'),\n",
       " Text(79.97736238236432, 74.12727272727273, 'X[3] <= 0.793\\nentropy = 0.503\\nsamples = 9\\nvalue = [1, 8]'),\n",
       " Text(79.80471831893773, 64.24363636363637, 'entropy = 0.918\\nsamples = 3\\nvalue = [1, 2]'),\n",
       " Text(80.15000644579091, 64.24363636363637, 'entropy = 0.0\\nsamples = 6\\nvalue = [0, 6]'),\n",
       " Text(80.66793863607064, 74.12727272727273, 'X[1] <= 1.993\\nentropy = 0.991\\nsamples = 9\\nvalue = [4, 5]'),\n",
       " Text(80.49529457264407, 64.24363636363637, 'entropy = 0.985\\nsamples = 7\\nvalue = [3, 4]'),\n",
       " Text(80.84058269949723, 64.24363636363637, 'entropy = 1.0\\nsamples = 2\\nvalue = [1, 1]'),\n",
       " Text(81.70380301663015, 84.01090909090911, 'X[1] <= 1.993\\nentropy = 0.96\\nsamples = 277\\nvalue = [106, 171]'),\n",
       " Text(81.35851488977698, 74.12727272727273, 'X[17] <= 0.174\\nentropy = 0.955\\nsamples = 205\\nvalue = [77, 128]'),\n",
       " Text(81.1858708263504, 64.24363636363637, 'entropy = 0.958\\nsamples = 100\\nvalue = [38, 62]'),\n",
       " Text(81.53115895320356, 64.24363636363637, 'entropy = 0.952\\nsamples = 105\\nvalue = [39, 66]'),\n",
       " Text(82.04909114348331, 74.12727272727273, 'X[17] <= 0.174\\nentropy = 0.973\\nsamples = 72\\nvalue = [29, 43]'),\n",
       " Text(81.87644708005672, 64.24363636363637, 'entropy = 0.948\\nsamples = 30\\nvalue = [11, 19]'),\n",
       " Text(82.2217352069099, 64.24363636363637, 'entropy = 0.985\\nsamples = 42\\nvalue = [18, 24]'),\n",
       " Text(88.68239976795154, 103.77818181818182, 'X[17] <= 1.418\\nentropy = 0.99\\nsamples = 829\\nvalue = [365, 464]'),\n",
       " Text(86.05767049116928, 93.89454545454547, 'X[7] <= 10.804\\nentropy = 0.995\\nsamples = 658\\nvalue = [301, 357]'),\n",
       " Text(84.95166945984273, 84.01090909090911, 'X[17] <= 0.641\\nentropy = 0.995\\nsamples = 652\\nvalue = [300, 352]'),\n",
       " Text(83.25759958746939, 74.12727272727273, 'X[1] <= 1.993\\nentropy = 1.0\\nsamples = 248\\nvalue = [121, 127]'),\n",
       " Text(82.56702333376306, 64.24363636363637, 'X[8] <= 3.521\\nentropy = 0.999\\nsamples = 193\\nvalue = [100, 93]'),\n",
       " Text(82.2217352069099, 54.360000000000014, 'X[17] <= 0.485\\nentropy = 0.999\\nsamples = 180\\nvalue = [94, 86]'),\n",
       " Text(82.04909114348331, 44.47636363636366, 'entropy = 1.0\\nsamples = 96\\nvalue = [49, 47]'),\n",
       " Text(82.39437927033647, 44.47636363636366, 'entropy = 0.996\\nsamples = 84\\nvalue = [45, 39]'),\n",
       " Text(82.91231146061622, 54.360000000000014, 'X[17] <= 0.485\\nentropy = 0.996\\nsamples = 13\\nvalue = [6, 7]'),\n",
       " Text(82.73966739718963, 44.47636363636366, 'entropy = 1.0\\nsamples = 10\\nvalue = [5, 5]'),\n",
       " Text(83.0849555240428, 44.47636363636366, 'entropy = 0.918\\nsamples = 3\\nvalue = [1, 2]'),\n",
       " Text(83.94817584117571, 64.24363636363637, 'X[8] <= 3.521\\nentropy = 0.959\\nsamples = 55\\nvalue = [21, 34]'),\n",
       " Text(83.60288771432255, 54.360000000000014, 'X[17] <= 0.485\\nentropy = 0.966\\nsamples = 51\\nvalue = [20, 31]'),\n",
       " Text(83.43024365089597, 44.47636363636366, 'entropy = 0.977\\nsamples = 34\\nvalue = [14, 20]'),\n",
       " Text(83.77553177774914, 44.47636363636366, 'entropy = 0.937\\nsamples = 17\\nvalue = [6, 11]'),\n",
       " Text(84.29346396802889, 54.360000000000014, 'X[17] <= 0.485\\nentropy = 0.811\\nsamples = 4\\nvalue = [1, 3]'),\n",
       " Text(84.1208199046023, 44.47636363636366, 'entropy = 0.0\\nsamples = 3\\nvalue = [0, 3]'),\n",
       " Text(84.46610803145546, 44.47636363636366, 'entropy = 0.0\\nsamples = 1\\nvalue = [1, 0]'),\n",
       " Text(86.64573933221607, 74.12727272727273, 'X[1] <= 1.993\\nentropy = 0.991\\nsamples = 404\\nvalue = [179, 225]'),\n",
       " Text(85.76093850715483, 64.24363636363637, 'X[5] <= 0.188\\nentropy = 0.982\\nsamples = 308\\nvalue = [130, 178]'),\n",
       " Text(85.15668428516179, 54.360000000000014, 'X[17] <= 0.952\\nentropy = 0.954\\nsamples = 24\\nvalue = [9, 15]'),\n",
       " Text(84.81139615830863, 44.47636363636366, 'X[17] <= 0.796\\nentropy = 1.0\\nsamples = 12\\nvalue = [6, 6]'),\n",
       " Text(84.63875209488205, 34.592727272727274, 'entropy = 1.0\\nsamples = 6\\nvalue = [3, 3]'),\n",
       " Text(84.98404022173521, 34.592727272727274, 'entropy = 1.0\\nsamples = 6\\nvalue = [3, 3]'),\n",
       " Text(85.50197241201496, 44.47636363636366, 'X[17] <= 1.262\\nentropy = 0.811\\nsamples = 12\\nvalue = [3, 9]'),\n",
       " Text(85.32932834858838, 34.592727272727274, 'X[17] <= 1.107\\nentropy = 0.65\\nsamples = 6\\nvalue = [1, 5]'),\n",
       " Text(85.15668428516179, 24.709090909090918, 'entropy = 0.811\\nsamples = 4\\nvalue = [1, 3]'),\n",
       " Text(85.50197241201496, 24.709090909090918, 'entropy = 0.0\\nsamples = 2\\nvalue = [0, 2]'),\n",
       " Text(85.67461647544154, 34.592727272727274, 'entropy = 0.918\\nsamples = 6\\nvalue = [2, 4]'),\n",
       " Text(86.36519272914786, 54.360000000000014, 'X[17] <= 1.262\\nentropy = 0.984\\nsamples = 284\\nvalue = [121, 163]'),\n",
       " Text(86.19254866572129, 44.47636363636366, 'X[17] <= 1.107\\nentropy = 0.986\\nsamples = 244\\nvalue = [105, 139]'),\n",
       " Text(86.0199046022947, 34.592727272727274, 'X[17] <= 0.796\\nentropy = 0.982\\nsamples = 204\\nvalue = [86, 118]'),\n",
       " Text(85.84726053886813, 24.709090909090918, 'entropy = 0.976\\nsamples = 66\\nvalue = [27, 39]'),\n",
       " Text(86.19254866572129, 24.709090909090918, 'X[17] <= 0.952\\nentropy = 0.985\\nsamples = 138\\nvalue = [59, 79]'),\n",
       " Text(86.0199046022947, 14.825454545454562, 'entropy = 0.985\\nsamples = 70\\nvalue = [30, 40]'),\n",
       " Text(86.36519272914786, 14.825454545454562, 'entropy = 0.984\\nsamples = 68\\nvalue = [29, 39]'),\n",
       " Text(86.36519272914786, 34.592727272727274, 'entropy = 0.998\\nsamples = 40\\nvalue = [19, 21]'),\n",
       " Text(86.53783679257445, 44.47636363636366, 'entropy = 0.971\\nsamples = 40\\nvalue = [16, 24]'),\n",
       " Text(87.5305401572773, 64.24363636363637, 'X[17] <= 0.796\\nentropy = 1.0\\nsamples = 96\\nvalue = [49, 47]'),\n",
       " Text(87.0557689828542, 54.360000000000014, 'X[5] <= 0.188\\nentropy = 0.961\\nsamples = 26\\nvalue = [10, 16]'),\n",
       " Text(86.88312491942762, 44.47636363636366, 'entropy = 0.971\\nsamples = 5\\nvalue = [3, 2]'),\n",
       " Text(87.22841304628078, 44.47636363636366, 'entropy = 0.918\\nsamples = 21\\nvalue = [7, 14]'),\n",
       " Text(88.0053113317004, 54.360000000000014, 'X[17] <= 0.952\\nentropy = 0.991\\nsamples = 70\\nvalue = [39, 31]'),\n",
       " Text(87.57370117313395, 44.47636363636366, 'X[8] <= 3.521\\nentropy = 0.954\\nsamples = 24\\nvalue = [15, 9]'),\n",
       " Text(87.40105710970737, 34.592727272727274, 'entropy = 0.966\\nsamples = 23\\nvalue = [14, 9]'),\n",
       " Text(87.74634523656053, 34.592727272727274, 'entropy = 0.0\\nsamples = 1\\nvalue = [1, 0]'),\n",
       " Text(88.43692149026685, 44.47636363636366, 'X[17] <= 1.107\\nentropy = 0.999\\nsamples = 46\\nvalue = [24, 22]'),\n",
       " Text(88.09163336341369, 34.592727272727274, 'X[5] <= 0.188\\nentropy = 1.0\\nsamples = 16\\nvalue = [8, 8]'),\n",
       " Text(87.91898929998712, 24.709090909090918, 'entropy = 0.0\\nsamples = 1\\nvalue = [1, 0]'),\n",
       " Text(88.26427742684028, 24.709090909090918, 'entropy = 0.997\\nsamples = 15\\nvalue = [7, 8]'),\n",
       " Text(88.78220961712003, 34.592727272727274, 'X[8] <= 3.521\\nentropy = 0.997\\nsamples = 30\\nvalue = [16, 14]'),\n",
       " Text(88.60956555369344, 24.709090909090918, 'X[17] <= 1.262\\nentropy = 0.992\\nsamples = 29\\nvalue = [16, 13]'),\n",
       " Text(88.43692149026685, 14.825454545454562, 'entropy = 0.997\\nsamples = 15\\nvalue = [8, 7]'),\n",
       " Text(88.78220961712003, 14.825454545454562, 'entropy = 0.985\\nsamples = 14\\nvalue = [8, 6]'),\n",
       " Text(88.9548536805466, 24.709090909090918, 'entropy = 0.0\\nsamples = 1\\nvalue = [0, 1]'),\n",
       " Text(87.16367152249582, 84.01090909090911, 'X[17] <= 1.262\\nentropy = 0.65\\nsamples = 6\\nvalue = [1, 5]'),\n",
       " Text(86.99102745906923, 74.12727272727273, 'entropy = 0.0\\nsamples = 4\\nvalue = [0, 4]'),\n",
       " Text(87.33631558592239, 74.12727272727273, 'entropy = 1.0\\nsamples = 2\\nvalue = [1, 1]'),\n",
       " Text(91.3071290447338, 93.89454545454547, 'X[3] <= 0.793\\nentropy = 0.954\\nsamples = 171\\nvalue = [64, 107]'),\n",
       " Text(90.16336212453268, 84.01090909090911, 'X[17] <= 2.273\\nentropy = 0.992\\nsamples = 49\\nvalue = [22, 27]'),\n",
       " Text(89.99071806110611, 74.12727272727273, 'X[17] <= 1.573\\nentropy = 0.997\\nsamples = 47\\nvalue = [22, 25]'),\n",
       " Text(89.81807399767952, 64.24363636363637, 'entropy = 0.937\\nsamples = 17\\nvalue = [6, 11]'),\n",
       " Text(90.16336212453268, 64.24363636363637, 'X[7] <= 10.804\\nentropy = 0.997\\nsamples = 30\\nvalue = [16, 14]'),\n",
       " Text(89.99071806110611, 54.360000000000014, 'X[17] <= 1.884\\nentropy = 0.992\\nsamples = 29\\nvalue = [16, 13]'),\n",
       " Text(89.64542993425293, 44.47636363636366, 'X[8] <= 3.521\\nentropy = 0.998\\nsamples = 21\\nvalue = [11, 10]'),\n",
       " Text(89.47278587082636, 34.592727272727274, 'X[17] <= 1.729\\nentropy = 1.0\\nsamples = 20\\nvalue = [10, 10]'),\n",
       " Text(89.30014180739977, 24.709090909090918, 'entropy = 0.996\\nsamples = 13\\nvalue = [7, 6]'),\n",
       " Text(89.64542993425293, 24.709090909090918, 'entropy = 0.985\\nsamples = 7\\nvalue = [3, 4]'),\n",
       " Text(89.81807399767952, 34.592727272727274, 'entropy = 0.0\\nsamples = 1\\nvalue = [1, 0]'),\n",
       " Text(90.33600618795927, 44.47636363636366, 'X[8] <= 3.521\\nentropy = 0.954\\nsamples = 8\\nvalue = [5, 3]'),\n",
       " Text(90.16336212453268, 34.592727272727274, 'X[17] <= 2.04\\nentropy = 0.722\\nsamples = 5\\nvalue = [4, 1]'),\n",
       " Text(89.99071806110611, 24.709090909090918, 'entropy = 0.0\\nsamples = 3\\nvalue = [3, 0]'),\n",
       " Text(90.33600618795927, 24.709090909090918, 'entropy = 1.0\\nsamples = 2\\nvalue = [1, 1]'),\n",
       " Text(90.50865025138584, 34.592727272727274, 'entropy = 0.918\\nsamples = 3\\nvalue = [1, 2]'),\n",
       " Text(90.33600618795927, 54.360000000000014, 'entropy = 0.0\\nsamples = 1\\nvalue = [0, 1]'),\n",
       " Text(90.33600618795927, 74.12727272727273, 'entropy = 0.0\\nsamples = 2\\nvalue = [0, 2]'),\n",
       " Text(92.4508959649349, 84.01090909090911, 'X[7] <= 10.804\\nentropy = 0.929\\nsamples = 122\\nvalue = [42, 80]'),\n",
       " Text(92.27825190150833, 74.12727272727273, 'X[17] <= 2.195\\nentropy = 0.924\\nsamples = 121\\nvalue = [41, 80]'),\n",
       " Text(91.28554853680546, 64.24363636363637, 'X[17] <= 1.573\\nentropy = 0.906\\nsamples = 109\\nvalue = [35, 74]'),\n",
       " Text(90.85393837823901, 54.360000000000014, 'X[5] <= 0.188\\nentropy = 0.863\\nsamples = 35\\nvalue = [10, 25]'),\n",
       " Text(90.68129431481243, 44.47636363636366, 'entropy = 0.0\\nsamples = 4\\nvalue = [0, 4]'),\n",
       " Text(91.0265824416656, 44.47636363636366, 'entropy = 0.907\\nsamples = 31\\nvalue = [10, 21]'),\n",
       " Text(91.71715869537192, 54.360000000000014, 'X[5] <= 0.188\\nentropy = 0.923\\nsamples = 74\\nvalue = [25, 49]'),\n",
       " Text(91.37187056851876, 44.47636363636366, 'X[17] <= 1.884\\nentropy = 1.0\\nsamples = 6\\nvalue = [3, 3]'),\n",
       " Text(91.19922650509218, 34.592727272727274, 'entropy = 0.811\\nsamples = 4\\nvalue = [3, 1]'),\n",
       " Text(91.54451463194535, 34.592727272727274, 'entropy = 0.0\\nsamples = 2\\nvalue = [0, 2]'),\n",
       " Text(92.0624468222251, 44.47636363636366, 'X[17] <= 1.729\\nentropy = 0.908\\nsamples = 68\\nvalue = [22, 46]'),\n",
       " Text(91.88980275879851, 34.592727272727274, 'entropy = 0.959\\nsamples = 21\\nvalue = [8, 13]'),\n",
       " Text(92.23509088565167, 34.592727272727274, 'X[17] <= 1.884\\nentropy = 0.879\\nsamples = 47\\nvalue = [14, 33]'),\n",
       " Text(92.0624468222251, 24.709090909090918, 'entropy = 0.863\\nsamples = 21\\nvalue = [6, 15]'),\n",
       " Text(92.40773494907826, 24.709090909090918, 'X[17] <= 2.04\\nentropy = 0.89\\nsamples = 26\\nvalue = [8, 18]'),\n",
       " Text(92.23509088565167, 14.825454545454562, 'entropy = 0.918\\nsamples = 12\\nvalue = [4, 8]'),\n",
       " Text(92.58037901250484, 14.825454545454562, 'entropy = 0.863\\nsamples = 14\\nvalue = [4, 10]'),\n",
       " Text(93.27095526621117, 64.24363636363637, 'X[8] <= 3.521\\nentropy = 1.0\\nsamples = 12\\nvalue = [6, 6]'),\n",
       " Text(92.925667139358, 54.360000000000014, 'X[17] <= 2.506\\nentropy = 0.991\\nsamples = 9\\nvalue = [4, 5]'),\n",
       " Text(92.75302307593142, 44.47636363636366, 'X[17] <= 2.35\\nentropy = 1.0\\nsamples = 8\\nvalue = [4, 4]'),\n",
       " Text(92.58037901250484, 34.592727272727274, 'entropy = 0.971\\nsamples = 5\\nvalue = [3, 2]'),\n",
       " Text(92.925667139358, 34.592727272727274, 'entropy = 0.918\\nsamples = 3\\nvalue = [1, 2]'),\n",
       " Text(93.09831120278459, 44.47636363636366, 'entropy = 0.0\\nsamples = 1\\nvalue = [0, 1]'),\n",
       " Text(93.61624339306434, 54.360000000000014, 'X[17] <= 2.428\\nentropy = 0.918\\nsamples = 3\\nvalue = [2, 1]'),\n",
       " Text(93.44359932963775, 44.47636363636366, 'entropy = 1.0\\nsamples = 2\\nvalue = [1, 1]'),\n",
       " Text(93.78888745649091, 44.47636363636366, 'entropy = 0.0\\nsamples = 1\\nvalue = [1, 0]'),\n",
       " Text(92.62354002836149, 74.12727272727273, 'entropy = 0.0\\nsamples = 1\\nvalue = [1, 0]'),\n",
       " ...]"
      ]
     },
     "execution_count": 16,
     "metadata": {},
     "output_type": "execute_result"
    },
    {
     "data": {
      "image/png": "[encoded data removed]",
      "text/plain": [
       "<Figure size 432x288 with 1 Axes>"
      ]
     },
     "metadata": {
      "needs_background": "light"
     },
     "output_type": "display_data"
    }
   ],
   "source": [
    "from sklearn import tree\n",
    "tree.plot_tree(arvore)"
   ]
  },
  {
   "cell_type": "markdown",
   "id": "6be489b8",
   "metadata": {},
   "source": [
    "## Random Forest"
   ]
  },
  {
   "cell_type": "code",
   "execution_count": 11,
   "id": "d2721b89",
   "metadata": {
    "ExecuteTime": {
     "end_time": "2021-07-06T23:36:48.469833Z",
     "start_time": "2021-07-06T23:36:48.423713Z"
    }
   },
   "outputs": [],
   "source": [
    "from sklearn.ensemble import RandomForestClassifier"
   ]
  },
  {
   "cell_type": "code",
   "execution_count": 12,
   "id": "e1017b74",
   "metadata": {
    "ExecuteTime": {
     "end_time": "2021-07-06T23:36:50.412404Z",
     "start_time": "2021-07-06T23:36:50.039400Z"
    }
   },
   "outputs": [
    {
     "data": {
      "text/plain": [
       "RandomForestClassifier(criterion='entropy', n_estimators=5, random_state=42)"
      ]
     },
     "execution_count": 12,
     "metadata": {},
     "output_type": "execute_result"
    }
   ],
   "source": [
    "random_forest = RandomForestClassifier(n_estimators=5, criterion='entropy', random_state=42)\n",
    "random_forest.fit(X_train, y_train)"
   ]
  },
  {
   "cell_type": "code",
   "execution_count": 13,
   "id": "24009b36",
   "metadata": {
    "ExecuteTime": {
     "end_time": "2021-07-06T23:36:53.982197Z",
     "start_time": "2021-07-06T23:36:53.954220Z"
    }
   },
   "outputs": [
    {
     "data": {
      "text/plain": [
       "array(['publico', 'privado', 'publico', ..., 'publico', 'publico',\n",
       "       'privado'], dtype=object)"
      ]
     },
     "execution_count": 13,
     "metadata": {},
     "output_type": "execute_result"
    }
   ],
   "source": [
    "previsoes = random_forest.predict(X_test)\n",
    "previsoes"
   ]
  },
  {
   "cell_type": "code",
   "execution_count": null,
   "id": "af2ce300",
   "metadata": {
    "ExecuteTime": {
     "end_time": "2021-06-11T18:57:58.039461Z",
     "start_time": "2021-06-11T18:57:58.023471Z"
    }
   },
   "outputs": [],
   "source": [
    "y_test"
   ]
  },
  {
   "cell_type": "code",
   "execution_count": 14,
   "id": "e4eae646",
   "metadata": {
    "ExecuteTime": {
     "end_time": "2021-07-06T23:36:56.676764Z",
     "start_time": "2021-07-06T23:36:56.627869Z"
    }
   },
   "outputs": [
    {
     "data": {
      "text/plain": [
       "0.8134740866963135"
      ]
     },
     "execution_count": 14,
     "metadata": {},
     "output_type": "execute_result"
    }
   ],
   "source": [
    "accuracy_score(y_test, previsoes)"
   ]
  },
  {
   "cell_type": "code",
   "execution_count": null,
   "id": "7951c16f",
   "metadata": {
    "ExecuteTime": {
     "end_time": "2021-06-11T19:07:54.284309Z",
     "start_time": "2021-06-11T19:07:54.268351Z"
    }
   },
   "outputs": [],
   "source": [
    "confusion_matrix(y_test, previsoes)"
   ]
  },
  {
   "cell_type": "code",
   "execution_count": 15,
   "id": "4316d27f",
   "metadata": {
    "ExecuteTime": {
     "end_time": "2021-07-06T23:36:59.370713Z",
     "start_time": "2021-07-06T23:36:58.647631Z"
    }
   },
   "outputs": [
    {
     "name": "stdout",
     "output_type": "stream",
     "text": [
      "              precision    recall  f1-score   support\n",
      "\n",
      "     privado       0.76      0.82      0.78     10022\n",
      "     publico       0.86      0.81      0.84     14039\n",
      "\n",
      "    accuracy                           0.81     24061\n",
      "   macro avg       0.81      0.81      0.81     24061\n",
      "weighted avg       0.82      0.81      0.81     24061\n",
      "\n"
     ]
    }
   ],
   "source": [
    "print(classification_report(y_test, previsoes))"
   ]
  },
  {
   "cell_type": "markdown",
   "id": "5465545d",
   "metadata": {},
   "source": [
    "## kNN"
   ]
  },
  {
   "cell_type": "code",
   "execution_count": 127,
   "id": "e52ea903",
   "metadata": {
    "ExecuteTime": {
     "end_time": "2021-06-14T16:20:04.682668Z",
     "start_time": "2021-06-14T16:20:04.677679Z"
    }
   },
   "outputs": [],
   "source": [
    "from sklearn.neighbors import KNeighborsClassifier"
   ]
  },
  {
   "cell_type": "code",
   "execution_count": 137,
   "id": "a6f70327",
   "metadata": {
    "ExecuteTime": {
     "end_time": "2021-06-14T16:30:11.238083Z",
     "start_time": "2021-06-14T16:30:11.130853Z"
    }
   },
   "outputs": [
    {
     "data": {
      "text/plain": [
       "KNeighborsClassifier(n_neighbors=10)"
      ]
     },
     "execution_count": 137,
     "metadata": {},
     "output_type": "execute_result"
    }
   ],
   "source": [
    "knn = KNeighborsClassifier(n_neighbors=10)\n",
    "knn.fit(X_train, y_train)"
   ]
  },
  {
   "cell_type": "code",
   "execution_count": 138,
   "id": "d0e7e7ec",
   "metadata": {
    "ExecuteTime": {
     "end_time": "2021-06-14T16:30:59.579043Z",
     "start_time": "2021-06-14T16:30:13.192308Z"
    }
   },
   "outputs": [
    {
     "data": {
      "text/plain": [
       "array(['publico', 'privado', 'publico', ..., 'publico', 'publico',\n",
       "       'privado'], dtype=object)"
      ]
     },
     "execution_count": 138,
     "metadata": {},
     "output_type": "execute_result"
    }
   ],
   "source": [
    "previsoes = knn.predict(X_test)\n",
    "previsoes"
   ]
  },
  {
   "cell_type": "code",
   "execution_count": null,
   "id": "2d03ae67",
   "metadata": {
    "ExecuteTime": {
     "end_time": "2021-06-14T15:06:07.758786Z",
     "start_time": "2021-06-14T15:06:07.741508Z"
    }
   },
   "outputs": [],
   "source": [
    "y_test"
   ]
  },
  {
   "cell_type": "code",
   "execution_count": 139,
   "id": "f8fcb731",
   "metadata": {
    "ExecuteTime": {
     "end_time": "2021-06-14T16:31:12.702718Z",
     "start_time": "2021-06-14T16:31:12.652333Z"
    }
   },
   "outputs": [
    {
     "data": {
      "text/plain": [
       "0.804455342670712"
      ]
     },
     "execution_count": 139,
     "metadata": {},
     "output_type": "execute_result"
    }
   ],
   "source": [
    "accuracy_score(y_test, previsoes)"
   ]
  },
  {
   "cell_type": "code",
   "execution_count": 140,
   "id": "06896a72",
   "metadata": {
    "ExecuteTime": {
     "end_time": "2021-06-14T16:31:15.381761Z",
     "start_time": "2021-06-14T16:31:15.265704Z"
    }
   },
   "outputs": [
    {
     "data": {
      "text/plain": [
       "array([[ 8237,  1785],\n",
       "       [ 2920, 11119]], dtype=int64)"
      ]
     },
     "execution_count": 140,
     "metadata": {},
     "output_type": "execute_result"
    }
   ],
   "source": [
    "confusion_matrix(y_test, previsoes)"
   ]
  },
  {
   "cell_type": "code",
   "execution_count": 141,
   "id": "81d73055",
   "metadata": {
    "ExecuteTime": {
     "end_time": "2021-06-14T16:31:33.074784Z",
     "start_time": "2021-06-14T16:31:32.325516Z"
    }
   },
   "outputs": [
    {
     "name": "stdout",
     "output_type": "stream",
     "text": [
      "              precision    recall  f1-score   support\n",
      "\n",
      "     privado       0.74      0.82      0.78     10022\n",
      "     publico       0.86      0.79      0.83     14039\n",
      "\n",
      "    accuracy                           0.80     24061\n",
      "   macro avg       0.80      0.81      0.80     24061\n",
      "weighted avg       0.81      0.80      0.81     24061\n",
      "\n"
     ]
    }
   ],
   "source": [
    "print(classification_report(y_test, previsoes))"
   ]
  },
  {
   "cell_type": "markdown",
   "id": "32b58ff1",
   "metadata": {},
   "source": [
    "## Regressão Logística"
   ]
  },
  {
   "cell_type": "code",
   "execution_count": 2,
   "id": "a1a1de02",
   "metadata": {
    "ExecuteTime": {
     "end_time": "2021-07-07T21:24:13.047473Z",
     "start_time": "2021-07-07T21:24:10.947817Z"
    }
   },
   "outputs": [],
   "source": [
    "from sklearn.linear_model import LogisticRegression"
   ]
  },
  {
   "cell_type": "code",
   "execution_count": 6,
   "id": "26c2d5b1",
   "metadata": {
    "ExecuteTime": {
     "end_time": "2021-07-07T21:24:38.261719Z",
     "start_time": "2021-07-07T21:24:37.919775Z"
    }
   },
   "outputs": [
    {
     "data": {
      "text/plain": [
       "LogisticRegression(random_state=42)"
      ]
     },
     "execution_count": 6,
     "metadata": {},
     "output_type": "execute_result"
    }
   ],
   "source": [
    "logistic = LogisticRegression(random_state = 42)\n",
    "logistic.fit(X_train, y_train)"
   ]
  },
  {
   "cell_type": "code",
   "execution_count": 7,
   "id": "7d9d0a63",
   "metadata": {
    "ExecuteTime": {
     "end_time": "2021-07-07T21:24:41.750633Z",
     "start_time": "2021-07-07T21:24:41.732687Z"
    }
   },
   "outputs": [
    {
     "data": {
      "text/plain": [
       "array([0.7221874])"
      ]
     },
     "execution_count": 7,
     "metadata": {},
     "output_type": "execute_result"
    }
   ],
   "source": [
    "logistic.intercept_"
   ]
  },
  {
   "cell_type": "code",
   "execution_count": 8,
   "id": "6c5b1941",
   "metadata": {
    "ExecuteTime": {
     "end_time": "2021-07-07T21:24:44.252472Z",
     "start_time": "2021-07-07T21:24:44.234228Z"
    }
   },
   "outputs": [
    {
     "data": {
      "text/plain": [
       "array([[-0.141075  ,  0.06763552, -0.04592691,  0.11950988,  0.0770528 ,\n",
       "        -0.03603003, -0.41388568,  0.00288982,  0.02207016,  0.74437101,\n",
       "         0.14293295,  0.20048583,  0.5930202 ,  0.02144385, -0.62029336,\n",
       "         0.51403338, -0.51403338, -0.25069364]])"
      ]
     },
     "execution_count": 8,
     "metadata": {},
     "output_type": "execute_result"
    }
   ],
   "source": [
    "logistic.coef_"
   ]
  },
  {
   "cell_type": "code",
   "execution_count": 9,
   "id": "a210c276",
   "metadata": {
    "ExecuteTime": {
     "end_time": "2021-07-07T21:24:46.730787Z",
     "start_time": "2021-07-07T21:24:46.723296Z"
    }
   },
   "outputs": [
    {
     "data": {
      "text/plain": [
       "array(['publico', 'privado', 'publico', ..., 'publico', 'publico',\n",
       "       'privado'], dtype=object)"
      ]
     },
     "execution_count": 9,
     "metadata": {},
     "output_type": "execute_result"
    }
   ],
   "source": [
    "previsoes = logistic.predict(X_test)\n",
    "previsoes"
   ]
  },
  {
   "cell_type": "code",
   "execution_count": 157,
   "id": "3f7e7d50",
   "metadata": {
    "ExecuteTime": {
     "end_time": "2021-06-14T23:36:33.345530Z",
     "start_time": "2021-06-14T23:36:33.334550Z"
    }
   },
   "outputs": [
    {
     "data": {
      "text/plain": [
       "array(['publico', 'publico', 'publico', ..., 'publico', 'publico',\n",
       "       'privado'], dtype=object)"
      ]
     },
     "execution_count": 157,
     "metadata": {},
     "output_type": "execute_result"
    }
   ],
   "source": [
    "y_test"
   ]
  },
  {
   "cell_type": "code",
   "execution_count": 10,
   "id": "4d61c9dc",
   "metadata": {
    "ExecuteTime": {
     "end_time": "2021-07-07T21:24:50.689448Z",
     "start_time": "2021-07-07T21:24:50.640020Z"
    }
   },
   "outputs": [
    {
     "data": {
      "text/plain": [
       "0.8161339927683804"
      ]
     },
     "execution_count": 10,
     "metadata": {},
     "output_type": "execute_result"
    }
   ],
   "source": [
    "accuracy_score(y_test, previsoes)"
   ]
  },
  {
   "cell_type": "code",
   "execution_count": 11,
   "id": "6a048d6f",
   "metadata": {
    "ExecuteTime": {
     "end_time": "2021-07-07T21:24:53.905185Z",
     "start_time": "2021-07-07T21:24:53.798609Z"
    }
   },
   "outputs": [
    {
     "data": {
      "text/plain": [
       "array([[ 7952,  2070],\n",
       "       [ 2354, 11685]], dtype=int64)"
      ]
     },
     "execution_count": 11,
     "metadata": {},
     "output_type": "execute_result"
    }
   ],
   "source": [
    "confusion_matrix(y_test, previsoes)"
   ]
  },
  {
   "cell_type": "code",
   "execution_count": 12,
   "id": "957a714c",
   "metadata": {
    "ExecuteTime": {
     "end_time": "2021-07-07T21:25:10.040132Z",
     "start_time": "2021-07-07T21:25:09.298168Z"
    }
   },
   "outputs": [
    {
     "name": "stdout",
     "output_type": "stream",
     "text": [
      "              precision    recall  f1-score   support\n",
      "\n",
      "     privado       0.77      0.79      0.78     10022\n",
      "     publico       0.85      0.83      0.84     14039\n",
      "\n",
      "    accuracy                           0.82     24061\n",
      "   macro avg       0.81      0.81      0.81     24061\n",
      "weighted avg       0.82      0.82      0.82     24061\n",
      "\n"
     ]
    }
   ],
   "source": [
    "print(classification_report(y_test, previsoes))"
   ]
  },
  {
   "cell_type": "code",
   "execution_count": 13,
   "id": "15b82d8b",
   "metadata": {
    "ExecuteTime": {
     "end_time": "2021-07-07T21:25:20.852222Z",
     "start_time": "2021-07-07T21:25:20.833703Z"
    }
   },
   "outputs": [
    {
     "data": {
      "text/plain": [
       "array([[0.86842418, 1.06997525, 0.95511177, 1.12694437, 1.0800991 ,\n",
       "        0.96461132, 0.66107652, 1.002894  , 1.02231551, 2.10511692,\n",
       "        1.15365245, 1.2219963 , 1.80944506, 1.02167542, 0.53778665,\n",
       "        1.6720215 , 0.59807843, 0.77826077]])"
      ]
     },
     "execution_count": 13,
     "metadata": {},
     "output_type": "execute_result"
    }
   ],
   "source": [
    "#odds ratio\n",
    "np.exp(logistic.coef_)"
   ]
  },
  {
   "cell_type": "markdown",
   "id": "f1d294f8",
   "metadata": {},
   "source": [
    "## SVM"
   ]
  },
  {
   "cell_type": "code",
   "execution_count": 166,
   "id": "58da899a",
   "metadata": {
    "ExecuteTime": {
     "end_time": "2021-06-15T03:05:03.156808Z",
     "start_time": "2021-06-15T03:05:03.133525Z"
    }
   },
   "outputs": [],
   "source": [
    "from sklearn.svm import SVC"
   ]
  },
  {
   "cell_type": "code",
   "execution_count": 167,
   "id": "7f0c4dd0",
   "metadata": {
    "ExecuteTime": {
     "end_time": "2021-06-15T03:43:50.397993Z",
     "start_time": "2021-06-15T03:05:05.752170Z"
    }
   },
   "outputs": [
    {
     "data": {
      "text/plain": [
       "SVC(C=2.0, random_state=42)"
      ]
     },
     "execution_count": 167,
     "metadata": {},
     "output_type": "execute_result"
    }
   ],
   "source": [
    "svm = SVC(kernel='rbf', random_state=42, C = 2.0)\n",
    "svm.fit(X_train, y_train)"
   ]
  },
  {
   "cell_type": "code",
   "execution_count": 168,
   "id": "167fa07f",
   "metadata": {
    "ExecuteTime": {
     "end_time": "2021-06-15T03:45:35.802056Z",
     "start_time": "2021-06-15T03:43:50.448065Z"
    }
   },
   "outputs": [
    {
     "data": {
      "text/plain": [
       "array(['publico', 'privado', 'publico', ..., 'publico', 'publico',\n",
       "       'privado'], dtype=object)"
      ]
     },
     "execution_count": 168,
     "metadata": {},
     "output_type": "execute_result"
    }
   ],
   "source": [
    "previsoes = svm.predict(X_test)\n",
    "previsoes"
   ]
  },
  {
   "cell_type": "code",
   "execution_count": 169,
   "id": "31e5315d",
   "metadata": {
    "ExecuteTime": {
     "end_time": "2021-06-15T03:45:35.817015Z",
     "start_time": "2021-06-15T03:45:35.805050Z"
    }
   },
   "outputs": [
    {
     "data": {
      "text/plain": [
       "array(['publico', 'publico', 'publico', ..., 'publico', 'publico',\n",
       "       'privado'], dtype=object)"
      ]
     },
     "execution_count": 169,
     "metadata": {},
     "output_type": "execute_result"
    }
   ],
   "source": [
    "y_test"
   ]
  },
  {
   "cell_type": "code",
   "execution_count": 170,
   "id": "6b50a0c3",
   "metadata": {
    "ExecuteTime": {
     "end_time": "2021-06-15T03:45:35.878902Z",
     "start_time": "2021-06-15T03:45:35.819012Z"
    }
   },
   "outputs": [
    {
     "data": {
      "text/plain": [
       "0.814845600764723"
      ]
     },
     "execution_count": 170,
     "metadata": {},
     "output_type": "execute_result"
    }
   ],
   "source": [
    "accuracy_score(y_test, previsoes)"
   ]
  },
  {
   "cell_type": "code",
   "execution_count": null,
   "id": "96e7dc52",
   "metadata": {
    "ExecuteTime": {
     "end_time": "2021-06-15T03:47:06.919642Z",
     "start_time": "2021-06-15T03:47:06.815748Z"
    }
   },
   "outputs": [],
   "source": [
    "confusion_matrix(y_test, previsoes)"
   ]
  },
  {
   "cell_type": "code",
   "execution_count": 172,
   "id": "6daacb14",
   "metadata": {
    "ExecuteTime": {
     "end_time": "2021-06-15T03:47:29.396256Z",
     "start_time": "2021-06-15T03:47:28.671676Z"
    }
   },
   "outputs": [
    {
     "name": "stdout",
     "output_type": "stream",
     "text": [
      "              precision    recall  f1-score   support\n",
      "\n",
      "     privado       0.76      0.82      0.79     10022\n",
      "     publico       0.86      0.81      0.84     14039\n",
      "\n",
      "    accuracy                           0.81     24061\n",
      "   macro avg       0.81      0.82      0.81     24061\n",
      "weighted avg       0.82      0.81      0.82     24061\n",
      "\n"
     ]
    }
   ],
   "source": [
    "print(classification_report(y_test, previsoes))"
   ]
  },
  {
   "cell_type": "markdown",
   "id": "e5dec632",
   "metadata": {},
   "source": [
    "## Redes neurais artificiais"
   ]
  },
  {
   "cell_type": "code",
   "execution_count": 173,
   "id": "b07e9359",
   "metadata": {
    "ExecuteTime": {
     "end_time": "2021-06-15T13:40:50.793906Z",
     "start_time": "2021-06-15T13:40:50.727906Z"
    }
   },
   "outputs": [],
   "source": [
    "from sklearn.neural_network import MLPClassifier"
   ]
  },
  {
   "cell_type": "code",
   "execution_count": 200,
   "id": "69a837ed",
   "metadata": {
    "ExecuteTime": {
     "end_time": "2021-06-16T20:52:54.597909Z",
     "start_time": "2021-06-16T20:52:54.570499Z"
    }
   },
   "outputs": [
    {
     "data": {
      "text/plain": [
       "((96241, 18), (96241,))"
      ]
     },
     "execution_count": 200,
     "metadata": {},
     "output_type": "execute_result"
    }
   ],
   "source": [
    "X_train.shape, y_train.shape"
   ]
  },
  {
   "cell_type": "code",
   "execution_count": 1,
   "id": "42e70c61",
   "metadata": {
    "ExecuteTime": {
     "end_time": "2021-06-16T20:52:51.325884Z",
     "start_time": "2021-06-16T20:52:51.198398Z"
    }
   },
   "outputs": [
    {
     "data": {
      "text/plain": [
       "9.5"
      ]
     },
     "execution_count": 1,
     "metadata": {},
     "output_type": "execute_result"
    }
   ],
   "source": [
    "(18 + 1) / 2"
   ]
  },
  {
   "cell_type": "code",
   "execution_count": 191,
   "id": "eebe63c4",
   "metadata": {
    "ExecuteTime": {
     "end_time": "2021-06-15T14:00:45.195566Z",
     "start_time": "2021-06-15T14:00:16.192154Z"
    }
   },
   "outputs": [
    {
     "name": "stdout",
     "output_type": "stream",
     "text": [
      "Iteration 1, loss = 0.43791272\n",
      "Iteration 2, loss = 0.40068900\n",
      "Iteration 3, loss = 0.39978506\n",
      "Iteration 4, loss = 0.39936811\n",
      "Iteration 5, loss = 0.39899743\n",
      "Iteration 6, loss = 0.39893472\n",
      "Iteration 7, loss = 0.39864721\n",
      "Iteration 8, loss = 0.39849831\n",
      "Iteration 9, loss = 0.39842403\n",
      "Iteration 10, loss = 0.39844222\n",
      "Iteration 11, loss = 0.39825445\n",
      "Iteration 12, loss = 0.39820636\n",
      "Iteration 13, loss = 0.39810286\n",
      "Iteration 14, loss = 0.39807875\n",
      "Iteration 15, loss = 0.39811323\n",
      "Iteration 16, loss = 0.39792812\n",
      "Iteration 17, loss = 0.39788180\n",
      "Iteration 18, loss = 0.39791650\n",
      "Iteration 19, loss = 0.39774499\n",
      "Iteration 20, loss = 0.39783703\n",
      "Iteration 21, loss = 0.39778679\n",
      "Iteration 22, loss = 0.39758125\n",
      "Iteration 23, loss = 0.39789980\n",
      "Iteration 24, loss = 0.39771214\n",
      "Iteration 25, loss = 0.39773470\n",
      "Iteration 26, loss = 0.39760428\n",
      "Iteration 27, loss = 0.39762060\n",
      "Iteration 28, loss = 0.39746024\n",
      "Iteration 29, loss = 0.39757171\n",
      "Iteration 30, loss = 0.39749729\n",
      "Iteration 31, loss = 0.39762064\n",
      "Iteration 32, loss = 0.39749512\n",
      "Iteration 33, loss = 0.39757405\n",
      "Iteration 34, loss = 0.39744251\n",
      "Iteration 35, loss = 0.39747821\n",
      "Iteration 36, loss = 0.39734372\n",
      "Iteration 37, loss = 0.39741994\n",
      "Iteration 38, loss = 0.39742828\n",
      "Iteration 39, loss = 0.39751777\n",
      "Iteration 40, loss = 0.39743097\n",
      "Iteration 41, loss = 0.39740528\n",
      "Iteration 42, loss = 0.39736110\n",
      "Iteration 43, loss = 0.39746364\n",
      "Iteration 44, loss = 0.39736664\n",
      "Iteration 45, loss = 0.39726387\n",
      "Iteration 46, loss = 0.39717873\n",
      "Iteration 47, loss = 0.39727285\n",
      "Iteration 48, loss = 0.39728936\n",
      "Iteration 49, loss = 0.39727721\n",
      "Iteration 50, loss = 0.39718612\n",
      "Iteration 51, loss = 0.39719538\n",
      "Iteration 52, loss = 0.39719898\n",
      "Iteration 53, loss = 0.39724971\n",
      "Iteration 54, loss = 0.39716191\n",
      "Iteration 55, loss = 0.39718105\n",
      "Iteration 56, loss = 0.39717156\n",
      "Iteration 57, loss = 0.39716049\n",
      "Iteration 58, loss = 0.39714770\n",
      "Iteration 59, loss = 0.39709548\n",
      "Iteration 60, loss = 0.39711346\n",
      "Iteration 61, loss = 0.39705036\n",
      "Iteration 62, loss = 0.39701477\n",
      "Iteration 63, loss = 0.39715335\n",
      "Iteration 64, loss = 0.39716138\n",
      "Iteration 65, loss = 0.39709786\n",
      "Iteration 66, loss = 0.39712395\n",
      "Iteration 67, loss = 0.39701854\n",
      "Iteration 68, loss = 0.39703188\n",
      "Iteration 69, loss = 0.39692490\n",
      "Iteration 70, loss = 0.39700592\n",
      "Iteration 71, loss = 0.39703822\n",
      "Iteration 72, loss = 0.39695060\n",
      "Iteration 73, loss = 0.39692742\n",
      "Iteration 74, loss = 0.39706917\n",
      "Iteration 75, loss = 0.39698763\n",
      "Iteration 76, loss = 0.39693062\n",
      "Iteration 77, loss = 0.39693473\n",
      "Iteration 78, loss = 0.39695295\n",
      "Iteration 79, loss = 0.39687315\n",
      "Iteration 80, loss = 0.39682991\n",
      "Iteration 81, loss = 0.39704262\n",
      "Iteration 82, loss = 0.39690841\n",
      "Iteration 83, loss = 0.39694042\n",
      "Iteration 84, loss = 0.39692503\n",
      "Iteration 85, loss = 0.39688747\n",
      "Iteration 86, loss = 0.39688300\n",
      "Iteration 87, loss = 0.39686031\n",
      "Iteration 88, loss = 0.39688337\n",
      "Iteration 89, loss = 0.39684263\n",
      "Iteration 90, loss = 0.39684860\n",
      "Iteration 91, loss = 0.39683054\n",
      "Training loss did not improve more than tol=0.000010 for 10 consecutive epochs. Stopping.\n"
     ]
    },
    {
     "data": {
      "text/plain": [
       "MLPClassifier(hidden_layer_sizes=(20, 20), max_iter=1000, tol=1e-05,\n",
       "              verbose=True)"
      ]
     },
     "execution_count": 191,
     "metadata": {},
     "output_type": "execute_result"
    }
   ],
   "source": [
    "rede_neural = MLPClassifier(verbose=True, max_iter = 1000, tol=0.000010, hidden_layer_sizes = (20, 20))\n",
    "rede_neural.fit(X_train, y_train)"
   ]
  },
  {
   "cell_type": "code",
   "execution_count": 192,
   "id": "a94f610f",
   "metadata": {
    "ExecuteTime": {
     "end_time": "2021-06-15T14:06:25.614873Z",
     "start_time": "2021-06-15T14:06:25.585488Z"
    }
   },
   "outputs": [
    {
     "data": {
      "text/plain": [
       "array(['publico', 'privado', 'publico', ..., 'publico', 'publico',\n",
       "       'privado'], dtype='<U7')"
      ]
     },
     "execution_count": 192,
     "metadata": {},
     "output_type": "execute_result"
    }
   ],
   "source": [
    "previsoes = rede_neural.predict(X_test)\n",
    "previsoes"
   ]
  },
  {
   "cell_type": "code",
   "execution_count": 198,
   "id": "0f2264f2",
   "metadata": {
    "ExecuteTime": {
     "end_time": "2021-06-15T17:55:17.633693Z",
     "start_time": "2021-06-15T17:55:17.617919Z"
    }
   },
   "outputs": [
    {
     "data": {
      "text/plain": [
       "array(['publico', 'publico', 'publico', ..., 'publico', 'publico',\n",
       "       'privado'], dtype=object)"
      ]
     },
     "execution_count": 198,
     "metadata": {},
     "output_type": "execute_result"
    }
   ],
   "source": [
    "y_test"
   ]
  },
  {
   "cell_type": "code",
   "execution_count": 193,
   "id": "7e5a3c63",
   "metadata": {
    "ExecuteTime": {
     "end_time": "2021-06-15T14:06:29.683063Z",
     "start_time": "2021-06-15T14:06:29.625398Z"
    }
   },
   "outputs": [
    {
     "data": {
      "text/plain": [
       "0.8174223847720378"
      ]
     },
     "execution_count": 193,
     "metadata": {},
     "output_type": "execute_result"
    }
   ],
   "source": [
    "accuracy_score(y_test, previsoes)"
   ]
  },
  {
   "cell_type": "code",
   "execution_count": 194,
   "id": "be48702c",
   "metadata": {
    "ExecuteTime": {
     "end_time": "2021-06-15T14:06:47.214784Z",
     "start_time": "2021-06-15T14:06:47.101089Z"
    }
   },
   "outputs": [
    {
     "data": {
      "text/plain": [
       "array([[ 8256,  1766],\n",
       "       [ 2627, 11412]], dtype=int64)"
      ]
     },
     "execution_count": 194,
     "metadata": {},
     "output_type": "execute_result"
    }
   ],
   "source": [
    "confusion_matrix(y_test, previsoes)"
   ]
  },
  {
   "cell_type": "code",
   "execution_count": 195,
   "id": "6db9c3f5",
   "metadata": {
    "ExecuteTime": {
     "end_time": "2021-06-15T14:06:50.039719Z",
     "start_time": "2021-06-15T14:06:49.303132Z"
    }
   },
   "outputs": [
    {
     "name": "stdout",
     "output_type": "stream",
     "text": [
      "              precision    recall  f1-score   support\n",
      "\n",
      "     privado       0.76      0.82      0.79     10022\n",
      "     publico       0.87      0.81      0.84     14039\n",
      "\n",
      "    accuracy                           0.82     24061\n",
      "   macro avg       0.81      0.82      0.81     24061\n",
      "weighted avg       0.82      0.82      0.82     24061\n",
      "\n"
     ]
    }
   ],
   "source": [
    "print(classification_report(y_test, previsoes))"
   ]
  },
  {
   "cell_type": "markdown",
   "id": "accde612",
   "metadata": {},
   "source": [
    "## Avaliação do algoritmos\n",
    "    \n",
    "    . Naive Bayes:63.16\n",
    "    . Árvore de decisão:81.28\n",
    "    . Random Forest:81.34\n",
    "    . kNN:80.44\n",
    "    . Regressão logística:81.61\n",
    "    . SVM:81.48\n",
    "    . Redes neurais:81.74    "
   ]
  },
  {
   "cell_type": "markdown",
   "id": "6c3de98b",
   "metadata": {},
   "source": [
    "## Tuning dos parâmetros com GridSearch"
   ]
  },
  {
   "cell_type": "markdown",
   "id": "21e73495",
   "metadata": {
    "ExecuteTime": {
     "end_time": "2021-06-21T23:27:08.203111Z",
     "start_time": "2021-06-21T23:27:08.184524Z"
    }
   },
   "source": [
    "### Preparação dos dados"
   ]
  },
  {
   "cell_type": "code",
   "execution_count": 19,
   "id": "25f0cb0d",
   "metadata": {
    "ExecuteTime": {
     "end_time": "2021-06-23T22:56:52.920877Z",
     "start_time": "2021-06-23T22:56:52.876959Z"
    }
   },
   "outputs": [],
   "source": [
    "from sklearn.model_selection import GridSearchCV\n",
    "from sklearn.tree import DecisionTreeClassifier\n",
    "from sklearn.ensemble import RandomForestClassifier\n",
    "from sklearn.neighbors import KNeighborsClassifier\n",
    "from sklearn.linear_model import LogisticRegression\n",
    "from sklearn.svm import SVC\n",
    "from sklearn.neural_network import MLPClassifier"
   ]
  },
  {
   "cell_type": "code",
   "execution_count": 219,
   "id": "d05121f2",
   "metadata": {
    "ExecuteTime": {
     "end_time": "2021-06-21T23:36:20.721389Z",
     "start_time": "2021-06-21T23:36:20.692465Z"
    }
   },
   "outputs": [],
   "source": [
    "import pickle\n",
    "with open('bases_final.pkl', 'rb') as f:\n",
    "    X_train, y_train, X_test, y_test = pickle.load(f)"
   ]
  },
  {
   "cell_type": "code",
   "execution_count": 221,
   "id": "e8356340",
   "metadata": {
    "ExecuteTime": {
     "end_time": "2021-06-21T23:38:26.814820Z",
     "start_time": "2021-06-21T23:38:26.807873Z"
    }
   },
   "outputs": [
    {
     "data": {
      "text/plain": [
       "((96241, 18), (96241,))"
      ]
     },
     "execution_count": 221,
     "metadata": {},
     "output_type": "execute_result"
    }
   ],
   "source": [
    "X_train.shape, y_train.shape"
   ]
  },
  {
   "cell_type": "code",
   "execution_count": 223,
   "id": "d95552ec",
   "metadata": {
    "ExecuteTime": {
     "end_time": "2021-06-21T23:38:47.131904Z",
     "start_time": "2021-06-21T23:38:47.111991Z"
    }
   },
   "outputs": [
    {
     "data": {
      "text/plain": [
       "((24061, 18), (24061,))"
      ]
     },
     "execution_count": 223,
     "metadata": {},
     "output_type": "execute_result"
    }
   ],
   "source": [
    "X_test.shape, y_test.shape"
   ]
  },
  {
   "cell_type": "code",
   "execution_count": 21,
   "id": "09cccb10",
   "metadata": {
    "ExecuteTime": {
     "end_time": "2021-06-23T22:57:10.790838Z",
     "start_time": "2021-06-23T22:57:10.771854Z"
    }
   },
   "outputs": [
    {
     "data": {
      "text/plain": [
       "(120302, 18)"
      ]
     },
     "execution_count": 21,
     "metadata": {},
     "output_type": "execute_result"
    }
   ],
   "source": [
    "X = np.concatenate((X_train, X_test), axis=0)\n",
    "X.shape"
   ]
  },
  {
   "cell_type": "code",
   "execution_count": 22,
   "id": "4d005823",
   "metadata": {
    "ExecuteTime": {
     "end_time": "2021-06-23T22:57:14.762615Z",
     "start_time": "2021-06-23T22:57:14.751644Z"
    }
   },
   "outputs": [
    {
     "data": {
      "text/plain": [
       "array([[ 0.56897367, -0.23678708, -0.04545038, ..., -0.83432036,\n",
       "         0.83432036,  0.40754879],\n",
       "       [-1.75755059, -0.23678708, -0.04545038, ..., -0.83432036,\n",
       "         0.83432036, -0.52504189],\n",
       "       [-1.75755059, -0.23678708, -0.04545038, ...,  1.19858037,\n",
       "        -1.19858037,  1.18470769],\n",
       "       ...,\n",
       "       [ 0.56897367, -0.23678708, -0.04545038, ...,  1.19858037,\n",
       "        -1.19858037, -1.30220079],\n",
       "       [ 0.56897367, -0.23678708, -0.04545038, ...,  1.19858037,\n",
       "        -1.19858037, -1.45763257],\n",
       "       [ 0.56897367, -0.23678708, -0.04545038, ..., -0.83432036,\n",
       "         0.83432036, -0.52504189]])"
      ]
     },
     "execution_count": 22,
     "metadata": {},
     "output_type": "execute_result"
    }
   ],
   "source": [
    "X"
   ]
  },
  {
   "cell_type": "code",
   "execution_count": 23,
   "id": "60c2595e",
   "metadata": {
    "ExecuteTime": {
     "end_time": "2021-06-23T22:57:16.961701Z",
     "start_time": "2021-06-23T22:57:16.950693Z"
    }
   },
   "outputs": [
    {
     "data": {
      "text/plain": [
       "(120302,)"
      ]
     },
     "execution_count": 23,
     "metadata": {},
     "output_type": "execute_result"
    }
   ],
   "source": [
    "y = np.concatenate((y_train, y_test), axis=0)\n",
    "y.shape"
   ]
  },
  {
   "cell_type": "code",
   "execution_count": 24,
   "id": "789c8667",
   "metadata": {
    "ExecuteTime": {
     "end_time": "2021-06-23T22:57:19.924850Z",
     "start_time": "2021-06-23T22:57:19.914876Z"
    }
   },
   "outputs": [
    {
     "data": {
      "text/plain": [
       "array(['privado', 'privado', 'publico', ..., 'publico', 'publico',\n",
       "       'privado'], dtype=object)"
      ]
     },
     "execution_count": 24,
     "metadata": {},
     "output_type": "execute_result"
    }
   ],
   "source": [
    "y"
   ]
  },
  {
   "cell_type": "markdown",
   "id": "0e165e3d",
   "metadata": {
    "ExecuteTime": {
     "end_time": "2021-06-21T23:42:40.226031Z",
     "start_time": "2021-06-21T23:42:40.209052Z"
    }
   },
   "source": [
    "### Árvore de decisão"
   ]
  },
  {
   "cell_type": "code",
   "execution_count": 233,
   "id": "fe47d8b8",
   "metadata": {
    "ExecuteTime": {
     "end_time": "2021-06-22T02:08:49.502291Z",
     "start_time": "2021-06-22T02:08:49.480771Z"
    }
   },
   "outputs": [],
   "source": [
    "parametros = {'criterion': ['gini', 'entropy'],\n",
    "             'splitter': ['best', 'random'],\n",
    "             'min_samples_split': [2, 5, 10],\n",
    "             'min_samples_leaf': [2, 5, 10]}"
   ]
  },
  {
   "cell_type": "code",
   "execution_count": 234,
   "id": "cb72fad4",
   "metadata": {
    "ExecuteTime": {
     "end_time": "2021-06-22T02:09:44.430559Z",
     "start_time": "2021-06-22T02:08:53.094560Z"
    }
   },
   "outputs": [
    {
     "name": "stdout",
     "output_type": "stream",
     "text": [
      "{'criterion': 'gini', 'min_samples_leaf': 10, 'min_samples_split': 2, 'splitter': 'random'}\n",
      "0.8173513243891088\n"
     ]
    }
   ],
   "source": [
    "grid_search = GridSearchCV(estimator=DecisionTreeClassifier(), param_grid=parametros)\n",
    "grid_search.fit(X, y)\n",
    "melhores_parametros = grid_search.best_params_\n",
    "melhor_resultado = grid_search.best_score_\n",
    "print(melhores_parametros)\n",
    "print(melhor_resultado)"
   ]
  },
  {
   "cell_type": "markdown",
   "id": "38f5ac12",
   "metadata": {},
   "source": [
    "### Random Forest"
   ]
  },
  {
   "cell_type": "code",
   "execution_count": 238,
   "id": "61d7ae02",
   "metadata": {
    "ExecuteTime": {
     "end_time": "2021-06-22T02:14:23.918412Z",
     "start_time": "2021-06-22T02:14:23.907861Z"
    }
   },
   "outputs": [],
   "source": [
    "parametros = {'criterion': ['gini', 'entropy'],\n",
    "             'n_estimators': [10, 40, 100, 150],\n",
    "             'min_samples_split': [2, 5, 10],\n",
    "             'min_samples_leaf': [2, 5, 10]}"
   ]
  },
  {
   "cell_type": "code",
   "execution_count": 239,
   "id": "750486b0",
   "metadata": {
    "ExecuteTime": {
     "end_time": "2021-06-22T02:39:11.534341Z",
     "start_time": "2021-06-22T02:14:25.698574Z"
    }
   },
   "outputs": [
    {
     "name": "stdout",
     "output_type": "stream",
     "text": [
      "{'criterion': 'gini', 'min_samples_leaf': 10, 'min_samples_split': 10, 'n_estimators': 40}\n",
      "0.8186896179608333\n"
     ]
    }
   ],
   "source": [
    "grid_search = GridSearchCV(estimator=RandomForestClassifier(), param_grid=parametros)\n",
    "grid_search.fit(X, y)\n",
    "melhores_parametros = grid_search.best_params_\n",
    "melhor_resultado = grid_search.best_score_\n",
    "print(melhores_parametros)\n",
    "print(melhor_resultado)"
   ]
  },
  {
   "cell_type": "markdown",
   "id": "7baf01d0",
   "metadata": {},
   "source": [
    "### kNN"
   ]
  },
  {
   "cell_type": "code",
   "execution_count": 244,
   "id": "ce30cf59",
   "metadata": {
    "ExecuteTime": {
     "end_time": "2021-06-22T11:09:19.884908Z",
     "start_time": "2021-06-22T11:09:19.870945Z"
    }
   },
   "outputs": [],
   "source": [
    "parametros = {'n_neighbors': [3, 5, 10, 20],\n",
    "             'p': [1, 2]}\n",
    "\n",
    "# p = 1 distancia euclidiana, p = 2 distancia manhattan"
   ]
  },
  {
   "cell_type": "code",
   "execution_count": 242,
   "id": "acd6ad98",
   "metadata": {
    "ExecuteTime": {
     "end_time": "2021-06-22T03:20:30.672242Z",
     "start_time": "2021-06-22T02:46:35.939841Z"
    }
   },
   "outputs": [
    {
     "name": "stdout",
     "output_type": "stream",
     "text": [
      "{'n_neighbors': 20, 'p': 1}\n",
      "0.814367202189033\n"
     ]
    }
   ],
   "source": [
    "grid_search = GridSearchCV(estimator=KNeighborsClassifier(), param_grid=parametros)\n",
    "grid_search.fit(X, y)\n",
    "melhores_parametros = grid_search.best_params_\n",
    "melhor_resultado = grid_search.best_score_\n",
    "print(melhores_parametros)\n",
    "print(melhor_resultado)"
   ]
  },
  {
   "cell_type": "markdown",
   "id": "aaab8c21",
   "metadata": {
    "ExecuteTime": {
     "end_time": "2021-06-22T11:10:25.432159Z",
     "start_time": "2021-06-22T11:10:25.410052Z"
    }
   },
   "source": [
    "### Regressão Logística"
   ]
  },
  {
   "cell_type": "code",
   "execution_count": 246,
   "id": "3387f5b8",
   "metadata": {
    "ExecuteTime": {
     "end_time": "2021-06-22T11:13:51.577150Z",
     "start_time": "2021-06-22T11:13:51.556454Z"
    }
   },
   "outputs": [],
   "source": [
    "parametros = {'tol': [0.0001, 0.00001, 0.000001],\n",
    "             'C': [1.0, 1.5, 2.0],\n",
    "             'solver': ['lbfgs','saga']}"
   ]
  },
  {
   "cell_type": "code",
   "execution_count": 248,
   "id": "6c555ea2",
   "metadata": {
    "ExecuteTime": {
     "end_time": "2021-06-22T11:32:43.680298Z",
     "start_time": "2021-06-22T11:23:02.441618Z"
    }
   },
   "outputs": [
    {
     "name": "stderr",
     "output_type": "stream",
     "text": [
      "C:\\Users\\leotm\\anaconda3\\lib\\site-packages\\sklearn\\linear_model\\_sag.py:328: ConvergenceWarning:\n",
      "\n",
      "The max_iter was reached which means the coef_ did not converge\n",
      "\n",
      "C:\\Users\\leotm\\anaconda3\\lib\\site-packages\\sklearn\\linear_model\\_sag.py:328: ConvergenceWarning:\n",
      "\n",
      "The max_iter was reached which means the coef_ did not converge\n",
      "\n",
      "C:\\Users\\leotm\\anaconda3\\lib\\site-packages\\sklearn\\linear_model\\_sag.py:328: ConvergenceWarning:\n",
      "\n",
      "The max_iter was reached which means the coef_ did not converge\n",
      "\n",
      "C:\\Users\\leotm\\anaconda3\\lib\\site-packages\\sklearn\\linear_model\\_sag.py:328: ConvergenceWarning:\n",
      "\n",
      "The max_iter was reached which means the coef_ did not converge\n",
      "\n",
      "C:\\Users\\leotm\\anaconda3\\lib\\site-packages\\sklearn\\linear_model\\_sag.py:328: ConvergenceWarning:\n",
      "\n",
      "The max_iter was reached which means the coef_ did not converge\n",
      "\n",
      "C:\\Users\\leotm\\anaconda3\\lib\\site-packages\\sklearn\\linear_model\\_sag.py:328: ConvergenceWarning:\n",
      "\n",
      "The max_iter was reached which means the coef_ did not converge\n",
      "\n",
      "C:\\Users\\leotm\\anaconda3\\lib\\site-packages\\sklearn\\linear_model\\_sag.py:328: ConvergenceWarning:\n",
      "\n",
      "The max_iter was reached which means the coef_ did not converge\n",
      "\n",
      "C:\\Users\\leotm\\anaconda3\\lib\\site-packages\\sklearn\\linear_model\\_sag.py:328: ConvergenceWarning:\n",
      "\n",
      "The max_iter was reached which means the coef_ did not converge\n",
      "\n",
      "C:\\Users\\leotm\\anaconda3\\lib\\site-packages\\sklearn\\linear_model\\_sag.py:328: ConvergenceWarning:\n",
      "\n",
      "The max_iter was reached which means the coef_ did not converge\n",
      "\n",
      "C:\\Users\\leotm\\anaconda3\\lib\\site-packages\\sklearn\\linear_model\\_sag.py:328: ConvergenceWarning:\n",
      "\n",
      "The max_iter was reached which means the coef_ did not converge\n",
      "\n",
      "C:\\Users\\leotm\\anaconda3\\lib\\site-packages\\sklearn\\linear_model\\_sag.py:328: ConvergenceWarning:\n",
      "\n",
      "The max_iter was reached which means the coef_ did not converge\n",
      "\n",
      "C:\\Users\\leotm\\anaconda3\\lib\\site-packages\\sklearn\\linear_model\\_sag.py:328: ConvergenceWarning:\n",
      "\n",
      "The max_iter was reached which means the coef_ did not converge\n",
      "\n",
      "C:\\Users\\leotm\\anaconda3\\lib\\site-packages\\sklearn\\linear_model\\_sag.py:328: ConvergenceWarning:\n",
      "\n",
      "The max_iter was reached which means the coef_ did not converge\n",
      "\n",
      "C:\\Users\\leotm\\anaconda3\\lib\\site-packages\\sklearn\\linear_model\\_sag.py:328: ConvergenceWarning:\n",
      "\n",
      "The max_iter was reached which means the coef_ did not converge\n",
      "\n",
      "C:\\Users\\leotm\\anaconda3\\lib\\site-packages\\sklearn\\linear_model\\_sag.py:328: ConvergenceWarning:\n",
      "\n",
      "The max_iter was reached which means the coef_ did not converge\n",
      "\n",
      "C:\\Users\\leotm\\anaconda3\\lib\\site-packages\\sklearn\\linear_model\\_sag.py:328: ConvergenceWarning:\n",
      "\n",
      "The max_iter was reached which means the coef_ did not converge\n",
      "\n",
      "C:\\Users\\leotm\\anaconda3\\lib\\site-packages\\sklearn\\linear_model\\_sag.py:328: ConvergenceWarning:\n",
      "\n",
      "The max_iter was reached which means the coef_ did not converge\n",
      "\n",
      "C:\\Users\\leotm\\anaconda3\\lib\\site-packages\\sklearn\\linear_model\\_sag.py:328: ConvergenceWarning:\n",
      "\n",
      "The max_iter was reached which means the coef_ did not converge\n",
      "\n",
      "C:\\Users\\leotm\\anaconda3\\lib\\site-packages\\sklearn\\linear_model\\_sag.py:328: ConvergenceWarning:\n",
      "\n",
      "The max_iter was reached which means the coef_ did not converge\n",
      "\n",
      "C:\\Users\\leotm\\anaconda3\\lib\\site-packages\\sklearn\\linear_model\\_sag.py:328: ConvergenceWarning:\n",
      "\n",
      "The max_iter was reached which means the coef_ did not converge\n",
      "\n",
      "C:\\Users\\leotm\\anaconda3\\lib\\site-packages\\sklearn\\linear_model\\_sag.py:328: ConvergenceWarning:\n",
      "\n",
      "The max_iter was reached which means the coef_ did not converge\n",
      "\n",
      "C:\\Users\\leotm\\anaconda3\\lib\\site-packages\\sklearn\\linear_model\\_sag.py:328: ConvergenceWarning:\n",
      "\n",
      "The max_iter was reached which means the coef_ did not converge\n",
      "\n",
      "C:\\Users\\leotm\\anaconda3\\lib\\site-packages\\sklearn\\linear_model\\_sag.py:328: ConvergenceWarning:\n",
      "\n",
      "The max_iter was reached which means the coef_ did not converge\n",
      "\n",
      "C:\\Users\\leotm\\anaconda3\\lib\\site-packages\\sklearn\\linear_model\\_sag.py:328: ConvergenceWarning:\n",
      "\n",
      "The max_iter was reached which means the coef_ did not converge\n",
      "\n",
      "C:\\Users\\leotm\\anaconda3\\lib\\site-packages\\sklearn\\linear_model\\_sag.py:328: ConvergenceWarning:\n",
      "\n",
      "The max_iter was reached which means the coef_ did not converge\n",
      "\n",
      "C:\\Users\\leotm\\anaconda3\\lib\\site-packages\\sklearn\\linear_model\\_sag.py:328: ConvergenceWarning:\n",
      "\n",
      "The max_iter was reached which means the coef_ did not converge\n",
      "\n",
      "C:\\Users\\leotm\\anaconda3\\lib\\site-packages\\sklearn\\linear_model\\_sag.py:328: ConvergenceWarning:\n",
      "\n",
      "The max_iter was reached which means the coef_ did not converge\n",
      "\n",
      "C:\\Users\\leotm\\anaconda3\\lib\\site-packages\\sklearn\\linear_model\\_sag.py:328: ConvergenceWarning:\n",
      "\n",
      "The max_iter was reached which means the coef_ did not converge\n",
      "\n",
      "C:\\Users\\leotm\\anaconda3\\lib\\site-packages\\sklearn\\linear_model\\_sag.py:328: ConvergenceWarning:\n",
      "\n",
      "The max_iter was reached which means the coef_ did not converge\n",
      "\n",
      "C:\\Users\\leotm\\anaconda3\\lib\\site-packages\\sklearn\\linear_model\\_sag.py:328: ConvergenceWarning:\n",
      "\n",
      "The max_iter was reached which means the coef_ did not converge\n",
      "\n",
      "C:\\Users\\leotm\\anaconda3\\lib\\site-packages\\sklearn\\linear_model\\_sag.py:328: ConvergenceWarning:\n",
      "\n",
      "The max_iter was reached which means the coef_ did not converge\n",
      "\n",
      "C:\\Users\\leotm\\anaconda3\\lib\\site-packages\\sklearn\\linear_model\\_sag.py:328: ConvergenceWarning:\n",
      "\n",
      "The max_iter was reached which means the coef_ did not converge\n",
      "\n",
      "C:\\Users\\leotm\\anaconda3\\lib\\site-packages\\sklearn\\linear_model\\_sag.py:328: ConvergenceWarning:\n",
      "\n",
      "The max_iter was reached which means the coef_ did not converge\n",
      "\n",
      "C:\\Users\\leotm\\anaconda3\\lib\\site-packages\\sklearn\\linear_model\\_sag.py:328: ConvergenceWarning:\n",
      "\n",
      "The max_iter was reached which means the coef_ did not converge\n",
      "\n",
      "C:\\Users\\leotm\\anaconda3\\lib\\site-packages\\sklearn\\linear_model\\_sag.py:328: ConvergenceWarning:\n",
      "\n",
      "The max_iter was reached which means the coef_ did not converge\n",
      "\n",
      "C:\\Users\\leotm\\anaconda3\\lib\\site-packages\\sklearn\\linear_model\\_sag.py:328: ConvergenceWarning:\n",
      "\n",
      "The max_iter was reached which means the coef_ did not converge\n",
      "\n",
      "C:\\Users\\leotm\\anaconda3\\lib\\site-packages\\sklearn\\linear_model\\_sag.py:328: ConvergenceWarning:\n",
      "\n",
      "The max_iter was reached which means the coef_ did not converge\n",
      "\n",
      "C:\\Users\\leotm\\anaconda3\\lib\\site-packages\\sklearn\\linear_model\\_sag.py:328: ConvergenceWarning:\n",
      "\n",
      "The max_iter was reached which means the coef_ did not converge\n",
      "\n",
      "C:\\Users\\leotm\\anaconda3\\lib\\site-packages\\sklearn\\linear_model\\_sag.py:328: ConvergenceWarning:\n",
      "\n",
      "The max_iter was reached which means the coef_ did not converge\n",
      "\n",
      "C:\\Users\\leotm\\anaconda3\\lib\\site-packages\\sklearn\\linear_model\\_sag.py:328: ConvergenceWarning:\n",
      "\n",
      "The max_iter was reached which means the coef_ did not converge\n",
      "\n",
      "C:\\Users\\leotm\\anaconda3\\lib\\site-packages\\sklearn\\linear_model\\_sag.py:328: ConvergenceWarning:\n",
      "\n",
      "The max_iter was reached which means the coef_ did not converge\n",
      "\n",
      "C:\\Users\\leotm\\anaconda3\\lib\\site-packages\\sklearn\\linear_model\\_sag.py:328: ConvergenceWarning:\n",
      "\n",
      "The max_iter was reached which means the coef_ did not converge\n",
      "\n"
     ]
    },
    {
     "name": "stdout",
     "output_type": "stream",
     "text": [
      "{'C': 1.0, 'solver': 'lbfgs', 'tol': 0.0001}\n",
      "0.817550814580688\n"
     ]
    }
   ],
   "source": [
    "grid_search = GridSearchCV(estimator=LogisticRegression(), param_grid=parametros)\n",
    "grid_search.fit(X, y)\n",
    "melhores_parametros = grid_search.best_params_\n",
    "melhor_resultado = grid_search.best_score_\n",
    "print(melhores_parametros)\n",
    "print(melhor_resultado)"
   ]
  },
  {
   "cell_type": "markdown",
   "id": "dca2851d",
   "metadata": {},
   "source": [
    "### SVM"
   ]
  },
  {
   "cell_type": "code",
   "execution_count": 250,
   "id": "d4de8c9d",
   "metadata": {
    "ExecuteTime": {
     "end_time": "2021-06-22T11:37:47.517458Z",
     "start_time": "2021-06-22T11:37:47.460206Z"
    }
   },
   "outputs": [],
   "source": [
    "parametros = {'tol': [0.001, 0.0001, 0.00001],\n",
    "             'C': [1.0, 1.5, 2.0],\n",
    "             'kernel': ['rbf','linear', 'poly', 'sigmoid']}"
   ]
  },
  {
   "cell_type": "markdown",
   "id": "ed80f656",
   "metadata": {},
   "source": [
    "### Redes neurais"
   ]
  },
  {
   "cell_type": "code",
   "execution_count": 17,
   "id": "5b108bf2",
   "metadata": {
    "ExecuteTime": {
     "end_time": "2021-06-23T22:56:40.630031Z",
     "start_time": "2021-06-23T22:56:40.626042Z"
    }
   },
   "outputs": [],
   "source": [
    "parametros = {'activation': ['relu', 'logistic', 'tahn'],\n",
    "             'solver': ['adam', 'sgd'],\n",
    "             'batch_size': [10, 56]}"
   ]
  },
  {
   "cell_type": "code",
   "execution_count": 25,
   "id": "7bb3f4ab",
   "metadata": {
    "ExecuteTime": {
     "end_time": "2021-06-23T23:53:31.049343Z",
     "start_time": "2021-06-23T22:57:27.600756Z"
    }
   },
   "outputs": [
    {
     "name": "stderr",
     "output_type": "stream",
     "text": [
      "C:\\Users\\leotm\\anaconda3\\lib\\site-packages\\sklearn\\model_selection\\_validation.py:615: FitFailedWarning: Estimator fit failed. The score on this train-test partition for these parameters will be set to nan. Details: \n",
      "Traceback (most recent call last):\n",
      "  File \"C:\\Users\\leotm\\anaconda3\\lib\\site-packages\\sklearn\\model_selection\\_validation.py\", line 598, in _fit_and_score\n",
      "    estimator.fit(X_train, y_train, **fit_params)\n",
      "  File \"C:\\Users\\leotm\\anaconda3\\lib\\site-packages\\sklearn\\neural_network\\_multilayer_perceptron.py\", line 673, in fit\n",
      "    return self._fit(X, y, incremental=False)\n",
      "  File \"C:\\Users\\leotm\\anaconda3\\lib\\site-packages\\sklearn\\neural_network\\_multilayer_perceptron.py\", line 357, in _fit\n",
      "    self._validate_hyperparameters()\n",
      "  File \"C:\\Users\\leotm\\anaconda3\\lib\\site-packages\\sklearn\\neural_network\\_multilayer_perceptron.py\", line 448, in _validate_hyperparameters\n",
      "    raise ValueError(\"The activation '%s' is not supported. Supported \"\n",
      "ValueError: The activation 'tahn' is not supported. Supported activations are ['identity', 'logistic', 'relu', 'softmax', 'tanh'].\n",
      "\n",
      "  warnings.warn(\"Estimator fit failed. The score on this train-test\"\n",
      "C:\\Users\\leotm\\anaconda3\\lib\\site-packages\\sklearn\\model_selection\\_validation.py:615: FitFailedWarning: Estimator fit failed. The score on this train-test partition for these parameters will be set to nan. Details: \n",
      "Traceback (most recent call last):\n",
      "  File \"C:\\Users\\leotm\\anaconda3\\lib\\site-packages\\sklearn\\model_selection\\_validation.py\", line 598, in _fit_and_score\n",
      "    estimator.fit(X_train, y_train, **fit_params)\n",
      "  File \"C:\\Users\\leotm\\anaconda3\\lib\\site-packages\\sklearn\\neural_network\\_multilayer_perceptron.py\", line 673, in fit\n",
      "    return self._fit(X, y, incremental=False)\n",
      "  File \"C:\\Users\\leotm\\anaconda3\\lib\\site-packages\\sklearn\\neural_network\\_multilayer_perceptron.py\", line 357, in _fit\n",
      "    self._validate_hyperparameters()\n",
      "  File \"C:\\Users\\leotm\\anaconda3\\lib\\site-packages\\sklearn\\neural_network\\_multilayer_perceptron.py\", line 448, in _validate_hyperparameters\n",
      "    raise ValueError(\"The activation '%s' is not supported. Supported \"\n",
      "ValueError: The activation 'tahn' is not supported. Supported activations are ['identity', 'logistic', 'relu', 'softmax', 'tanh'].\n",
      "\n",
      "  warnings.warn(\"Estimator fit failed. The score on this train-test\"\n",
      "C:\\Users\\leotm\\anaconda3\\lib\\site-packages\\sklearn\\model_selection\\_validation.py:615: FitFailedWarning: Estimator fit failed. The score on this train-test partition for these parameters will be set to nan. Details: \n",
      "Traceback (most recent call last):\n",
      "  File \"C:\\Users\\leotm\\anaconda3\\lib\\site-packages\\sklearn\\model_selection\\_validation.py\", line 598, in _fit_and_score\n",
      "    estimator.fit(X_train, y_train, **fit_params)\n",
      "  File \"C:\\Users\\leotm\\anaconda3\\lib\\site-packages\\sklearn\\neural_network\\_multilayer_perceptron.py\", line 673, in fit\n",
      "    return self._fit(X, y, incremental=False)\n",
      "  File \"C:\\Users\\leotm\\anaconda3\\lib\\site-packages\\sklearn\\neural_network\\_multilayer_perceptron.py\", line 357, in _fit\n",
      "    self._validate_hyperparameters()\n",
      "  File \"C:\\Users\\leotm\\anaconda3\\lib\\site-packages\\sklearn\\neural_network\\_multilayer_perceptron.py\", line 448, in _validate_hyperparameters\n",
      "    raise ValueError(\"The activation '%s' is not supported. Supported \"\n",
      "ValueError: The activation 'tahn' is not supported. Supported activations are ['identity', 'logistic', 'relu', 'softmax', 'tanh'].\n",
      "\n",
      "  warnings.warn(\"Estimator fit failed. The score on this train-test\"\n",
      "C:\\Users\\leotm\\anaconda3\\lib\\site-packages\\sklearn\\model_selection\\_validation.py:615: FitFailedWarning: Estimator fit failed. The score on this train-test partition for these parameters will be set to nan. Details: \n",
      "Traceback (most recent call last):\n",
      "  File \"C:\\Users\\leotm\\anaconda3\\lib\\site-packages\\sklearn\\model_selection\\_validation.py\", line 598, in _fit_and_score\n",
      "    estimator.fit(X_train, y_train, **fit_params)\n",
      "  File \"C:\\Users\\leotm\\anaconda3\\lib\\site-packages\\sklearn\\neural_network\\_multilayer_perceptron.py\", line 673, in fit\n",
      "    return self._fit(X, y, incremental=False)\n",
      "  File \"C:\\Users\\leotm\\anaconda3\\lib\\site-packages\\sklearn\\neural_network\\_multilayer_perceptron.py\", line 357, in _fit\n",
      "    self._validate_hyperparameters()\n",
      "  File \"C:\\Users\\leotm\\anaconda3\\lib\\site-packages\\sklearn\\neural_network\\_multilayer_perceptron.py\", line 448, in _validate_hyperparameters\n",
      "    raise ValueError(\"The activation '%s' is not supported. Supported \"\n",
      "ValueError: The activation 'tahn' is not supported. Supported activations are ['identity', 'logistic', 'relu', 'softmax', 'tanh'].\n",
      "\n",
      "  warnings.warn(\"Estimator fit failed. The score on this train-test\"\n",
      "C:\\Users\\leotm\\anaconda3\\lib\\site-packages\\sklearn\\model_selection\\_validation.py:615: FitFailedWarning: Estimator fit failed. The score on this train-test partition for these parameters will be set to nan. Details: \n",
      "Traceback (most recent call last):\n",
      "  File \"C:\\Users\\leotm\\anaconda3\\lib\\site-packages\\sklearn\\model_selection\\_validation.py\", line 598, in _fit_and_score\n",
      "    estimator.fit(X_train, y_train, **fit_params)\n",
      "  File \"C:\\Users\\leotm\\anaconda3\\lib\\site-packages\\sklearn\\neural_network\\_multilayer_perceptron.py\", line 673, in fit\n",
      "    return self._fit(X, y, incremental=False)\n",
      "  File \"C:\\Users\\leotm\\anaconda3\\lib\\site-packages\\sklearn\\neural_network\\_multilayer_perceptron.py\", line 357, in _fit\n",
      "    self._validate_hyperparameters()\n",
      "  File \"C:\\Users\\leotm\\anaconda3\\lib\\site-packages\\sklearn\\neural_network\\_multilayer_perceptron.py\", line 448, in _validate_hyperparameters\n",
      "    raise ValueError(\"The activation '%s' is not supported. Supported \"\n",
      "ValueError: The activation 'tahn' is not supported. Supported activations are ['identity', 'logistic', 'relu', 'softmax', 'tanh'].\n",
      "\n",
      "  warnings.warn(\"Estimator fit failed. The score on this train-test\"\n",
      "C:\\Users\\leotm\\anaconda3\\lib\\site-packages\\sklearn\\model_selection\\_validation.py:615: FitFailedWarning: Estimator fit failed. The score on this train-test partition for these parameters will be set to nan. Details: \n",
      "Traceback (most recent call last):\n",
      "  File \"C:\\Users\\leotm\\anaconda3\\lib\\site-packages\\sklearn\\model_selection\\_validation.py\", line 598, in _fit_and_score\n",
      "    estimator.fit(X_train, y_train, **fit_params)\n",
      "  File \"C:\\Users\\leotm\\anaconda3\\lib\\site-packages\\sklearn\\neural_network\\_multilayer_perceptron.py\", line 673, in fit\n",
      "    return self._fit(X, y, incremental=False)\n",
      "  File \"C:\\Users\\leotm\\anaconda3\\lib\\site-packages\\sklearn\\neural_network\\_multilayer_perceptron.py\", line 357, in _fit\n",
      "    self._validate_hyperparameters()\n",
      "  File \"C:\\Users\\leotm\\anaconda3\\lib\\site-packages\\sklearn\\neural_network\\_multilayer_perceptron.py\", line 448, in _validate_hyperparameters\n",
      "    raise ValueError(\"The activation '%s' is not supported. Supported \"\n",
      "ValueError: The activation 'tahn' is not supported. Supported activations are ['identity', 'logistic', 'relu', 'softmax', 'tanh'].\n",
      "\n",
      "  warnings.warn(\"Estimator fit failed. The score on this train-test\"\n",
      "C:\\Users\\leotm\\anaconda3\\lib\\site-packages\\sklearn\\model_selection\\_validation.py:615: FitFailedWarning: Estimator fit failed. The score on this train-test partition for these parameters will be set to nan. Details: \n",
      "Traceback (most recent call last):\n",
      "  File \"C:\\Users\\leotm\\anaconda3\\lib\\site-packages\\sklearn\\model_selection\\_validation.py\", line 598, in _fit_and_score\n",
      "    estimator.fit(X_train, y_train, **fit_params)\n",
      "  File \"C:\\Users\\leotm\\anaconda3\\lib\\site-packages\\sklearn\\neural_network\\_multilayer_perceptron.py\", line 673, in fit\n",
      "    return self._fit(X, y, incremental=False)\n",
      "  File \"C:\\Users\\leotm\\anaconda3\\lib\\site-packages\\sklearn\\neural_network\\_multilayer_perceptron.py\", line 357, in _fit\n",
      "    self._validate_hyperparameters()\n",
      "  File \"C:\\Users\\leotm\\anaconda3\\lib\\site-packages\\sklearn\\neural_network\\_multilayer_perceptron.py\", line 448, in _validate_hyperparameters\n",
      "    raise ValueError(\"The activation '%s' is not supported. Supported \"\n",
      "ValueError: The activation 'tahn' is not supported. Supported activations are ['identity', 'logistic', 'relu', 'softmax', 'tanh'].\n",
      "\n",
      "  warnings.warn(\"Estimator fit failed. The score on this train-test\"\n",
      "C:\\Users\\leotm\\anaconda3\\lib\\site-packages\\sklearn\\model_selection\\_validation.py:615: FitFailedWarning: Estimator fit failed. The score on this train-test partition for these parameters will be set to nan. Details: \n",
      "Traceback (most recent call last):\n",
      "  File \"C:\\Users\\leotm\\anaconda3\\lib\\site-packages\\sklearn\\model_selection\\_validation.py\", line 598, in _fit_and_score\n",
      "    estimator.fit(X_train, y_train, **fit_params)\n",
      "  File \"C:\\Users\\leotm\\anaconda3\\lib\\site-packages\\sklearn\\neural_network\\_multilayer_perceptron.py\", line 673, in fit\n",
      "    return self._fit(X, y, incremental=False)\n",
      "  File \"C:\\Users\\leotm\\anaconda3\\lib\\site-packages\\sklearn\\neural_network\\_multilayer_perceptron.py\", line 357, in _fit\n",
      "    self._validate_hyperparameters()\n",
      "  File \"C:\\Users\\leotm\\anaconda3\\lib\\site-packages\\sklearn\\neural_network\\_multilayer_perceptron.py\", line 448, in _validate_hyperparameters\n",
      "    raise ValueError(\"The activation '%s' is not supported. Supported \"\n",
      "ValueError: The activation 'tahn' is not supported. Supported activations are ['identity', 'logistic', 'relu', 'softmax', 'tanh'].\n",
      "\n",
      "  warnings.warn(\"Estimator fit failed. The score on this train-test\"\n",
      "C:\\Users\\leotm\\anaconda3\\lib\\site-packages\\sklearn\\model_selection\\_validation.py:615: FitFailedWarning: Estimator fit failed. The score on this train-test partition for these parameters will be set to nan. Details: \n",
      "Traceback (most recent call last):\n",
      "  File \"C:\\Users\\leotm\\anaconda3\\lib\\site-packages\\sklearn\\model_selection\\_validation.py\", line 598, in _fit_and_score\n",
      "    estimator.fit(X_train, y_train, **fit_params)\n",
      "  File \"C:\\Users\\leotm\\anaconda3\\lib\\site-packages\\sklearn\\neural_network\\_multilayer_perceptron.py\", line 673, in fit\n",
      "    return self._fit(X, y, incremental=False)\n",
      "  File \"C:\\Users\\leotm\\anaconda3\\lib\\site-packages\\sklearn\\neural_network\\_multilayer_perceptron.py\", line 357, in _fit\n",
      "    self._validate_hyperparameters()\n",
      "  File \"C:\\Users\\leotm\\anaconda3\\lib\\site-packages\\sklearn\\neural_network\\_multilayer_perceptron.py\", line 448, in _validate_hyperparameters\n",
      "    raise ValueError(\"The activation '%s' is not supported. Supported \"\n",
      "ValueError: The activation 'tahn' is not supported. Supported activations are ['identity', 'logistic', 'relu', 'softmax', 'tanh'].\n",
      "\n",
      "  warnings.warn(\"Estimator fit failed. The score on this train-test\"\n",
      "C:\\Users\\leotm\\anaconda3\\lib\\site-packages\\sklearn\\model_selection\\_validation.py:615: FitFailedWarning: Estimator fit failed. The score on this train-test partition for these parameters will be set to nan. Details: \n",
      "Traceback (most recent call last):\n",
      "  File \"C:\\Users\\leotm\\anaconda3\\lib\\site-packages\\sklearn\\model_selection\\_validation.py\", line 598, in _fit_and_score\n",
      "    estimator.fit(X_train, y_train, **fit_params)\n",
      "  File \"C:\\Users\\leotm\\anaconda3\\lib\\site-packages\\sklearn\\neural_network\\_multilayer_perceptron.py\", line 673, in fit\n",
      "    return self._fit(X, y, incremental=False)\n",
      "  File \"C:\\Users\\leotm\\anaconda3\\lib\\site-packages\\sklearn\\neural_network\\_multilayer_perceptron.py\", line 357, in _fit\n",
      "    self._validate_hyperparameters()\n",
      "  File \"C:\\Users\\leotm\\anaconda3\\lib\\site-packages\\sklearn\\neural_network\\_multilayer_perceptron.py\", line 448, in _validate_hyperparameters\n",
      "    raise ValueError(\"The activation '%s' is not supported. Supported \"\n",
      "ValueError: The activation 'tahn' is not supported. Supported activations are ['identity', 'logistic', 'relu', 'softmax', 'tanh'].\n",
      "\n",
      "  warnings.warn(\"Estimator fit failed. The score on this train-test\"\n",
      "C:\\Users\\leotm\\anaconda3\\lib\\site-packages\\sklearn\\model_selection\\_validation.py:615: FitFailedWarning: Estimator fit failed. The score on this train-test partition for these parameters will be set to nan. Details: \n",
      "Traceback (most recent call last):\n",
      "  File \"C:\\Users\\leotm\\anaconda3\\lib\\site-packages\\sklearn\\model_selection\\_validation.py\", line 598, in _fit_and_score\n",
      "    estimator.fit(X_train, y_train, **fit_params)\n",
      "  File \"C:\\Users\\leotm\\anaconda3\\lib\\site-packages\\sklearn\\neural_network\\_multilayer_perceptron.py\", line 673, in fit\n",
      "    return self._fit(X, y, incremental=False)\n",
      "  File \"C:\\Users\\leotm\\anaconda3\\lib\\site-packages\\sklearn\\neural_network\\_multilayer_perceptron.py\", line 357, in _fit\n",
      "    self._validate_hyperparameters()\n",
      "  File \"C:\\Users\\leotm\\anaconda3\\lib\\site-packages\\sklearn\\neural_network\\_multilayer_perceptron.py\", line 448, in _validate_hyperparameters\n",
      "    raise ValueError(\"The activation '%s' is not supported. Supported \"\n",
      "ValueError: The activation 'tahn' is not supported. Supported activations are ['identity', 'logistic', 'relu', 'softmax', 'tanh'].\n",
      "\n",
      "  warnings.warn(\"Estimator fit failed. The score on this train-test\"\n",
      "C:\\Users\\leotm\\anaconda3\\lib\\site-packages\\sklearn\\model_selection\\_validation.py:615: FitFailedWarning: Estimator fit failed. The score on this train-test partition for these parameters will be set to nan. Details: \n",
      "Traceback (most recent call last):\n",
      "  File \"C:\\Users\\leotm\\anaconda3\\lib\\site-packages\\sklearn\\model_selection\\_validation.py\", line 598, in _fit_and_score\n",
      "    estimator.fit(X_train, y_train, **fit_params)\n",
      "  File \"C:\\Users\\leotm\\anaconda3\\lib\\site-packages\\sklearn\\neural_network\\_multilayer_perceptron.py\", line 673, in fit\n",
      "    return self._fit(X, y, incremental=False)\n",
      "  File \"C:\\Users\\leotm\\anaconda3\\lib\\site-packages\\sklearn\\neural_network\\_multilayer_perceptron.py\", line 357, in _fit\n",
      "    self._validate_hyperparameters()\n",
      "  File \"C:\\Users\\leotm\\anaconda3\\lib\\site-packages\\sklearn\\neural_network\\_multilayer_perceptron.py\", line 448, in _validate_hyperparameters\n",
      "    raise ValueError(\"The activation '%s' is not supported. Supported \"\n",
      "ValueError: The activation 'tahn' is not supported. Supported activations are ['identity', 'logistic', 'relu', 'softmax', 'tanh'].\n",
      "\n",
      "  warnings.warn(\"Estimator fit failed. The score on this train-test\"\n",
      "C:\\Users\\leotm\\anaconda3\\lib\\site-packages\\sklearn\\model_selection\\_validation.py:615: FitFailedWarning: Estimator fit failed. The score on this train-test partition for these parameters will be set to nan. Details: \n",
      "Traceback (most recent call last):\n",
      "  File \"C:\\Users\\leotm\\anaconda3\\lib\\site-packages\\sklearn\\model_selection\\_validation.py\", line 598, in _fit_and_score\n",
      "    estimator.fit(X_train, y_train, **fit_params)\n",
      "  File \"C:\\Users\\leotm\\anaconda3\\lib\\site-packages\\sklearn\\neural_network\\_multilayer_perceptron.py\", line 673, in fit\n",
      "    return self._fit(X, y, incremental=False)\n",
      "  File \"C:\\Users\\leotm\\anaconda3\\lib\\site-packages\\sklearn\\neural_network\\_multilayer_perceptron.py\", line 357, in _fit\n",
      "    self._validate_hyperparameters()\n",
      "  File \"C:\\Users\\leotm\\anaconda3\\lib\\site-packages\\sklearn\\neural_network\\_multilayer_perceptron.py\", line 448, in _validate_hyperparameters\n",
      "    raise ValueError(\"The activation '%s' is not supported. Supported \"\n",
      "ValueError: The activation 'tahn' is not supported. Supported activations are ['identity', 'logistic', 'relu', 'softmax', 'tanh'].\n",
      "\n",
      "  warnings.warn(\"Estimator fit failed. The score on this train-test\"\n",
      "C:\\Users\\leotm\\anaconda3\\lib\\site-packages\\sklearn\\model_selection\\_validation.py:615: FitFailedWarning: Estimator fit failed. The score on this train-test partition for these parameters will be set to nan. Details: \n",
      "Traceback (most recent call last):\n",
      "  File \"C:\\Users\\leotm\\anaconda3\\lib\\site-packages\\sklearn\\model_selection\\_validation.py\", line 598, in _fit_and_score\n",
      "    estimator.fit(X_train, y_train, **fit_params)\n",
      "  File \"C:\\Users\\leotm\\anaconda3\\lib\\site-packages\\sklearn\\neural_network\\_multilayer_perceptron.py\", line 673, in fit\n",
      "    return self._fit(X, y, incremental=False)\n",
      "  File \"C:\\Users\\leotm\\anaconda3\\lib\\site-packages\\sklearn\\neural_network\\_multilayer_perceptron.py\", line 357, in _fit\n",
      "    self._validate_hyperparameters()\n",
      "  File \"C:\\Users\\leotm\\anaconda3\\lib\\site-packages\\sklearn\\neural_network\\_multilayer_perceptron.py\", line 448, in _validate_hyperparameters\n",
      "    raise ValueError(\"The activation '%s' is not supported. Supported \"\n",
      "ValueError: The activation 'tahn' is not supported. Supported activations are ['identity', 'logistic', 'relu', 'softmax', 'tanh'].\n",
      "\n",
      "  warnings.warn(\"Estimator fit failed. The score on this train-test\"\n",
      "C:\\Users\\leotm\\anaconda3\\lib\\site-packages\\sklearn\\model_selection\\_validation.py:615: FitFailedWarning: Estimator fit failed. The score on this train-test partition for these parameters will be set to nan. Details: \n",
      "Traceback (most recent call last):\n",
      "  File \"C:\\Users\\leotm\\anaconda3\\lib\\site-packages\\sklearn\\model_selection\\_validation.py\", line 598, in _fit_and_score\n",
      "    estimator.fit(X_train, y_train, **fit_params)\n",
      "  File \"C:\\Users\\leotm\\anaconda3\\lib\\site-packages\\sklearn\\neural_network\\_multilayer_perceptron.py\", line 673, in fit\n",
      "    return self._fit(X, y, incremental=False)\n",
      "  File \"C:\\Users\\leotm\\anaconda3\\lib\\site-packages\\sklearn\\neural_network\\_multilayer_perceptron.py\", line 357, in _fit\n",
      "    self._validate_hyperparameters()\n",
      "  File \"C:\\Users\\leotm\\anaconda3\\lib\\site-packages\\sklearn\\neural_network\\_multilayer_perceptron.py\", line 448, in _validate_hyperparameters\n",
      "    raise ValueError(\"The activation '%s' is not supported. Supported \"\n",
      "ValueError: The activation 'tahn' is not supported. Supported activations are ['identity', 'logistic', 'relu', 'softmax', 'tanh'].\n",
      "\n",
      "  warnings.warn(\"Estimator fit failed. The score on this train-test\"\n",
      "C:\\Users\\leotm\\anaconda3\\lib\\site-packages\\sklearn\\model_selection\\_validation.py:615: FitFailedWarning: Estimator fit failed. The score on this train-test partition for these parameters will be set to nan. Details: \n",
      "Traceback (most recent call last):\n",
      "  File \"C:\\Users\\leotm\\anaconda3\\lib\\site-packages\\sklearn\\model_selection\\_validation.py\", line 598, in _fit_and_score\n",
      "    estimator.fit(X_train, y_train, **fit_params)\n",
      "  File \"C:\\Users\\leotm\\anaconda3\\lib\\site-packages\\sklearn\\neural_network\\_multilayer_perceptron.py\", line 673, in fit\n",
      "    return self._fit(X, y, incremental=False)\n",
      "  File \"C:\\Users\\leotm\\anaconda3\\lib\\site-packages\\sklearn\\neural_network\\_multilayer_perceptron.py\", line 357, in _fit\n",
      "    self._validate_hyperparameters()\n",
      "  File \"C:\\Users\\leotm\\anaconda3\\lib\\site-packages\\sklearn\\neural_network\\_multilayer_perceptron.py\", line 448, in _validate_hyperparameters\n",
      "    raise ValueError(\"The activation '%s' is not supported. Supported \"\n",
      "ValueError: The activation 'tahn' is not supported. Supported activations are ['identity', 'logistic', 'relu', 'softmax', 'tanh'].\n",
      "\n",
      "  warnings.warn(\"Estimator fit failed. The score on this train-test\"\n",
      "C:\\Users\\leotm\\anaconda3\\lib\\site-packages\\sklearn\\model_selection\\_validation.py:615: FitFailedWarning: Estimator fit failed. The score on this train-test partition for these parameters will be set to nan. Details: \n",
      "Traceback (most recent call last):\n",
      "  File \"C:\\Users\\leotm\\anaconda3\\lib\\site-packages\\sklearn\\model_selection\\_validation.py\", line 598, in _fit_and_score\n",
      "    estimator.fit(X_train, y_train, **fit_params)\n",
      "  File \"C:\\Users\\leotm\\anaconda3\\lib\\site-packages\\sklearn\\neural_network\\_multilayer_perceptron.py\", line 673, in fit\n",
      "    return self._fit(X, y, incremental=False)\n",
      "  File \"C:\\Users\\leotm\\anaconda3\\lib\\site-packages\\sklearn\\neural_network\\_multilayer_perceptron.py\", line 357, in _fit\n",
      "    self._validate_hyperparameters()\n",
      "  File \"C:\\Users\\leotm\\anaconda3\\lib\\site-packages\\sklearn\\neural_network\\_multilayer_perceptron.py\", line 448, in _validate_hyperparameters\n",
      "    raise ValueError(\"The activation '%s' is not supported. Supported \"\n",
      "ValueError: The activation 'tahn' is not supported. Supported activations are ['identity', 'logistic', 'relu', 'softmax', 'tanh'].\n",
      "\n",
      "  warnings.warn(\"Estimator fit failed. The score on this train-test\"\n"
     ]
    },
    {
     "name": "stderr",
     "output_type": "stream",
     "text": [
      "C:\\Users\\leotm\\anaconda3\\lib\\site-packages\\sklearn\\model_selection\\_validation.py:615: FitFailedWarning: Estimator fit failed. The score on this train-test partition for these parameters will be set to nan. Details: \n",
      "Traceback (most recent call last):\n",
      "  File \"C:\\Users\\leotm\\anaconda3\\lib\\site-packages\\sklearn\\model_selection\\_validation.py\", line 598, in _fit_and_score\n",
      "    estimator.fit(X_train, y_train, **fit_params)\n",
      "  File \"C:\\Users\\leotm\\anaconda3\\lib\\site-packages\\sklearn\\neural_network\\_multilayer_perceptron.py\", line 673, in fit\n",
      "    return self._fit(X, y, incremental=False)\n",
      "  File \"C:\\Users\\leotm\\anaconda3\\lib\\site-packages\\sklearn\\neural_network\\_multilayer_perceptron.py\", line 357, in _fit\n",
      "    self._validate_hyperparameters()\n",
      "  File \"C:\\Users\\leotm\\anaconda3\\lib\\site-packages\\sklearn\\neural_network\\_multilayer_perceptron.py\", line 448, in _validate_hyperparameters\n",
      "    raise ValueError(\"The activation '%s' is not supported. Supported \"\n",
      "ValueError: The activation 'tahn' is not supported. Supported activations are ['identity', 'logistic', 'relu', 'softmax', 'tanh'].\n",
      "\n",
      "  warnings.warn(\"Estimator fit failed. The score on this train-test\"\n",
      "C:\\Users\\leotm\\anaconda3\\lib\\site-packages\\sklearn\\model_selection\\_validation.py:615: FitFailedWarning: Estimator fit failed. The score on this train-test partition for these parameters will be set to nan. Details: \n",
      "Traceback (most recent call last):\n",
      "  File \"C:\\Users\\leotm\\anaconda3\\lib\\site-packages\\sklearn\\model_selection\\_validation.py\", line 598, in _fit_and_score\n",
      "    estimator.fit(X_train, y_train, **fit_params)\n",
      "  File \"C:\\Users\\leotm\\anaconda3\\lib\\site-packages\\sklearn\\neural_network\\_multilayer_perceptron.py\", line 673, in fit\n",
      "    return self._fit(X, y, incremental=False)\n",
      "  File \"C:\\Users\\leotm\\anaconda3\\lib\\site-packages\\sklearn\\neural_network\\_multilayer_perceptron.py\", line 357, in _fit\n",
      "    self._validate_hyperparameters()\n",
      "  File \"C:\\Users\\leotm\\anaconda3\\lib\\site-packages\\sklearn\\neural_network\\_multilayer_perceptron.py\", line 448, in _validate_hyperparameters\n",
      "    raise ValueError(\"The activation '%s' is not supported. Supported \"\n",
      "ValueError: The activation 'tahn' is not supported. Supported activations are ['identity', 'logistic', 'relu', 'softmax', 'tanh'].\n",
      "\n",
      "  warnings.warn(\"Estimator fit failed. The score on this train-test\"\n",
      "C:\\Users\\leotm\\anaconda3\\lib\\site-packages\\sklearn\\model_selection\\_validation.py:615: FitFailedWarning: Estimator fit failed. The score on this train-test partition for these parameters will be set to nan. Details: \n",
      "Traceback (most recent call last):\n",
      "  File \"C:\\Users\\leotm\\anaconda3\\lib\\site-packages\\sklearn\\model_selection\\_validation.py\", line 598, in _fit_and_score\n",
      "    estimator.fit(X_train, y_train, **fit_params)\n",
      "  File \"C:\\Users\\leotm\\anaconda3\\lib\\site-packages\\sklearn\\neural_network\\_multilayer_perceptron.py\", line 673, in fit\n",
      "    return self._fit(X, y, incremental=False)\n",
      "  File \"C:\\Users\\leotm\\anaconda3\\lib\\site-packages\\sklearn\\neural_network\\_multilayer_perceptron.py\", line 357, in _fit\n",
      "    self._validate_hyperparameters()\n",
      "  File \"C:\\Users\\leotm\\anaconda3\\lib\\site-packages\\sklearn\\neural_network\\_multilayer_perceptron.py\", line 448, in _validate_hyperparameters\n",
      "    raise ValueError(\"The activation '%s' is not supported. Supported \"\n",
      "ValueError: The activation 'tahn' is not supported. Supported activations are ['identity', 'logistic', 'relu', 'softmax', 'tanh'].\n",
      "\n",
      "  warnings.warn(\"Estimator fit failed. The score on this train-test\"\n",
      "C:\\Users\\leotm\\anaconda3\\lib\\site-packages\\sklearn\\model_selection\\_search.py:922: UserWarning: One or more of the test scores are non-finite: [0.81910524 0.81918837 0.81873119 0.81910524 0.81857324 0.81871455\n",
      " 0.81870625 0.81756744        nan        nan        nan        nan]\n",
      "  warnings.warn(\n"
     ]
    }
   ],
   "source": [
    "grid_search = GridSearchCV(estimator=MLPClassifier(), param_grid=parametros)\n",
    "grid_search.fit(X, y)\n",
    "melhores_parametros = grid_search.best_params_\n",
    "melhor_resultado = grid_search.best_score_"
   ]
  },
  {
   "cell_type": "code",
   "execution_count": 26,
   "id": "d1d4b149",
   "metadata": {
    "ExecuteTime": {
     "end_time": "2021-06-24T00:39:06.173877Z",
     "start_time": "2021-06-24T00:39:06.154380Z"
    }
   },
   "outputs": [
    {
     "name": "stdout",
     "output_type": "stream",
     "text": [
      "{'activation': 'relu', 'batch_size': 10, 'solver': 'sgd'}\n",
      "0.8191883665868233\n"
     ]
    }
   ],
   "source": [
    "print(melhores_parametros)\n",
    "print(melhor_resultado)"
   ]
  },
  {
   "cell_type": "markdown",
   "id": "8ff14416",
   "metadata": {},
   "source": [
    "## Avaliação do algoritmos\n",
    "    \n",
    "    . Naive Bayes:63.16\n",
    "    . Árvore de decisão:81.28\n",
    "    . Random Forest:81.34\n",
    "    . kNN:80.44\n",
    "    . Regressão logística:81.61\n",
    "    . SVM:81.48\n",
    "    . Redes neurais:81.74\n",
    "    \n",
    "    Com os melhores parametros encontrados pelo GridSearch\n",
    "    \n",
    "        . Árvore de decisão:81.73\n",
    "        . Random Forest:81.86\n",
    "        . kNN:81.43\n",
    "        . Regressão logística:81.75\n",
    "        . Redes Neurais: 81.91\n",
    "    "
   ]
  }
 ],
 "metadata": {
  "kernelspec": {
   "display_name": "Python 3",
   "language": "python",
   "name": "python3"
  },
  "language_info": {
   "codemirror_mode": {
    "name": "ipython",
    "version": 3
   },
   "file_extension": ".py",
   "mimetype": "text/x-python",
   "name": "python",
   "nbconvert_exporter": "python",
   "pygments_lexer": "ipython3",
   "version": "3.8.5"
  }
 },
 "nbformat": 4,
 "nbformat_minor": 5
}
